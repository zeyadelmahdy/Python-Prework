{
 "cells": [
  {
   "cell_type": "code",
   "execution_count": 1,
   "id": "5325b233",
   "metadata": {},
   "outputs": [
    {
     "name": "stdout",
     "output_type": "stream",
     "text": [
      "b is greater\n"
     ]
    }
   ],
   "source": [
    "a = 2 \n",
    "b = 5\n",
    "if a>b: \n",
    "    print('a is greater')\n",
    "else:\n",
    "    print('b is greater')"
   ]
  },
  {
   "cell_type": "code",
   "execution_count": 2,
   "id": "0a0f8c4c",
   "metadata": {},
   "outputs": [
    {
     "ename": "OSError",
     "evalue": "[Errno 22] Invalid argument: 'https://education-team-2020.s3-eu-west-1.amazonaws.com/data-analytics/prework/unit1/conditional_statement_if_else.png'",
     "output_type": "error",
     "traceback": [
      "\u001b[1;31m---------------------------------------------------------------------------\u001b[0m",
      "\u001b[1;31mOSError\u001b[0m                                   Traceback (most recent call last)",
      "\u001b[1;32m<ipython-input-2-aecab1f42581>\u001b[0m in \u001b[0;36m<module>\u001b[1;34m\u001b[0m\n\u001b[0;32m      1\u001b[0m \u001b[1;32mfrom\u001b[0m \u001b[0mIPython\u001b[0m\u001b[1;33m.\u001b[0m\u001b[0mdisplay\u001b[0m \u001b[1;32mimport\u001b[0m \u001b[0mImage\u001b[0m\u001b[1;33m\u001b[0m\u001b[1;33m\u001b[0m\u001b[0m\n\u001b[1;32m----> 2\u001b[1;33m \u001b[0mImage\u001b[0m\u001b[1;33m(\u001b[0m\u001b[0mfilename\u001b[0m \u001b[1;33m=\u001b[0m \u001b[1;34m\"https://education-team-2020.s3-eu-west-1.amazonaws.com/data-analytics/prework/unit1/conditional_statement_if_else.png\"\u001b[0m \u001b[1;33m,\u001b[0m \u001b[0mwidth\u001b[0m\u001b[1;33m=\u001b[0m\u001b[1;36m300\u001b[0m\u001b[1;33m,\u001b[0m \u001b[0mheight\u001b[0m\u001b[1;33m=\u001b[0m\u001b[1;36m300\u001b[0m\u001b[1;33m)\u001b[0m\u001b[1;33m\u001b[0m\u001b[1;33m\u001b[0m\u001b[0m\n\u001b[0m",
      "\u001b[1;32m~\\anaconda3\\lib\\site-packages\\IPython\\core\\display.py\u001b[0m in \u001b[0;36m__init__\u001b[1;34m(self, data, url, filename, format, embed, width, height, retina, unconfined, metadata)\u001b[0m\n\u001b[0;32m   1222\u001b[0m         \u001b[0mself\u001b[0m\u001b[1;33m.\u001b[0m\u001b[0mretina\u001b[0m \u001b[1;33m=\u001b[0m \u001b[0mretina\u001b[0m\u001b[1;33m\u001b[0m\u001b[1;33m\u001b[0m\u001b[0m\n\u001b[0;32m   1223\u001b[0m         \u001b[0mself\u001b[0m\u001b[1;33m.\u001b[0m\u001b[0munconfined\u001b[0m \u001b[1;33m=\u001b[0m \u001b[0munconfined\u001b[0m\u001b[1;33m\u001b[0m\u001b[1;33m\u001b[0m\u001b[0m\n\u001b[1;32m-> 1224\u001b[1;33m         super(Image, self).__init__(data=data, url=url, filename=filename, \n\u001b[0m\u001b[0;32m   1225\u001b[0m                 metadata=metadata)\n\u001b[0;32m   1226\u001b[0m \u001b[1;33m\u001b[0m\u001b[0m\n",
      "\u001b[1;32m~\\anaconda3\\lib\\site-packages\\IPython\\core\\display.py\u001b[0m in \u001b[0;36m__init__\u001b[1;34m(self, data, url, filename, metadata)\u001b[0m\n\u001b[0;32m    628\u001b[0m             \u001b[0mself\u001b[0m\u001b[1;33m.\u001b[0m\u001b[0mmetadata\u001b[0m \u001b[1;33m=\u001b[0m \u001b[1;33m{\u001b[0m\u001b[1;33m}\u001b[0m\u001b[1;33m\u001b[0m\u001b[1;33m\u001b[0m\u001b[0m\n\u001b[0;32m    629\u001b[0m \u001b[1;33m\u001b[0m\u001b[0m\n\u001b[1;32m--> 630\u001b[1;33m         \u001b[0mself\u001b[0m\u001b[1;33m.\u001b[0m\u001b[0mreload\u001b[0m\u001b[1;33m(\u001b[0m\u001b[1;33m)\u001b[0m\u001b[1;33m\u001b[0m\u001b[1;33m\u001b[0m\u001b[0m\n\u001b[0m\u001b[0;32m    631\u001b[0m         \u001b[0mself\u001b[0m\u001b[1;33m.\u001b[0m\u001b[0m_check_data\u001b[0m\u001b[1;33m(\u001b[0m\u001b[1;33m)\u001b[0m\u001b[1;33m\u001b[0m\u001b[1;33m\u001b[0m\u001b[0m\n\u001b[0;32m    632\u001b[0m \u001b[1;33m\u001b[0m\u001b[0m\n",
      "\u001b[1;32m~\\anaconda3\\lib\\site-packages\\IPython\\core\\display.py\u001b[0m in \u001b[0;36mreload\u001b[1;34m(self)\u001b[0m\n\u001b[0;32m   1254\u001b[0m         \u001b[1;34m\"\"\"Reload the raw data from file or URL.\"\"\"\u001b[0m\u001b[1;33m\u001b[0m\u001b[1;33m\u001b[0m\u001b[0m\n\u001b[0;32m   1255\u001b[0m         \u001b[1;32mif\u001b[0m \u001b[0mself\u001b[0m\u001b[1;33m.\u001b[0m\u001b[0membed\u001b[0m\u001b[1;33m:\u001b[0m\u001b[1;33m\u001b[0m\u001b[1;33m\u001b[0m\u001b[0m\n\u001b[1;32m-> 1256\u001b[1;33m             \u001b[0msuper\u001b[0m\u001b[1;33m(\u001b[0m\u001b[0mImage\u001b[0m\u001b[1;33m,\u001b[0m\u001b[0mself\u001b[0m\u001b[1;33m)\u001b[0m\u001b[1;33m.\u001b[0m\u001b[0mreload\u001b[0m\u001b[1;33m(\u001b[0m\u001b[1;33m)\u001b[0m\u001b[1;33m\u001b[0m\u001b[1;33m\u001b[0m\u001b[0m\n\u001b[0m\u001b[0;32m   1257\u001b[0m             \u001b[1;32mif\u001b[0m \u001b[0mself\u001b[0m\u001b[1;33m.\u001b[0m\u001b[0mretina\u001b[0m\u001b[1;33m:\u001b[0m\u001b[1;33m\u001b[0m\u001b[1;33m\u001b[0m\u001b[0m\n\u001b[0;32m   1258\u001b[0m                 \u001b[0mself\u001b[0m\u001b[1;33m.\u001b[0m\u001b[0m_retina_shape\u001b[0m\u001b[1;33m(\u001b[0m\u001b[1;33m)\u001b[0m\u001b[1;33m\u001b[0m\u001b[1;33m\u001b[0m\u001b[0m\n",
      "\u001b[1;32m~\\anaconda3\\lib\\site-packages\\IPython\\core\\display.py\u001b[0m in \u001b[0;36mreload\u001b[1;34m(self)\u001b[0m\n\u001b[0;32m    653\u001b[0m         \u001b[1;34m\"\"\"Reload the raw data from file or URL.\"\"\"\u001b[0m\u001b[1;33m\u001b[0m\u001b[1;33m\u001b[0m\u001b[0m\n\u001b[0;32m    654\u001b[0m         \u001b[1;32mif\u001b[0m \u001b[0mself\u001b[0m\u001b[1;33m.\u001b[0m\u001b[0mfilename\u001b[0m \u001b[1;32mis\u001b[0m \u001b[1;32mnot\u001b[0m \u001b[1;32mNone\u001b[0m\u001b[1;33m:\u001b[0m\u001b[1;33m\u001b[0m\u001b[1;33m\u001b[0m\u001b[0m\n\u001b[1;32m--> 655\u001b[1;33m             \u001b[1;32mwith\u001b[0m \u001b[0mopen\u001b[0m\u001b[1;33m(\u001b[0m\u001b[0mself\u001b[0m\u001b[1;33m.\u001b[0m\u001b[0mfilename\u001b[0m\u001b[1;33m,\u001b[0m \u001b[0mself\u001b[0m\u001b[1;33m.\u001b[0m\u001b[0m_read_flags\u001b[0m\u001b[1;33m)\u001b[0m \u001b[1;32mas\u001b[0m \u001b[0mf\u001b[0m\u001b[1;33m:\u001b[0m\u001b[1;33m\u001b[0m\u001b[1;33m\u001b[0m\u001b[0m\n\u001b[0m\u001b[0;32m    656\u001b[0m                 \u001b[0mself\u001b[0m\u001b[1;33m.\u001b[0m\u001b[0mdata\u001b[0m \u001b[1;33m=\u001b[0m \u001b[0mf\u001b[0m\u001b[1;33m.\u001b[0m\u001b[0mread\u001b[0m\u001b[1;33m(\u001b[0m\u001b[1;33m)\u001b[0m\u001b[1;33m\u001b[0m\u001b[1;33m\u001b[0m\u001b[0m\n\u001b[0;32m    657\u001b[0m         \u001b[1;32melif\u001b[0m \u001b[0mself\u001b[0m\u001b[1;33m.\u001b[0m\u001b[0murl\u001b[0m \u001b[1;32mis\u001b[0m \u001b[1;32mnot\u001b[0m \u001b[1;32mNone\u001b[0m\u001b[1;33m:\u001b[0m\u001b[1;33m\u001b[0m\u001b[1;33m\u001b[0m\u001b[0m\n",
      "\u001b[1;31mOSError\u001b[0m: [Errno 22] Invalid argument: 'https://education-team-2020.s3-eu-west-1.amazonaws.com/data-analytics/prework/unit1/conditional_statement_if_else.png'"
     ]
    }
   ],
   "source": [
    "from IPython.display import Image\n",
    "Image(filename = \"https://education-team-2020.s3-eu-west-1.amazonaws.com/data-analytics/prework/unit1/conditional_statement_if_else.png\" , width=300, height=300)"
   ]
  },
  {
   "cell_type": "code",
   "execution_count": 3,
   "id": "4c63ac70",
   "metadata": {},
   "outputs": [
    {
     "name": "stdout",
     "output_type": "stream",
     "text": [
      "a is greater\n"
     ]
    }
   ],
   "source": [
    "a = 5 \n",
    "b = 2 \n",
    "if a>b: \n",
    "    print ('a is greater')\n",
    "elif b>a: \n",
    "    print ('b is greater')\n",
    "else: \n",
    "    print ('they both are equal')"
   ]
  },
  {
   "cell_type": "code",
   "execution_count": 4,
   "id": "0a253f60",
   "metadata": {},
   "outputs": [
    {
     "name": "stdout",
     "output_type": "stream",
     "text": [
      "a is greater\n",
      "value of a is 5\n",
      "value of b is 2\n"
     ]
    }
   ],
   "source": [
    "if a>b: \n",
    "    print('a is greater')\n",
    "    print ('value of a is',a)\n",
    "    print ('value of b is',b)"
   ]
  },
  {
   "cell_type": "code",
   "execution_count": 5,
   "id": "f6a07c67",
   "metadata": {},
   "outputs": [
    {
     "name": "stdout",
     "output_type": "stream",
     "text": [
      "a is greater\n",
      "value of a is 5\n",
      "value of b is 2\n"
     ]
    }
   ],
   "source": [
    "if a>b: \n",
    "    print('a is greater')\n",
    "    print ('value of a is',a)\n",
    "    print ('value of b is',b)\n",
    "elif b>a:\n",
    "    print ('value of a is',a)\n",
    "    print ('value of b is',b)\n",
    "else: \n",
    "    print ('they both are the same')"
   ]
  },
  {
   "cell_type": "code",
   "execution_count": 6,
   "id": "c972a05c",
   "metadata": {},
   "outputs": [
    {
     "name": "stdout",
     "output_type": "stream",
     "text": [
      "value of a is 10\n",
      "value of b is 50\n"
     ]
    }
   ],
   "source": [
    "a = 10 \n",
    "b = 50\n",
    "\n",
    "if a>b: \n",
    "    print('a is greater')\n",
    "    print ('value of a is',a)\n",
    "    print ('value of b is',b)\n",
    "elif b>a:\n",
    "    print ('value of a is',a)\n",
    "    print ('value of b is',b)\n",
    "else: \n",
    "    print ('they both are the same')"
   ]
  },
  {
   "cell_type": "code",
   "execution_count": 7,
   "id": "3738b7fa",
   "metadata": {},
   "outputs": [
    {
     "name": "stdout",
     "output_type": "stream",
     "text": [
      "they both are the same\n"
     ]
    }
   ],
   "source": [
    "a = 10\n",
    "b = 10 \n",
    "if a>b: \n",
    "    print('a is greater')\n",
    "    print ('value of a is',a)\n",
    "    print ('value of b is',b)\n",
    "elif b>a:\n",
    "    print ('b is greater')\n",
    "    print ('value of a is',a)\n",
    "    print ('value of b is',b)\n",
    "else: \n",
    "    print ('they both are the same')"
   ]
  },
  {
   "cell_type": "code",
   "execution_count": 8,
   "id": "5cf9dfb9",
   "metadata": {},
   "outputs": [
    {
     "name": "stdout",
     "output_type": "stream",
     "text": [
      "c is the greatest\n"
     ]
    }
   ],
   "source": [
    "a = 5 \n",
    "b = 10 \n",
    "c = 20 \n",
    "if a>b and a>c:\n",
    "    print('a is the greatest')\n",
    "elif b>a and b>c: \n",
    "    print('b is the greatest')\n",
    "elif c>a and c>b: \n",
    "    print('c is the greatest')\n",
    "else: \n",
    "    print('there is a tie somewhere')\n",
    "    "
   ]
  },
  {
   "cell_type": "code",
   "execution_count": 11,
   "id": "0f9267f5",
   "metadata": {},
   "outputs": [
    {
     "name": "stdout",
     "output_type": "stream",
     "text": [
      "b is greater\n"
     ]
    }
   ],
   "source": [
    "a = 10\n",
    "b = 20 \n",
    "if a!=b:\n",
    "    if a>b:\n",
    "        print(\"a is greater\")\n",
    "    else:\n",
    "        print(\"b is greater\")\n",
    "else: \n",
    "    print(\"they are both equal\")"
   ]
  },
  {
   "cell_type": "code",
   "execution_count": 12,
   "id": "45351b3f",
   "metadata": {},
   "outputs": [
    {
     "name": "stdout",
     "output_type": "stream",
     "text": [
      "please enter value for a here30\n",
      "please enter value for b here40\n",
      "b is greater\n"
     ]
    }
   ],
   "source": [
    "a = int(input(\"please enter value for a here\"))\n",
    "b = int(input(\"please enter value for b here\"))\n",
    "if a!=b:\n",
    "    if a>b:\n",
    "        print(\"a is greater\")\n",
    "    else:\n",
    "        print(\"b is greater\")\n",
    "else: \n",
    "    print(\"they are both equal\")"
   ]
  },
  {
   "cell_type": "code",
   "execution_count": 14,
   "id": "d182d65e",
   "metadata": {},
   "outputs": [
    {
     "name": "stdout",
     "output_type": "stream",
     "text": [
      "enter the number: 1\n",
      "enter the second number: 2\n",
      "b is greater\n"
     ]
    }
   ],
   "source": [
    "a = input(\"enter the number: \")\n",
    "b = input(\"enter the second number: \")\n",
    "\n",
    "if a.replace('.','',1) and b.replace('.','',1).isdigit(): \n",
    "    a = float (a)\n",
    "    b = float (b)\n",
    "\n",
    "    if a!=b:\n",
    "        if a>b:\n",
    "             print(\"a is greater\")\n",
    "        else:\n",
    "             print(\"b is greater\")\n",
    "    else: \n",
    "        print(\"they are both equal\")\n",
    "else: \n",
    "    print('integers were not entered')"
   ]
  },
  {
   "cell_type": "code",
   "execution_count": 15,
   "id": "b51791b4",
   "metadata": {},
   "outputs": [
    {
     "name": "stdout",
     "output_type": "stream",
     "text": [
      "enter the number: hamada\n",
      "enter the second number: edy\n",
      "integers were not entered\n"
     ]
    }
   ],
   "source": [
    "a = input(\"enter the number: \")\n",
    "b = input(\"enter the second number: \")\n",
    "\n",
    "if a.replace('.','',1) and b.replace('.','',1).isdigit(): \n",
    "    a = float (a)\n",
    "    b = float (b)\n",
    "\n",
    "    if a!=b:\n",
    "        if a>b:\n",
    "             print(\"a is greater\")\n",
    "        else:\n",
    "             print(\"b is greater\")\n",
    "    else: \n",
    "        print(\"they are both equal\")\n",
    "else: \n",
    "    print('integers were not entered')"
   ]
  },
  {
   "cell_type": "code",
   "execution_count": 16,
   "id": "a0eecf9c",
   "metadata": {},
   "outputs": [
    {
     "name": "stdout",
     "output_type": "stream",
     "text": [
      "enter the number: .\n",
      "enter the second number: .\n",
      "integers were not entered\n"
     ]
    }
   ],
   "source": [
    "a = input(\"enter the number: \")\n",
    "b = input(\"enter the second number: \")\n",
    "\n",
    "if a.replace('.','',1) and b.replace('.','',1).isdigit(): \n",
    "    a = float (a)\n",
    "    b = float (b)\n",
    "\n",
    "    if a!=b:\n",
    "        if a>b:\n",
    "             print(\"a is greater\")\n",
    "        else:\n",
    "             print(\"b is greater\")\n",
    "    else: \n",
    "        print(\"they are both equal\")\n",
    "else: \n",
    "    print('integers were not entered')"
   ]
  },
  {
   "cell_type": "code",
   "execution_count": 17,
   "id": "0c12c00e",
   "metadata": {},
   "outputs": [
    {
     "name": "stdout",
     "output_type": "stream",
     "text": [
      "enter the number: 1\n",
      "enter the second number: 1\n",
      "they are both equal\n"
     ]
    }
   ],
   "source": [
    "a = input(\"enter the number: \")\n",
    "b = input(\"enter the second number: \")\n",
    "\n",
    "if a.replace('.','',1) and b.replace('.','',1).isdigit(): \n",
    "    a = float (a)\n",
    "    b = float (b)\n",
    "\n",
    "    if a!=b:\n",
    "        if a>b:\n",
    "             print(\"a is greater\")\n",
    "        else:\n",
    "             print(\"b is greater\")\n",
    "    else: \n",
    "        print(\"they are both equal\")\n",
    "else: \n",
    "    print('integers were not entered')"
   ]
  },
  {
   "cell_type": "code",
   "execution_count": 22,
   "id": "a2055e89",
   "metadata": {},
   "outputs": [
    {
     "name": "stdout",
     "output_type": "stream",
     "text": [
      "first number here2\n"
     ]
    },
    {
     "ename": "TypeError",
     "evalue": "not all arguments converted during string formatting",
     "output_type": "error",
     "traceback": [
      "\u001b[1;31m---------------------------------------------------------------------------\u001b[0m",
      "\u001b[1;31mTypeError\u001b[0m                                 Traceback (most recent call last)",
      "\u001b[1;32m<ipython-input-22-a89520651eb9>\u001b[0m in \u001b[0;36m<module>\u001b[1;34m\u001b[0m\n\u001b[0;32m      1\u001b[0m \u001b[0mx\u001b[0m \u001b[1;33m=\u001b[0m \u001b[0minput\u001b[0m\u001b[1;33m(\u001b[0m\u001b[1;34m\"first number here\"\u001b[0m\u001b[1;33m)\u001b[0m\u001b[1;33m\u001b[0m\u001b[1;33m\u001b[0m\u001b[0m\n\u001b[0;32m      2\u001b[0m \u001b[1;33m\u001b[0m\u001b[0m\n\u001b[1;32m----> 3\u001b[1;33m \u001b[1;32mif\u001b[0m \u001b[1;33m(\u001b[0m\u001b[0mx\u001b[0m \u001b[1;33m%\u001b[0m \u001b[1;36m2\u001b[0m\u001b[1;33m)\u001b[0m \u001b[1;33m==\u001b[0m \u001b[1;36m0\u001b[0m\u001b[1;33m:\u001b[0m\u001b[1;33m\u001b[0m\u001b[1;33m\u001b[0m\u001b[0m\n\u001b[0m\u001b[0;32m      4\u001b[0m     \u001b[0mprint\u001b[0m\u001b[1;33m(\u001b[0m\u001b[1;34m\"even number\"\u001b[0m\u001b[1;33m)\u001b[0m\u001b[1;33m\u001b[0m\u001b[1;33m\u001b[0m\u001b[0m\n\u001b[0;32m      5\u001b[0m \u001b[1;32melse\u001b[0m\u001b[1;33m:\u001b[0m\u001b[1;33m\u001b[0m\u001b[1;33m\u001b[0m\u001b[0m\n",
      "\u001b[1;31mTypeError\u001b[0m: not all arguments converted during string formatting"
     ]
    }
   ],
   "source": [
    "x = input(\"first number here\")\n",
    "\n",
    "if (x % 2) == 0: \n",
    "    print(\"even number\")\n",
    "else: \n",
    "    print(\"odd number\")"
   ]
  },
  {
   "cell_type": "code",
   "execution_count": 23,
   "id": "fa9dab29",
   "metadata": {},
   "outputs": [
    {
     "name": "stdout",
     "output_type": "stream",
     "text": [
      "Enter first number here: 10\n",
      "Enter second number here: 20\n",
      "Even number\n"
     ]
    }
   ],
   "source": [
    "a = int(input(\"Enter first number here: \"))\n",
    "b = int(input(\"Enter second number here: \"))\n",
    "if (a % 2) == 0:\n",
    "    print (\"Even number\")\n",
    "else: \n",
    "    print (\"Odd number\")\n"
   ]
  },
  {
   "cell_type": "code",
   "execution_count": 24,
   "id": "f4017fd0",
   "metadata": {},
   "outputs": [
    {
     "ename": "SyntaxError",
     "evalue": "invalid syntax (<ipython-input-24-cfbd9f5fc8d0>, line 2)",
     "output_type": "error",
     "traceback": [
      "\u001b[1;36m  File \u001b[1;32m\"<ipython-input-24-cfbd9f5fc8d0>\"\u001b[1;36m, line \u001b[1;32m2\u001b[0m\n\u001b[1;33m    if a>0\u001b[0m\n\u001b[1;37m          ^\u001b[0m\n\u001b[1;31mSyntaxError\u001b[0m\u001b[1;31m:\u001b[0m invalid syntax\n"
     ]
    }
   ],
   "source": [
    "a = int(input(\"Enter first number here: \"))\n",
    "if a>0\n",
    "    print (\"Positive number\")\n",
    "else: \n",
    "    print (\"Negative number\")\n"
   ]
  },
  {
   "cell_type": "code",
   "execution_count": 26,
   "id": "421e7f38",
   "metadata": {},
   "outputs": [
    {
     "ename": "SyntaxError",
     "evalue": "invalid syntax (<ipython-input-26-b1dffe4d0e21>, line 2)",
     "output_type": "error",
     "traceback": [
      "\u001b[1;36m  File \u001b[1;32m\"<ipython-input-26-b1dffe4d0e21>\"\u001b[1;36m, line \u001b[1;32m2\u001b[0m\n\u001b[1;33m    if (a > 0)\u001b[0m\n\u001b[1;37m               ^\u001b[0m\n\u001b[1;31mSyntaxError\u001b[0m\u001b[1;31m:\u001b[0m invalid syntax\n"
     ]
    }
   ],
   "source": [
    "a = float(input(\"Enter first number here: \"))\n",
    "if a > 0 \n",
    "    print (\"Even number\")\n",
    "else: \n",
    "    print (\"Odd number\")\n"
   ]
  },
  {
   "cell_type": "code",
   "execution_count": 27,
   "id": "3c1df464",
   "metadata": {},
   "outputs": [
    {
     "ename": "SyntaxError",
     "evalue": "invalid syntax (<ipython-input-27-fc0ef8d8bee8>, line 2)",
     "output_type": "error",
     "traceback": [
      "\u001b[1;36m  File \u001b[1;32m\"<ipython-input-27-fc0ef8d8bee8>\"\u001b[1;36m, line \u001b[1;32m2\u001b[0m\n\u001b[1;33m    if a > 0\u001b[0m\n\u001b[1;37m             ^\u001b[0m\n\u001b[1;31mSyntaxError\u001b[0m\u001b[1;31m:\u001b[0m invalid syntax\n"
     ]
    }
   ],
   "source": [
    "a = float(input(\"Enter first number here: \"))\n",
    "if a > 0 \n",
    "    print (\"Even number\")\n",
    "else: \n",
    "    print (\"Odd number\")\n"
   ]
  },
  {
   "cell_type": "code",
   "execution_count": 28,
   "id": "96caa770",
   "metadata": {},
   "outputs": [
    {
     "name": "stdout",
     "output_type": "stream",
     "text": [
      "Enter first number here: 10\n",
      "Even number\n"
     ]
    }
   ],
   "source": [
    "a = float(input(\"Enter first number here: \"))\n",
    "if a > 0:\n",
    "    print (\"Even number\")\n",
    "else: \n",
    "    print (\"Odd number\")\n"
   ]
  },
  {
   "cell_type": "code",
   "execution_count": 29,
   "id": "0ae035d2",
   "metadata": {},
   "outputs": [
    {
     "ename": "SyntaxError",
     "evalue": "invalid syntax (<ipython-input-29-8f95ea62a9ea>, line 2)",
     "output_type": "error",
     "traceback": [
      "\u001b[1;36m  File \u001b[1;32m\"<ipython-input-29-8f95ea62a9ea>\"\u001b[1;36m, line \u001b[1;32m2\u001b[0m\n\u001b[1;33m    if a > 0\u001b[0m\n\u001b[1;37m             ^\u001b[0m\n\u001b[1;31mSyntaxError\u001b[0m\u001b[1;31m:\u001b[0m invalid syntax\n"
     ]
    }
   ],
   "source": [
    "a = float(input(\"Enter first number here: \"))\n",
    "if a > 0 \n",
    "    print (\"Positive number\")\n",
    "elif a = 0: \n",
    "    print (\"zero\")\n",
    "else: \n",
    "    print (\"Negative number\")\n"
   ]
  },
  {
   "cell_type": "code",
   "execution_count": 31,
   "id": "88de23d6",
   "metadata": {},
   "outputs": [
    {
     "name": "stdout",
     "output_type": "stream",
     "text": [
      "Enter first number here: 0\n",
      "zero\n"
     ]
    }
   ],
   "source": [
    "a = float(input(\"Enter first number here: \"))\n",
    "if a > 0:\n",
    "    print (\"Positive number\")\n",
    "elif a < 0: \n",
    "    print (\"Negative number\")\n",
    "else:\n",
    "    print (\"zero\")"
   ]
  },
  {
   "cell_type": "code",
   "execution_count": 32,
   "id": "769e2830",
   "metadata": {},
   "outputs": [
    {
     "name": "stdout",
     "output_type": "stream",
     "text": [
      "Enter first number here: -20\n",
      "Negative number\n"
     ]
    }
   ],
   "source": [
    "a = float(input(\"Enter first number here: \"))\n",
    "if a > 0:\n",
    "    print (\"Positive number\")\n",
    "elif a < 0: \n",
    "    print (\"Negative number\")\n",
    "else:\n",
    "    print (\"zero\")"
   ]
  },
  {
   "cell_type": "code",
   "execution_count": 33,
   "id": "323bd90b",
   "metadata": {},
   "outputs": [
    {
     "name": "stdout",
     "output_type": "stream",
     "text": [
      "Enter first number here: 0.18\n",
      "Positive number\n"
     ]
    }
   ],
   "source": [
    "a = float(input(\"Enter first number here: \"))\n",
    "if a > 0:\n",
    "    print (\"Positive number\")\n",
    "elif a < 0: \n",
    "    print (\"Negative number\")\n",
    "else:\n",
    "    print (\"zero\")"
   ]
  },
  {
   "cell_type": "code",
   "execution_count": 34,
   "id": "89f93c01",
   "metadata": {},
   "outputs": [
    {
     "name": "stdout",
     "output_type": "stream",
     "text": [
      "Enter first number here: 0.18\n"
     ]
    },
    {
     "ename": "ValueError",
     "evalue": "invalid literal for int() with base 10: '0.18'",
     "output_type": "error",
     "traceback": [
      "\u001b[1;31m---------------------------------------------------------------------------\u001b[0m",
      "\u001b[1;31mValueError\u001b[0m                                Traceback (most recent call last)",
      "\u001b[1;32m<ipython-input-34-37a47c8c5df7>\u001b[0m in \u001b[0;36m<module>\u001b[1;34m\u001b[0m\n\u001b[1;32m----> 1\u001b[1;33m \u001b[0ma\u001b[0m \u001b[1;33m=\u001b[0m \u001b[0mint\u001b[0m\u001b[1;33m(\u001b[0m\u001b[0minput\u001b[0m\u001b[1;33m(\u001b[0m\u001b[1;34m\"Enter first number here: \"\u001b[0m\u001b[1;33m)\u001b[0m\u001b[1;33m)\u001b[0m\u001b[1;33m\u001b[0m\u001b[1;33m\u001b[0m\u001b[0m\n\u001b[0m\u001b[0;32m      2\u001b[0m \u001b[1;32mif\u001b[0m \u001b[0ma\u001b[0m \u001b[1;33m>\u001b[0m \u001b[1;36m0\u001b[0m\u001b[1;33m:\u001b[0m\u001b[1;33m\u001b[0m\u001b[1;33m\u001b[0m\u001b[0m\n\u001b[0;32m      3\u001b[0m     \u001b[0mprint\u001b[0m \u001b[1;33m(\u001b[0m\u001b[1;34m\"Positive number\"\u001b[0m\u001b[1;33m)\u001b[0m\u001b[1;33m\u001b[0m\u001b[1;33m\u001b[0m\u001b[0m\n\u001b[0;32m      4\u001b[0m \u001b[1;32melif\u001b[0m \u001b[0ma\u001b[0m \u001b[1;33m<\u001b[0m \u001b[1;36m0\u001b[0m\u001b[1;33m:\u001b[0m\u001b[1;33m\u001b[0m\u001b[1;33m\u001b[0m\u001b[0m\n\u001b[0;32m      5\u001b[0m     \u001b[0mprint\u001b[0m \u001b[1;33m(\u001b[0m\u001b[1;34m\"Negative number\"\u001b[0m\u001b[1;33m)\u001b[0m\u001b[1;33m\u001b[0m\u001b[1;33m\u001b[0m\u001b[0m\n",
      "\u001b[1;31mValueError\u001b[0m: invalid literal for int() with base 10: '0.18'"
     ]
    }
   ],
   "source": [
    "a = int(input(\"Enter first number here: \"))\n",
    "if a > 0:\n",
    "    print (\"Positive number\")\n",
    "elif a < 0: \n",
    "    print (\"Negative number\")\n",
    "else:\n",
    "    print (\"zero\")"
   ]
  },
  {
   "cell_type": "code",
   "execution_count": 35,
   "id": "0dd6bcd1",
   "metadata": {},
   "outputs": [
    {
     "ename": "SyntaxError",
     "evalue": "invalid syntax (<ipython-input-35-dbba8aa01ca2>, line 4)",
     "output_type": "error",
     "traceback": [
      "\u001b[1;36m  File \u001b[1;32m\"<ipython-input-35-dbba8aa01ca2>\"\u001b[1;36m, line \u001b[1;32m4\u001b[0m\n\u001b[1;33m    elif a>= 25 and <45:\u001b[0m\n\u001b[1;37m                    ^\u001b[0m\n\u001b[1;31mSyntaxError\u001b[0m\u001b[1;31m:\u001b[0m invalid syntax\n"
     ]
    }
   ],
   "source": [
    "a = int(input(\"Enter your grades here\"))\n",
    "if a < 25: \n",
    "    print (\"F\")\n",
    "elif a>= 25 and < 45: \n",
    "    print (\"E\")\n",
    "elif a>= 45 and < 60: \n",
    "    print(\"D\")\n",
    "elif a>= 60 and < 75:\n",
    "    print(\"C\")\n",
    "elif a>= 75 and < 90\n",
    "\n"
   ]
  },
  {
   "cell_type": "code",
   "execution_count": 36,
   "id": "4771923b",
   "metadata": {},
   "outputs": [
    {
     "ename": "SyntaxError",
     "evalue": "invalid syntax (<ipython-input-36-32d25247df81>, line 4)",
     "output_type": "error",
     "traceback": [
      "\u001b[1;36m  File \u001b[1;32m\"<ipython-input-36-32d25247df81>\"\u001b[1;36m, line \u001b[1;32m4\u001b[0m\n\u001b[1;33m    elif a >= 25 and < 45:\u001b[0m\n\u001b[1;37m                     ^\u001b[0m\n\u001b[1;31mSyntaxError\u001b[0m\u001b[1;31m:\u001b[0m invalid syntax\n"
     ]
    }
   ],
   "source": [
    "a = int(input(\"Enter your grades here\"))\n",
    "if a < 25: \n",
    "    print (\"F\")\n",
    "elif a >= 25 and a < 45: \n",
    "    print (\"E\")\n",
    "elif a >= 45 and a < 60: \n",
    "    print(\"D\")\n",
    "elif a >= 60 and a < 75:\n",
    "    print(\"C\")\n",
    "elif a >= 75 and a <= 90:\n",
    "    print(\"B\")\n",
    "elif a> 90:\n",
    "    print(\"A\")\n"
   ]
  },
  {
   "cell_type": "code",
   "execution_count": 37,
   "id": "f3cadfed",
   "metadata": {},
   "outputs": [
    {
     "name": "stdout",
     "output_type": "stream",
     "text": [
      "Enter your grades here65\n",
      "C\n"
     ]
    }
   ],
   "source": [
    "a = int(input(\"Enter your grades here: \"))\n",
    "if a < 25: \n",
    "    print (\"F\")\n",
    "elif a >= 25 and a < 45: \n",
    "    print (\"E\")\n",
    "elif a >= 45 and a < 60: \n",
    "    print(\"D\")\n",
    "elif a >= 60 and a < 75:\n",
    "    print(\"C\")\n",
    "elif a >= 75 and a <= 90:\n",
    "    print(\"B\")\n",
    "elif a> 90:\n",
    "    print(\"A\")"
   ]
  },
  {
   "cell_type": "code",
   "execution_count": 38,
   "id": "995dc883",
   "metadata": {},
   "outputs": [
    {
     "name": "stdout",
     "output_type": "stream",
     "text": [
      "Enter your grades here: 45.70\n"
     ]
    },
    {
     "ename": "ValueError",
     "evalue": "invalid literal for int() with base 10: '45.70'",
     "output_type": "error",
     "traceback": [
      "\u001b[1;31m---------------------------------------------------------------------------\u001b[0m",
      "\u001b[1;31mValueError\u001b[0m                                Traceback (most recent call last)",
      "\u001b[1;32m<ipython-input-38-cf260b7f461a>\u001b[0m in \u001b[0;36m<module>\u001b[1;34m\u001b[0m\n\u001b[1;32m----> 1\u001b[1;33m \u001b[0ma\u001b[0m \u001b[1;33m=\u001b[0m \u001b[0mint\u001b[0m\u001b[1;33m(\u001b[0m\u001b[0minput\u001b[0m\u001b[1;33m(\u001b[0m\u001b[1;34m\"Enter your grades here: \"\u001b[0m\u001b[1;33m)\u001b[0m\u001b[1;33m)\u001b[0m\u001b[1;33m\u001b[0m\u001b[1;33m\u001b[0m\u001b[0m\n\u001b[0m\u001b[0;32m      2\u001b[0m \u001b[1;32mif\u001b[0m \u001b[0ma\u001b[0m \u001b[1;33m<\u001b[0m \u001b[1;36m25\u001b[0m\u001b[1;33m:\u001b[0m\u001b[1;33m\u001b[0m\u001b[1;33m\u001b[0m\u001b[0m\n\u001b[0;32m      3\u001b[0m     \u001b[0mprint\u001b[0m \u001b[1;33m(\u001b[0m\u001b[1;34m\"F\"\u001b[0m\u001b[1;33m)\u001b[0m\u001b[1;33m\u001b[0m\u001b[1;33m\u001b[0m\u001b[0m\n\u001b[0;32m      4\u001b[0m \u001b[1;32melif\u001b[0m \u001b[0ma\u001b[0m \u001b[1;33m>=\u001b[0m \u001b[1;36m25\u001b[0m \u001b[1;32mand\u001b[0m \u001b[0ma\u001b[0m \u001b[1;33m<\u001b[0m \u001b[1;36m45\u001b[0m\u001b[1;33m:\u001b[0m\u001b[1;33m\u001b[0m\u001b[1;33m\u001b[0m\u001b[0m\n\u001b[0;32m      5\u001b[0m     \u001b[0mprint\u001b[0m \u001b[1;33m(\u001b[0m\u001b[1;34m\"E\"\u001b[0m\u001b[1;33m)\u001b[0m\u001b[1;33m\u001b[0m\u001b[1;33m\u001b[0m\u001b[0m\n",
      "\u001b[1;31mValueError\u001b[0m: invalid literal for int() with base 10: '45.70'"
     ]
    }
   ],
   "source": [
    "a = int(input(\"Enter your grades here: \"))\n",
    "if a < 25: \n",
    "    print (\"F\")\n",
    "elif a >= 25 and a < 45: \n",
    "    print (\"E\")\n",
    "elif a >= 45 and a < 60: \n",
    "    print(\"D\")\n",
    "elif a >= 60 and a < 75:\n",
    "    print(\"C\")\n",
    "elif a >= 75 and a <= 90:\n",
    "    print(\"B\")\n",
    "elif a> 90:\n",
    "    print(\"A\")\n",
    "else: \n",
    "    print(\"Not a valid answer\")"
   ]
  },
  {
   "cell_type": "code",
   "execution_count": 1,
   "id": "ffad0cfa",
   "metadata": {},
   "outputs": [
    {
     "name": "stdout",
     "output_type": "stream",
     "text": [
      "Enter your grades here: 20\n",
      "F\n"
     ]
    }
   ],
   "source": [
    "a = int(input(\"Enter your grades here: \"))\n",
    "if a < 25: \n",
    "    print (\"F\")\n",
    "elif a >= 25 and a < 45: \n",
    "    print (\"E\")\n",
    "elif a >= 45 and a < 60: \n",
    "    print(\"D\")\n",
    "elif a >= 60 and a < 75:\n",
    "    print(\"C\")\n",
    "elif a >= 75 and a <= 90:\n",
    "    print(\"B\")\n",
    "elif a> 90:\n",
    "    print(\"A\")\n",
    "else: \n",
    "    print(\"Not a valid answer\")"
   ]
  },
  {
   "cell_type": "code",
   "execution_count": 2,
   "id": "05ad7496",
   "metadata": {},
   "outputs": [
    {
     "ename": "SyntaxError",
     "evalue": "invalid syntax (<ipython-input-2-f748c9b2531c>, line 18)",
     "output_type": "error",
     "traceback": [
      "\u001b[1;36m  File \u001b[1;32m\"<ipython-input-2-f748c9b2531c>\"\u001b[1;36m, line \u001b[1;32m18\u001b[0m\n\u001b[1;33m    except ValueError:\u001b[0m\n\u001b[1;37m    ^\u001b[0m\n\u001b[1;31mSyntaxError\u001b[0m\u001b[1;31m:\u001b[0m invalid syntax\n"
     ]
    }
   ],
   "source": [
    "a = int(input(\"Enter your grades here: \"))\n",
    "while True: \n",
    "    if a < 25: \n",
    "        print (\"F\")\n",
    "    elif a >= 25 and a < 45: \n",
    "        print (\"E\")\n",
    "    elif a >= 45 and a < 60: \n",
    "         print(\"D\")\n",
    "    elif a >= 60 and a < 75:\n",
    "         print(\"C\")\n",
    "    elif a >= 75 and a <= 90:\n",
    "        print(\"B\")\n",
    "    elif a> 90:\n",
    "        print(\"A\")\n",
    "        break;\n",
    "    else: \n",
    "        print(\"Provide an actual number bro\")\n",
    "    except ValueError:\n",
    "        print:(\"Error - please provide an valid integer number\")\n",
    "    "
   ]
  },
  {
   "cell_type": "code",
   "execution_count": 3,
   "id": "c71ac306",
   "metadata": {},
   "outputs": [
    {
     "ename": "SyntaxError",
     "evalue": "invalid syntax (<ipython-input-3-6da7861124b7>, line 3)",
     "output_type": "error",
     "traceback": [
      "\u001b[1;36m  File \u001b[1;32m\"<ipython-input-3-6da7861124b7>\"\u001b[1;36m, line \u001b[1;32m3\u001b[0m\n\u001b[1;33m    try\u001b[0m\n\u001b[1;37m       ^\u001b[0m\n\u001b[1;31mSyntaxError\u001b[0m\u001b[1;31m:\u001b[0m invalid syntax\n"
     ]
    }
   ],
   "source": [
    "a = int(input(\"Enter your grades here: \"))\n",
    "while True: \n",
    "    try\n",
    "    if a < 25: \n",
    "        print (\"F\")\n",
    "    elif a >= 25 and a < 45: \n",
    "        print (\"E\")\n",
    "    elif a >= 45 and a < 60: \n",
    "         print(\"D\")\n",
    "    elif a >= 60 and a < 75:\n",
    "         print(\"C\")\n",
    "    elif a >= 75 and a <= 90:\n",
    "        print(\"B\")\n",
    "    elif a> 90:\n",
    "        print(\"A\")\n",
    "        break;\n",
    "    else: \n",
    "        print(\"Provide an actual number bro\")\n",
    "except ValueError:\n",
    "    print:(\"Error - please provide an valid integer number\")"
   ]
  },
  {
   "cell_type": "code",
   "execution_count": 4,
   "id": "eb51c0ef",
   "metadata": {},
   "outputs": [
    {
     "ename": "IndentationError",
     "evalue": "expected an indented block (<ipython-input-4-95b628df8536>, line 4)",
     "output_type": "error",
     "traceback": [
      "\u001b[1;36m  File \u001b[1;32m\"<ipython-input-4-95b628df8536>\"\u001b[1;36m, line \u001b[1;32m4\u001b[0m\n\u001b[1;33m    if a < 25:\u001b[0m\n\u001b[1;37m    ^\u001b[0m\n\u001b[1;31mIndentationError\u001b[0m\u001b[1;31m:\u001b[0m expected an indented block\n"
     ]
    }
   ],
   "source": [
    "a = int(input(\"Enter your grades here: \"))\n",
    "while True: \n",
    "    try:\n",
    "    if a < 25: \n",
    "        print (\"F\")\n",
    "    elif a >= 25 and a < 45: \n",
    "        print (\"E\")\n",
    "    elif a >= 45 and a < 60: \n",
    "         print(\"D\")\n",
    "    elif a >= 60 and a < 75:\n",
    "         print(\"C\")\n",
    "    elif a >= 75 and a <= 90:\n",
    "        print(\"B\")\n",
    "    elif a> 90:\n",
    "        print(\"A\")\n",
    "        break;\n",
    "    else: \n",
    "        print(\"Provide an actual number bro\")\n",
    "except ValueError:\n",
    "    print:(\"Error - please provide an valid integer number\")"
   ]
  },
  {
   "cell_type": "code",
   "execution_count": 6,
   "id": "e5e7ce91",
   "metadata": {},
   "outputs": [
    {
     "ename": "IndentationError",
     "evalue": "unindent does not match any outer indentation level (<tokenize>, line 5)",
     "output_type": "error",
     "traceback": [
      "\u001b[1;36m  File \u001b[1;32m\"<tokenize>\"\u001b[1;36m, line \u001b[1;32m5\u001b[0m\n\u001b[1;33m    elif a >= 25 and a < 45:\u001b[0m\n\u001b[1;37m    ^\u001b[0m\n\u001b[1;31mIndentationError\u001b[0m\u001b[1;31m:\u001b[0m unindent does not match any outer indentation level\n"
     ]
    }
   ],
   "source": [
    "t(input(\"Enter your grades here: \"))\n",
    "while True: \n",
    "        if a < 25: \n",
    "        print (\"F\")\n",
    "    elif a >= 25 and a < 45: \n",
    "        print (\"E\")\n",
    "    elif a >= 45 and a < 60: \n",
    "         print(\"D\")\n",
    "    elif a >= 60 and a < 75:\n",
    "         print(\"C\")\n",
    "    elif a >= 75 and a <= 90:\n",
    "        print(\"B\")\n",
    "    elif a> 90:\n",
    "        print(\"A\")\n",
    "        break;\n",
    "    else: \n",
    "        print(\"Provide an actual number bro\")\n",
    "except ValueError:\n",
    "    print:(\"Error - please provide an valid integer number\")"
   ]
  },
  {
   "cell_type": "code",
   "execution_count": 7,
   "id": "4fcb7647",
   "metadata": {},
   "outputs": [
    {
     "ename": "SyntaxError",
     "evalue": "invalid syntax (<ipython-input-7-978930e27d2f>, line 18)",
     "output_type": "error",
     "traceback": [
      "\u001b[1;36m  File \u001b[1;32m\"<ipython-input-7-978930e27d2f>\"\u001b[1;36m, line \u001b[1;32m18\u001b[0m\n\u001b[1;33m    except ValueError:\u001b[0m\n\u001b[1;37m    ^\u001b[0m\n\u001b[1;31mSyntaxError\u001b[0m\u001b[1;31m:\u001b[0m invalid syntax\n"
     ]
    }
   ],
   "source": [
    "a = int(input(\"Enter your grades here: \"))\n",
    "while True: \n",
    "    try: \n",
    "        if a < 25: \n",
    "            print (\"F\")\n",
    "        elif a >= 25 and a < 45: \n",
    "            print (\"E\")\n",
    "        elif a >= 45 and a < 60: \n",
    "            print(\"D\")\n",
    "        elif a >= 60 and a < 75:\n",
    "            print(\"C\")\n",
    "        elif a >= 75 and a <= 90:\n",
    "            print(\"B\")\n",
    "        elif a> 90:\n",
    "            print(\"A\")\n",
    "            break;\n",
    "        else: \n",
    "        print(\"Provide an actual number bro\")\n",
    "    except ValueError:\n",
    "        print:(\"Error - please provide an valid integer number\")"
   ]
  },
  {
   "cell_type": "code",
   "execution_count": 8,
   "id": "3377d98e",
   "metadata": {},
   "outputs": [
    {
     "ename": "IndentationError",
     "evalue": "expected an indented block (<ipython-input-8-48a99a259021>, line 18)",
     "output_type": "error",
     "traceback": [
      "\u001b[1;36m  File \u001b[1;32m\"<ipython-input-8-48a99a259021>\"\u001b[1;36m, line \u001b[1;32m18\u001b[0m\n\u001b[1;33m    print(\"Provide an actual number bro\")\u001b[0m\n\u001b[1;37m    ^\u001b[0m\n\u001b[1;31mIndentationError\u001b[0m\u001b[1;31m:\u001b[0m expected an indented block\n"
     ]
    }
   ],
   "source": [
    "a = int(input(\"Enter your grades here: \"))\n",
    "while True: \n",
    "    try: \n",
    "        if a < 25: \n",
    "            print (\"F\")\n",
    "        elif a >= 25 and a < 45: \n",
    "            print (\"E\")\n",
    "        elif a >= 45 and a < 60: \n",
    "            print(\"D\")\n",
    "        elif a >= 60 and a < 75:\n",
    "            print(\"C\")\n",
    "        elif a >= 75 and a <= 90:\n",
    "            print(\"B\")\n",
    "        elif a> 90:\n",
    "            print(\"A\")\n",
    "            break;\n",
    "        else: \n",
    "        print(\"Provide an actual number bro\")\n",
    "    except ValueError:\n",
    "        print:(\"Error - please provide an valid integer number\")"
   ]
  },
  {
   "cell_type": "code",
   "execution_count": 9,
   "id": "ad3f3563",
   "metadata": {},
   "outputs": [
    {
     "name": "stdout",
     "output_type": "stream",
     "text": [
      "Enter your grades here: 20.5\n"
     ]
    },
    {
     "ename": "ValueError",
     "evalue": "invalid literal for int() with base 10: '20.5'",
     "output_type": "error",
     "traceback": [
      "\u001b[1;31m---------------------------------------------------------------------------\u001b[0m",
      "\u001b[1;31mValueError\u001b[0m                                Traceback (most recent call last)",
      "\u001b[1;32m<ipython-input-9-a8896cd8fc2c>\u001b[0m in \u001b[0;36m<module>\u001b[1;34m\u001b[0m\n\u001b[1;32m----> 1\u001b[1;33m \u001b[0ma\u001b[0m \u001b[1;33m=\u001b[0m \u001b[0mint\u001b[0m\u001b[1;33m(\u001b[0m\u001b[0minput\u001b[0m\u001b[1;33m(\u001b[0m\u001b[1;34m\"Enter your grades here: \"\u001b[0m\u001b[1;33m)\u001b[0m\u001b[1;33m)\u001b[0m\u001b[1;33m\u001b[0m\u001b[1;33m\u001b[0m\u001b[0m\n\u001b[0m\u001b[0;32m      2\u001b[0m \u001b[1;32mwhile\u001b[0m \u001b[1;32mTrue\u001b[0m\u001b[1;33m:\u001b[0m\u001b[1;33m\u001b[0m\u001b[1;33m\u001b[0m\u001b[0m\n\u001b[0;32m      3\u001b[0m     \u001b[1;32mtry\u001b[0m\u001b[1;33m:\u001b[0m\u001b[1;33m\u001b[0m\u001b[1;33m\u001b[0m\u001b[0m\n\u001b[0;32m      4\u001b[0m         \u001b[1;32mif\u001b[0m \u001b[0ma\u001b[0m \u001b[1;33m<\u001b[0m \u001b[1;36m25\u001b[0m\u001b[1;33m:\u001b[0m\u001b[1;33m\u001b[0m\u001b[1;33m\u001b[0m\u001b[0m\n\u001b[0;32m      5\u001b[0m             \u001b[0mprint\u001b[0m \u001b[1;33m(\u001b[0m\u001b[1;34m\"F\"\u001b[0m\u001b[1;33m)\u001b[0m\u001b[1;33m\u001b[0m\u001b[1;33m\u001b[0m\u001b[0m\n",
      "\u001b[1;31mValueError\u001b[0m: invalid literal for int() with base 10: '20.5'"
     ]
    }
   ],
   "source": [
    "a = int(input(\"Enter your grades here: \"))\n",
    "while True: \n",
    "    try: \n",
    "        if a < 25: \n",
    "            print (\"F\")\n",
    "        elif a >= 25 and a < 45: \n",
    "            print (\"E\")\n",
    "        elif a >= 45 and a < 60: \n",
    "            print(\"D\")\n",
    "        elif a >= 60 and a < 75:\n",
    "            print(\"C\")\n",
    "        elif a >= 75 and a <= 90:\n",
    "            print(\"B\")\n",
    "        elif a> 90:\n",
    "            print(\"A\")\n",
    "            break;\n",
    "        else: \n",
    "            print(\"Provide an actual number bro\")\n",
    "    except ValueError:\n",
    "            print:(\"Error - please provide an valid integer number\")"
   ]
  },
  {
   "cell_type": "code",
   "execution_count": 10,
   "id": "b71bffbf",
   "metadata": {},
   "outputs": [
    {
     "ename": "IndentationError",
     "evalue": "expected an indented block (<ipython-input-10-d15c3f78cfe1>, line 18)",
     "output_type": "error",
     "traceback": [
      "\u001b[1;36m  File \u001b[1;32m\"<ipython-input-10-d15c3f78cfe1>\"\u001b[1;36m, line \u001b[1;32m18\u001b[0m\n\u001b[1;33m    print(\"Provide an actual number bro\")\u001b[0m\n\u001b[1;37m    ^\u001b[0m\n\u001b[1;31mIndentationError\u001b[0m\u001b[1;31m:\u001b[0m expected an indented block\n"
     ]
    }
   ],
   "source": [
    "a = int(input(\"Enter your grades here: \"))\n",
    "while True: \n",
    "    try: \n",
    "        if a < 25: \n",
    "            print (\"F\")\n",
    "        elif a >= 25 and a < 45: \n",
    "            print (\"E\")\n",
    "        elif a >= 45 and a < 60: \n",
    "            print(\"D\")\n",
    "        elif a >= 60 and a < 75:\n",
    "            print(\"C\")\n",
    "        elif a >= 75 and a <= 90:\n",
    "            print(\"B\")\n",
    "        elif a> 90:\n",
    "            print(\"A\")\n",
    "            break;\n",
    "        else: \n",
    "        print(\"Provide an actual number bro\")\n",
    "    except Valuprint:(\"Error - please provide an valid integer number\")"
   ]
  },
  {
   "cell_type": "code",
   "execution_count": 11,
   "id": "857dba2e",
   "metadata": {},
   "outputs": [
    {
     "ename": "IndentationError",
     "evalue": "expected an indented block (<ipython-input-11-333419789d09>, line 18)",
     "output_type": "error",
     "traceback": [
      "\u001b[1;36m  File \u001b[1;32m\"<ipython-input-11-333419789d09>\"\u001b[1;36m, line \u001b[1;32m18\u001b[0m\n\u001b[1;33m    print(\"Provide an actual number bro\")\u001b[0m\n\u001b[1;37m    ^\u001b[0m\n\u001b[1;31mIndentationError\u001b[0m\u001b[1;31m:\u001b[0m expected an indented block\n"
     ]
    }
   ],
   "source": [
    "a = int(input(\"Enter your grades here: \"))\n",
    "while True: \n",
    "    try: \n",
    "        if a < 25: \n",
    "            print (\"F\")\n",
    "        elif a >= 25 and a < 45: \n",
    "            print (\"E\")\n",
    "        elif a >= 45 and a < 60: \n",
    "            print(\"D\")\n",
    "        elif a >= 60 and a < 75:\n",
    "            print(\"C\")\n",
    "        elif a >= 75 and a <= 90:\n",
    "            print(\"B\")\n",
    "        elif a> 90:\n",
    "            print(\"A\")\n",
    "            break;\n",
    "        else: \n",
    "            print(\"Provide an actual number bro\")\n",
    "except ValueError:\n",
    "print:(\"Error - please provide an valid integer number\")"
   ]
  },
  {
   "cell_type": "code",
   "execution_count": 12,
   "id": "bde9da77",
   "metadata": {},
   "outputs": [
    {
     "ename": "IndentationError",
     "evalue": "unexpected unindent (<ipython-input-12-0606eecefacf>, line 19)",
     "output_type": "error",
     "traceback": [
      "\u001b[1;36m  File \u001b[1;32m\"<ipython-input-12-0606eecefacf>\"\u001b[1;36m, line \u001b[1;32m19\u001b[0m\n\u001b[1;33m    except ValueError:\u001b[0m\n\u001b[1;37m                      ^\u001b[0m\n\u001b[1;31mIndentationError\u001b[0m\u001b[1;31m:\u001b[0m unexpected unindent\n"
     ]
    }
   ],
   "source": [
    "a = int(input(\"Enter your grades here: \"))\n",
    "while True: \n",
    "    try: \n",
    "        if a < 25: \n",
    "            print (\"F\")\n",
    "        elif a >= 25 and a < 45: \n",
    "            print (\"E\")\n",
    "        elif a >= 45 and a < 60: \n",
    "            print(\"D\")\n",
    "        elif a >= 60 and a < 75:\n",
    "            print(\"C\")\n",
    "        elif a >= 75 and a <= 90:\n",
    "            print(\"B\")\n",
    "        elif a> 90:\n",
    "            print(\"A\")\n",
    "            break;\n",
    "        else: \n",
    "            print(\"Provide an actual number bro\")\n",
    "except ValueError: \n",
    "    print(\"Pls provide a valid integer\")\n"
   ]
  },
  {
   "cell_type": "code",
   "execution_count": 13,
   "id": "d8b64a72",
   "metadata": {},
   "outputs": [
    {
     "ename": "IndentationError",
     "evalue": "unexpected unindent (<ipython-input-13-9bd727baec97>, line 19)",
     "output_type": "error",
     "traceback": [
      "\u001b[1;36m  File \u001b[1;32m\"<ipython-input-13-9bd727baec97>\"\u001b[1;36m, line \u001b[1;32m19\u001b[0m\n\u001b[1;33m    except ValueError:\u001b[0m\n\u001b[1;37m                       ^\u001b[0m\n\u001b[1;31mIndentationError\u001b[0m\u001b[1;31m:\u001b[0m unexpected unindent\n"
     ]
    }
   ],
   "source": [
    "a = int(input(\"Enter your grades here: \"))\n",
    "while True: \n",
    "    try: \n",
    "        if a < 25: \n",
    "            print (\"F\")\n",
    "        elif a >= 25 and a < 45: \n",
    "            print (\"E\")\n",
    "        elif a >= 45 and a < 60: \n",
    "            print(\"D\")\n",
    "        elif a >= 60 and a < 75:\n",
    "            print(\"C\")\n",
    "        elif a >= 75 and a <= 90:\n",
    "            print(\"B\")\n",
    "        elif a> 90:\n",
    "            print(\"A\")\n",
    "            break;\n",
    "        else: \n",
    "            print(\"Provide an actual number bro\")\n",
    "except ValueError:\n",
    "    print(\"Pls provide a valid integer\")\n"
   ]
  },
  {
   "cell_type": "code",
   "execution_count": 14,
   "id": "bc25ca23",
   "metadata": {},
   "outputs": [
    {
     "ename": "IndentationError",
     "evalue": "unexpected unindent (<ipython-input-14-43e6c008bb87>, line 19)",
     "output_type": "error",
     "traceback": [
      "\u001b[1;36m  File \u001b[1;32m\"<ipython-input-14-43e6c008bb87>\"\u001b[1;36m, line \u001b[1;32m19\u001b[0m\n\u001b[1;33m    except ValueError:\u001b[0m\n\u001b[1;37m                      ^\u001b[0m\n\u001b[1;31mIndentationError\u001b[0m\u001b[1;31m:\u001b[0m unexpected unindent\n"
     ]
    }
   ],
   "source": [
    "a = int(input(\"Enter your grades here: \"))\n",
    "while True: \n",
    "    try: \n",
    "        if a < 25: \n",
    "            print (\"F\")\n",
    "        elif a >= 25 and a < 45: \n",
    "            print (\"E\")\n",
    "        elif a >= 45 and a < 60: \n",
    "            print(\"D\")\n",
    "        elif a >= 60 and a < 75:\n",
    "            print(\"C\")\n",
    "        elif a >= 75 and a <= 90:\n",
    "            print(\"B\")\n",
    "        elif a> 90:\n",
    "            print(\"A\")\n",
    "            break;\n",
    "        else: \n",
    "            print(\"Provide an actual number bro\")\n",
    "except ValueError:\n",
    "    print(\"Pls provide a valid integer\")\n"
   ]
  },
  {
   "cell_type": "code",
   "execution_count": 15,
   "id": "66bb28ac",
   "metadata": {},
   "outputs": [
    {
     "ename": "IndentationError",
     "evalue": "unexpected unindent (<ipython-input-15-6f8cc5869bbc>, line 19)",
     "output_type": "error",
     "traceback": [
      "\u001b[1;36m  File \u001b[1;32m\"<ipython-input-15-6f8cc5869bbc>\"\u001b[1;36m, line \u001b[1;32m19\u001b[0m\n\u001b[1;33m    except ValueError:\u001b[0m\n\u001b[1;37m                       ^\u001b[0m\n\u001b[1;31mIndentationError\u001b[0m\u001b[1;31m:\u001b[0m unexpected unindent\n"
     ]
    }
   ],
   "source": [
    "a = int(input(\"Enter your grades here: \"))\n",
    "while True: \n",
    "    try: \n",
    "        if a < 25: \n",
    "            print (\"F\")\n",
    "        elif a >= 25 and a < 45: \n",
    "            print (\"E\")\n",
    "        elif a >= 45 and a < 60: \n",
    "            print(\"D\")\n",
    "        elif a >= 60 and a < 75:\n",
    "            print(\"C\")\n",
    "        elif a >= 75 and a <= 90:\n",
    "            print(\"B\")\n",
    "        elif a> 90:\n",
    "            print(\"A\")\n",
    "            break;\n",
    "        else: \n",
    "            print(\"Provide an actual number bro\")\n",
    "    except ValueError: \n",
    "               print(\"Pls provide a valid integer\")\n"
   ]
  },
  {
   "cell_type": "code",
   "execution_count": 16,
   "id": "c476ec31",
   "metadata": {},
   "outputs": [
    {
     "name": "stdout",
     "output_type": "stream",
     "text": [
      "Enter your grades here: 20.4\n"
     ]
    },
    {
     "ename": "ValueError",
     "evalue": "invalid literal for int() with base 10: '20.4'",
     "output_type": "error",
     "traceback": [
      "\u001b[1;31m---------------------------------------------------------------------------\u001b[0m",
      "\u001b[1;31mValueError\u001b[0m                                Traceback (most recent call last)",
      "\u001b[1;32m<ipython-input-16-ee22f25b97c9>\u001b[0m in \u001b[0;36m<module>\u001b[1;34m\u001b[0m\n\u001b[1;32m----> 1\u001b[1;33m \u001b[0ma\u001b[0m \u001b[1;33m=\u001b[0m \u001b[0mint\u001b[0m\u001b[1;33m(\u001b[0m\u001b[0minput\u001b[0m\u001b[1;33m(\u001b[0m\u001b[1;34m\"Enter your grades here: \"\u001b[0m\u001b[1;33m)\u001b[0m\u001b[1;33m)\u001b[0m\u001b[1;33m\u001b[0m\u001b[1;33m\u001b[0m\u001b[0m\n\u001b[0m\u001b[0;32m      2\u001b[0m \u001b[1;32mwhile\u001b[0m \u001b[1;32mTrue\u001b[0m\u001b[1;33m:\u001b[0m\u001b[1;33m\u001b[0m\u001b[1;33m\u001b[0m\u001b[0m\n\u001b[0;32m      3\u001b[0m     \u001b[1;32mtry\u001b[0m\u001b[1;33m:\u001b[0m\u001b[1;33m\u001b[0m\u001b[1;33m\u001b[0m\u001b[0m\n\u001b[0;32m      4\u001b[0m         \u001b[1;32mif\u001b[0m \u001b[0ma\u001b[0m \u001b[1;33m<\u001b[0m \u001b[1;36m25\u001b[0m\u001b[1;33m:\u001b[0m\u001b[1;33m\u001b[0m\u001b[1;33m\u001b[0m\u001b[0m\n\u001b[0;32m      5\u001b[0m             \u001b[0mprint\u001b[0m \u001b[1;33m(\u001b[0m\u001b[1;34m\"F\"\u001b[0m\u001b[1;33m)\u001b[0m\u001b[1;33m\u001b[0m\u001b[1;33m\u001b[0m\u001b[0m\n",
      "\u001b[1;31mValueError\u001b[0m: invalid literal for int() with base 10: '20.4'"
     ]
    }
   ],
   "source": [
    "a = int(input(\"Enter your grades here: \"))\n",
    "while True: \n",
    "    try: \n",
    "        if a < 25: \n",
    "            print (\"F\")\n",
    "        elif a >= 25 and a < 45: \n",
    "            print (\"E\")\n",
    "        elif a >= 45 and a < 60: \n",
    "            print(\"D\")\n",
    "        elif a >= 60 and a < 75:\n",
    "            print(\"C\")\n",
    "        elif a >= 75 and a <= 90:\n",
    "            print(\"B\")\n",
    "        elif a> 90:\n",
    "            print(\"A\")\n",
    "            break;\n",
    "        else: \n",
    "            print(\"Provide an actual number bro\")\n",
    "    except ValueError: \n",
    "               print(\"Pls provide a valid integer\")"
   ]
  },
  {
   "cell_type": "code",
   "execution_count": 17,
   "id": "2893745d",
   "metadata": {},
   "outputs": [
    {
     "ename": "IndentationError",
     "evalue": "unexpected indent (<ipython-input-17-8f5150a75457>, line 2)",
     "output_type": "error",
     "traceback": [
      "\u001b[1;36m  File \u001b[1;32m\"<ipython-input-17-8f5150a75457>\"\u001b[1;36m, line \u001b[1;32m2\u001b[0m\n\u001b[1;33m    try:\u001b[0m\n\u001b[1;37m    ^\u001b[0m\n\u001b[1;31mIndentationError\u001b[0m\u001b[1;31m:\u001b[0m unexpected indent\n"
     ]
    }
   ],
   "source": [
    "a = int(input(\"Enter your grades here: \")) \n",
    "try: \n",
    "        if a < 25: \n",
    "            print (\"F\")\n",
    "        elif a >= 25 and a < 45: \n",
    "            print (\"E\")\n",
    "        elif a >= 45 and a < 60: \n",
    "            print(\"D\")\n",
    "        elif a >= 60 and a < 75:\n",
    "            print(\"C\")\n",
    "        elif a >= 75 and a <= 90:\n",
    "            print(\"B\")\n",
    "        elif a> 90:\n",
    "            print(\"A\")\n",
    "            break;\n",
    "        else: \n",
    "            print(\"Provide an actual number bro\")\n",
    "except ValueError: \n",
    "        print(\"Pls provide a valid integer\")"
   ]
  },
  {
   "cell_type": "code",
   "execution_count": 18,
   "id": "884b080b",
   "metadata": {},
   "outputs": [
    {
     "name": "stdout",
     "output_type": "stream",
     "text": [
      "Enter your grades here: 20.5\n"
     ]
    },
    {
     "ename": "ValueError",
     "evalue": "invalid literal for int() with base 10: '20.5'",
     "output_type": "error",
     "traceback": [
      "\u001b[1;31m---------------------------------------------------------------------------\u001b[0m",
      "\u001b[1;31mValueError\u001b[0m                                Traceback (most recent call last)",
      "\u001b[1;32m<ipython-input-18-1eb7c9b5a32d>\u001b[0m in \u001b[0;36m<module>\u001b[1;34m\u001b[0m\n\u001b[1;32m----> 1\u001b[1;33m \u001b[0ma\u001b[0m \u001b[1;33m=\u001b[0m \u001b[0mint\u001b[0m\u001b[1;33m(\u001b[0m\u001b[0minput\u001b[0m\u001b[1;33m(\u001b[0m\u001b[1;34m\"Enter your grades here: \"\u001b[0m\u001b[1;33m)\u001b[0m\u001b[1;33m)\u001b[0m\u001b[1;33m\u001b[0m\u001b[1;33m\u001b[0m\u001b[0m\n\u001b[0m\u001b[0;32m      2\u001b[0m \u001b[1;32mtry\u001b[0m\u001b[1;33m:\u001b[0m\u001b[1;33m\u001b[0m\u001b[1;33m\u001b[0m\u001b[0m\n\u001b[0;32m      3\u001b[0m         \u001b[1;32mif\u001b[0m \u001b[0ma\u001b[0m \u001b[1;33m<\u001b[0m \u001b[1;36m25\u001b[0m\u001b[1;33m:\u001b[0m\u001b[1;33m\u001b[0m\u001b[1;33m\u001b[0m\u001b[0m\n\u001b[0;32m      4\u001b[0m             \u001b[0mprint\u001b[0m \u001b[1;33m(\u001b[0m\u001b[1;34m\"F\"\u001b[0m\u001b[1;33m)\u001b[0m\u001b[1;33m\u001b[0m\u001b[1;33m\u001b[0m\u001b[0m\n\u001b[0;32m      5\u001b[0m         \u001b[1;32melif\u001b[0m \u001b[0ma\u001b[0m \u001b[1;33m>=\u001b[0m \u001b[1;36m25\u001b[0m \u001b[1;32mand\u001b[0m \u001b[0ma\u001b[0m \u001b[1;33m<\u001b[0m \u001b[1;36m45\u001b[0m\u001b[1;33m:\u001b[0m\u001b[1;33m\u001b[0m\u001b[1;33m\u001b[0m\u001b[0m\n",
      "\u001b[1;31mValueError\u001b[0m: invalid literal for int() with base 10: '20.5'"
     ]
    }
   ],
   "source": [
    "int(input(\"Enter your grades here: \")) \n",
    "try: \n",
    "        if a < 25: \n",
    "            print (\"F\")\n",
    "        elif a >= 25 and a < 45: \n",
    "            print (\"E\")\n",
    "        elif a >= 45 and a < 60: \n",
    "            print(\"D\")\n",
    "        elif a >= 60 and a < 75:\n",
    "            print(\"C\")\n",
    "        elif a >= 75 and a <= 90:\n",
    "            print(\"B\")\n",
    "        elif a> 90:\n",
    "            print(\"A\")\n",
    "            break;\n",
    "        else: \n",
    "            print(\"Provide an actual number bro\")\n",
    "except ValueError: \n",
    "        print(\"Pls provide a valid integer\")"
   ]
  },
  {
   "cell_type": "code",
   "execution_count": null,
   "id": "07e30215",
   "metadata": {},
   "outputs": [],
   "source": [
    "int(input(\"Enter your grades here: \")) \n",
    "try: \n",
    "        if a < 25: \n",
    "            print (\"F\")\n",
    "        elif a >= 25 and a < 45: \n",
    "            print (\"E\")\n",
    "        elif a >= 45 and a < 60: \n",
    "            print(\"D\")\n",
    "        elif a >= 60 and a < 75:\n",
    "            print(\"C\")\n",
    "        elif a >= 75 and a <= 90:\n",
    "            print(\"B\")\n",
    "        elif a> 90:\n",
    "            print(\"A\")\n",
    "            break;\n",
    "        else: \n",
    "            print(\"Provide an actual number bro\")\n",
    "except ValueError:         print(\"Pls provide a valid integer\")"
   ]
  },
  {
   "cell_type": "code",
   "execution_count": null,
   "id": "349a7718",
   "metadata": {},
   "outputs": [],
   "source": [
    "while True: \n",
    "    try:\n",
    "        x = int(input(\"Enter your grades here: \")) \n",
    "        break\n",
    "    except Value Error: \n",
    "        print(\"not a valid integer buddy\")\n",
    "\n",
    "        if a < 25: \n",
    "            print (\"F\")\n",
    "        elif a >= 25 and a < 45: \n",
    "            print (\"E\")\n",
    "        elif a >= 45 and a < 60: \n",
    "            print(\"D\")\n",
    "        elif a >= 60 and a < 75:\n",
    "            print(\"C\")\n",
    "        elif a >= 75 and a <= 90:\n",
    "            print(\"B\")\n",
    "        elif a> 90:\n",
    "            print(\"A\")\n",
    "            break;\n",
    "        else: \n",
    "            print(\"Provide an actual number bro\")\n"
   ]
  },
  {
   "cell_type": "code",
   "execution_count": null,
   "id": "4df575a5",
   "metadata": {},
   "outputs": [],
   "source": [
    "int(input(\"Enter your grades here: \"))  \n",
    "        if a < 25: \n",
    "            print (\"F\")\n",
    "        elif a >= 25 and a < 45: \n",
    "            print (\"E\")\n",
    "        elif a >= 45 and a < 60: \n",
    "            print(\"D\")\n",
    "        elif a >= 60 and a < 75:\n",
    "            print(\"C\")\n",
    "        elif a >= 75 and a <= 90:\n",
    "            print(\"B\")\n",
    "        elif a> 90:\n",
    "            print(\"A\")\n",
    "            break;\n",
    "        else: \n",
    "            print(\"Provide an actual number bro\")\n",
    "except: \n",
    "        print(\"Pls provide a valid integer\")"
   ]
  },
  {
   "cell_type": "code",
   "execution_count": null,
   "id": "42b2c7b9",
   "metadata": {},
   "outputs": [],
   "source": [
    "int(input(\"Enter your grades here: \")) \n",
    "try:\n",
    "        if a < 25: \n",
    "            print (\"F\")\n",
    "        elif a >= 25 and a < 45: \n",
    "            print (\"E\")\n",
    "        elif a >= 45 and a < 60: \n",
    "            print(\"D\")\n",
    "        elif a >= 60 and a < 75:\n",
    "            print(\"C\")\n",
    "        elif a >= 75 and a <= 90:\n",
    "            print(\"B\")\n",
    "        elif a> 90:\n",
    "            print(\"A\")\n",
    "            break;\n",
    "        else: \n",
    "            print(\"Provide an actual number bro\")\n",
    "except: \n",
    "        print(\"Pls provide a valid integer\")"
   ]
  },
  {
   "cell_type": "code",
   "execution_count": null,
   "id": "4790ce7e",
   "metadata": {},
   "outputs": [],
   "source": [
    "int(input(\"Enter your grades here: \")) \n",
    "try: \n",
    "        if a < 25: \n",
    "            print (\"F\")\n",
    "        elif a >= 25 and a < 45: \n",
    "            print (\"E\")\n",
    "        elif a >= 45 and a < 60: \n",
    "            print(\"D\")\n",
    "        elif a >= 60 and a < 75:\n",
    "            print(\"C\")\n",
    "        elif a >= 75 and a <= 90:\n",
    "            print(\"B\")\n",
    "        elif a> 90:\n",
    "            print(\"A\")\n",
    "            break;\n",
    "        else: \n",
    "            print(\"Provide an actual number bro\")\n",
    "except ValueError:         print(\"Pls provide a valid integer\")"
   ]
  },
  {
   "cell_type": "code",
   "execution_count": null,
   "id": "a1b39339",
   "metadata": {},
   "outputs": [],
   "source": [
    "int(input(\"Enter your grades here: \")) \n",
    "try: \n",
    "        if a < 25: \n",
    "            print (\"F\")\n",
    "        elif a >= 25 and a < 45: \n",
    "            print (\"E\")\n",
    "        elif a >= 45 and a < 60: \n",
    "            print(\"D\")\n",
    "        elif a >= 60 and a < 75:\n",
    "            print(\"C\")\n",
    "        elif a >= 75 and a <= 90:\n",
    "            print(\"B\")\n",
    "        elif a> 90:\n",
    "            print(\"A\")\n",
    "            break;\n",
    "        else: \n",
    "            print(\"Provide an actual number bro\")\n",
    "except:        \n",
    "    print(\"Pls provide a valid integer\")"
   ]
  },
  {
   "cell_type": "code",
   "execution_count": null,
   "id": "3541257e",
   "metadata": {},
   "outputs": [],
   "source": [
    "int(input(\"Enter your grades here: \"))  \n",
    "        if a < 25: \n",
    "            print (\"F\")\n",
    "        elif a >= 25 and a < 45: \n",
    "            print (\"E\")\n",
    "        elif a >= 45 and a < 60: \n",
    "            print(\"D\")\n",
    "        elif a >= 60 and a < 75:\n",
    "            print(\"C\")\n",
    "        elif a >= 75 and a <= 90:\n",
    "            print(\"B\")\n",
    "        elif a> 90:\n",
    "            print(\"A\")\n",
    "            break;\n",
    "        else: \n",
    "            print(\"Provide an actual number bro\")\n",
    "except ValueError:         print(\"Pls provide a valid integer\")"
   ]
  },
  {
   "cell_type": "code",
   "execution_count": null,
   "id": "a4352185",
   "metadata": {},
   "outputs": [],
   "source": [
    "try: \n",
    "    int(input(\"Enter your grades here: \"))  \n",
    "        if a < 25: \n",
    "            print (\"F\")\n",
    "        elif a >= 25 and a < 45: \n",
    "            print (\"E\")\n",
    "        elif a >= 45 and a < 60: \n",
    "            print(\"D\")\n",
    "        elif a >= 60 and a < 75:\n",
    "            print(\"C\")\n",
    "        elif a >= 75 and a <= 90:\n",
    "            print(\"B\")\n",
    "        elif a> 90:\n",
    "            print(\"A\")\n",
    "        else: \n",
    "            print(\"Provide an actual number bro\")\n",
    "except ValueError:\n",
    "    print(\"Provide an actual integer\")"
   ]
  },
  {
   "cell_type": "code",
   "execution_count": null,
   "id": "8fc976ca",
   "metadata": {},
   "outputs": [],
   "source": [
    "try: \n",
    "    x =  int(input(\"Enter your grades here: \"))  \n",
    "        if a < 25: \n",
    "            print (\"F\")\n",
    "        elif a >= 25 and a < 45: \n",
    "            print (\"E\")\n",
    "        elif a >= 45 and a < 60: \n",
    "            print(\"D\")\n",
    "        elif a >= 60 and a < 75:\n",
    "            print(\"C\")\n",
    "        elif a >= 75 and a <= 90:\n",
    "            print(\"B\")\n",
    "        elif a> 90:\n",
    "            print(\"A\")\n",
    "        else: \n",
    "            print(\"Provide an actual number bro\")\n",
    "except ValueError:\n",
    "    print(\"Provide an actual integer\")"
   ]
  },
  {
   "cell_type": "code",
   "execution_count": null,
   "id": "7ed98f7f",
   "metadata": {},
   "outputs": [],
   "source": [
    "try: \n",
    "    int(input(\"Enter your grades here: \")) \n",
    "except ValueError:\n",
    "           print(\"Provide an actual integer\")\n",
    "        if a < 25: \n",
    "            print (\"F\")\n",
    "        elif a >= 25 and a < 45: \n",
    "            print (\"E\")\n",
    "        elif a >= 45 and a < 60: \n",
    "            print(\"D\")\n",
    "        elif a >= 60 and a < 75:\n",
    "            print(\"C\")\n",
    "        elif a >= 75 and a <= 90:\n",
    "            print(\"B\")\n",
    "        elif a> 90:\n",
    "            print(\"A\")\n",
    "        else: \n",
    "            print(\"Provide an actual number bro\")\n"
   ]
  },
  {
   "cell_type": "code",
   "execution_count": null,
   "id": "f6a812d1",
   "metadata": {},
   "outputs": [],
   "source": [
    "try: \n",
    "    x =  int(input(\"Enter your grades here: \")) \n",
    "except ValueError:\n",
    "           print(\"Provide an actual integer\")\n",
    "if a < 25: \n",
    "    print (\"F\")\n",
    "elif a >= 25 and a < 45: \n",
    "    print (\"E\")\n",
    "elif a >= 45 and a < 60: \n",
    "    print(\"D\")\n",
    "elif a >= 60 and a < 75:\n",
    "    print(\"C\")\n",
    "elif a >= 75 and a <= 90:\n",
    "    print(\"B\")\n",
    "elif a> 90:\n",
    "    print(\"A\")\n",
    "        "
   ]
  },
  {
   "cell_type": "code",
   "execution_count": null,
   "id": "89408628",
   "metadata": {},
   "outputs": [],
   "source": [
    " int(input(\"Enter your grades here: \")) \n",
    "\n",
    "        if a < 25: \n",
    "            print (\"F\")\n",
    "        elif a >= 25 and a < 45: \n",
    "            print (\"E\")\n",
    "        elif a >= 45 and a < 60: \n",
    "            print(\"D\")\n",
    "        elif a >= 60 and a < 75:\n",
    "            print(\"C\")\n",
    "        elif a >= 75 and a <= 90:\n",
    "            print(\"B\")\n",
    "        elif a> 90:\n",
    "            print(\"A\")\n",
    "        else: \n",
    "            print(\"Provide an actual number bro\")"
   ]
  },
  {
   "cell_type": "code",
   "execution_count": null,
   "id": "a926e531",
   "metadata": {},
   "outputs": [],
   "source": [
    "x =  int(input(\"Enter your grades here: \")) \n",
    "\n",
    "if a < 25: \n",
    "    print (\"F\")\n",
    "elif a >= 25 and a < 45: \n",
    "    print (\"E\")\n",
    "elif a >= 45 and a < 60: \n",
    "    print(\"D\")\n",
    "elif a >= 60 and a < 75:\n",
    "    print(\"C\")\n",
    "elif a >= 75 and a <= 90:\n",
    "    print(\"B\")\n",
    "elif a> 90:\n",
    "    print(\"A\")"
   ]
  },
  {
   "cell_type": "code",
   "execution_count": null,
   "id": "01568f51",
   "metadata": {},
   "outputs": [],
   "source": [
    "int(input(\"Enter your grades here: \")) \n",
    "        if a < 25: \n",
    "            print (\"F\")\n",
    "        elif a >= 25 and a < 45: \n",
    "            print (\"E\")\n",
    "        elif a >= 45 and a < 60: \n",
    "            print(\"D\")\n",
    "        elif a >= 60 and a < 75:\n",
    "            print(\"C\")\n",
    "        elif a >= 75 and a <= 90:\n",
    "            print(\"B\")\n",
    "        elif a> 90:\n",
    "            print(\"A\")\n",
    "            break;\n",
    "        else: \n",
    "            print(\"Provide an actual number bro\")"
   ]
  },
  {
   "cell_type": "code",
   "execution_count": 1,
   "id": "65fb2bd1",
   "metadata": {},
   "outputs": [
    {
     "ename": "IndentationError",
     "evalue": "unexpected indent (<ipython-input-1-ab1206c831f0>, line 2)",
     "output_type": "error",
     "traceback": [
      "\u001b[1;36m  File \u001b[1;32m\"<ipython-input-1-ab1206c831f0>\"\u001b[1;36m, line \u001b[1;32m2\u001b[0m\n\u001b[1;33m    if a < 25:\u001b[0m\n\u001b[1;37m    ^\u001b[0m\n\u001b[1;31mIndentationError\u001b[0m\u001b[1;31m:\u001b[0m unexpected indent\n"
     ]
    }
   ],
   "source": [
    "int(input(\"Enter your grades here: \")) \n",
    "        if a < 25: \n",
    "            print (\"F\")\n",
    "        elif a >= 25 and a < 45: \n",
    "            print (\"E\")\n",
    "        elif a >= 45 and a < 60: \n",
    "            print(\"D\")\n",
    "        elif a >= 60 and a < 75:\n",
    "            print(\"C\")\n",
    "        elif a >= 75 and a <= 90:\n",
    "            print(\"B\")\n",
    "        elif a> 90:\n",
    "            print(\"A\")\n",
    "            break;\n",
    "        else: \n",
    "            print(\"Provide an actual number bro\")"
   ]
  },
  {
   "cell_type": "code",
   "execution_count": 2,
   "id": "0c7e662c",
   "metadata": {},
   "outputs": [
    {
     "ename": "IndentationError",
     "evalue": "unexpected indent (<ipython-input-2-ab1206c831f0>, line 2)",
     "output_type": "error",
     "traceback": [
      "\u001b[1;36m  File \u001b[1;32m\"<ipython-input-2-ab1206c831f0>\"\u001b[1;36m, line \u001b[1;32m2\u001b[0m\n\u001b[1;33m    if a < 25:\u001b[0m\n\u001b[1;37m    ^\u001b[0m\n\u001b[1;31mIndentationError\u001b[0m\u001b[1;31m:\u001b[0m unexpected indent\n"
     ]
    }
   ],
   "source": [
    "int(input(\"Enter your grades here: \")) \n",
    "        if a < 25: \n",
    "            print (\"F\")\n",
    "        elif a >= 25 and a < 45: \n",
    "            print (\"E\")\n",
    "        elif a >= 45 and a < 60: \n",
    "            print(\"D\")\n",
    "        elif a >= 60 and a < 75:\n",
    "            print(\"C\")\n",
    "        elif a >= 75 and a <= 90:\n",
    "            print(\"B\")\n",
    "        elif a> 90:\n",
    "            print(\"A\")\n",
    "            break;\n",
    "        else: \n",
    "            print(\"Provide an actual number bro\")"
   ]
  },
  {
   "cell_type": "code",
   "execution_count": 3,
   "id": "89c02bc1",
   "metadata": {},
   "outputs": [
    {
     "name": "stdout",
     "output_type": "stream",
     "text": [
      "Enter your grades here: 57\n",
      "D\n"
     ]
    }
   ],
   "source": [
    "a = int(input(\"Enter your grades here: \"))\n",
    "if a < 25: \n",
    "    print (\"F\")\n",
    "elif a >= 25 and a < 45: \n",
    "    print (\"E\")\n",
    "elif a >= 45 and a < 60: \n",
    "    print(\"D\")\n",
    "elif a >= 60 and a < 75:\n",
    "    print(\"C\")\n",
    "elif a >= 75 and a <= 90:\n",
    "    print(\"B\")\n",
    "elif a> 90:\n",
    "    print(\"A\")\n",
    "else: \n",
    "    print(\"Not a valid answer\")"
   ]
  },
  {
   "cell_type": "code",
   "execution_count": 4,
   "id": "fbcedf6a",
   "metadata": {},
   "outputs": [
    {
     "name": "stdout",
     "output_type": "stream",
     "text": [
      "Enter your grades here: 30.8\n",
      "not a valid number bro\n",
      "D\n"
     ]
    }
   ],
   "source": [
    "try:\n",
    "    a = int(input(\"Enter your grades here: \"))\n",
    "except:\n",
    "    print(\"not a valid number bro\")\n",
    "if a < 25: \n",
    "    print (\"F\")\n",
    "elif a >= 25 and a < 45: \n",
    "    print (\"E\")\n",
    "elif a >= 45 and a < 60: \n",
    "    print(\"D\")\n",
    "elif a >= 60 and a < 75:\n",
    "    print(\"C\")\n",
    "elif a >= 75 and a <= 90:\n",
    "    print(\"B\")\n",
    "elif a> 90:\n",
    "    print(\"A\")\n",
    "else: \n",
    "    print(\"Not a valid answer\")"
   ]
  },
  {
   "cell_type": "code",
   "execution_count": 5,
   "id": "d1bb3fec",
   "metadata": {},
   "outputs": [
    {
     "name": "stdout",
     "output_type": "stream",
     "text": [
      "Enter your grades here: 40.89\n",
      "not a valid number bro\n",
      "D\n"
     ]
    }
   ],
   "source": [
    "try:\n",
    "    a = int(input(\"Enter your grades here: \"))\n",
    "except ValueError:\n",
    "    print(\"not a valid number bro\")\n",
    "if a < 25: \n",
    "    print (\"F\")\n",
    "elif a >= 25 and a < 45: \n",
    "    print (\"E\")\n",
    "elif a >= 45 and a < 60: \n",
    "    print(\"D\")\n",
    "elif a >= 60 and a < 75:\n",
    "    print(\"C\")\n",
    "elif a >= 75 and a <= 90:\n",
    "    print(\"B\")\n",
    "elif a> 90:\n",
    "    print(\"A\")\n",
    "else: \n",
    "    print(\"Not a valid answer\")"
   ]
  },
  {
   "cell_type": "code",
   "execution_count": 6,
   "id": "43bac229",
   "metadata": {},
   "outputs": [
    {
     "name": "stdout",
     "output_type": "stream",
     "text": [
      "Please enter value here10\n"
     ]
    },
    {
     "data": {
      "text/plain": [
       "10"
      ]
     },
     "execution_count": 6,
     "metadata": {},
     "output_type": "execute_result"
    }
   ],
   "source": [
    "int(input(\"Please enter value here\"))\n"
   ]
  },
  {
   "cell_type": "code",
   "execution_count": 7,
   "id": "daddff68",
   "metadata": {},
   "outputs": [
    {
     "name": "stdout",
     "output_type": "stream",
     "text": [
      "Enter first number here: wassup\n",
      "Pls enter a valid number\n",
      "Odd number\n"
     ]
    }
   ],
   "source": [
    "try:\n",
    "    a = int(input(\"Enter first number here: \"))\n",
    "except ValueError:\n",
    "    print(\"Pls enter a valid number\")\n",
    "if (a % 2) == 0:\n",
    "    print (\"Even number\")\n",
    "else: \n",
    "    print (\"Odd number\")"
   ]
  },
  {
   "cell_type": "code",
   "execution_count": 8,
   "id": "03620e07",
   "metadata": {},
   "outputs": [
    {
     "ename": "SyntaxError",
     "evalue": "invalid syntax (<ipython-input-8-0c9484f16d16>, line 7)",
     "output_type": "error",
     "traceback": [
      "\u001b[1;36m  File \u001b[1;32m\"<ipython-input-8-0c9484f16d16>\"\u001b[1;36m, line \u001b[1;32m7\u001b[0m\n\u001b[1;33m    elif:\u001b[0m\n\u001b[1;37m        ^\u001b[0m\n\u001b[1;31mSyntaxError\u001b[0m\u001b[1;31m:\u001b[0m invalid syntax\n"
     ]
    }
   ],
   "source": [
    "try:\n",
    "    a = int(input(\"Enter first number here: \"))\n",
    "except ValueError:\n",
    "    print(\"Pls enter a valid number\")\n",
    "if (a % 2) == 0:\n",
    "    print (\"Even number\")\n",
    "elif: \n",
    "    print (\"Odd number\")"
   ]
  },
  {
   "cell_type": "code",
   "execution_count": 9,
   "id": "016df906",
   "metadata": {},
   "outputs": [
    {
     "ename": "SyntaxError",
     "evalue": "invalid syntax (<ipython-input-9-33dc7f396ddb>, line 7)",
     "output_type": "error",
     "traceback": [
      "\u001b[1;36m  File \u001b[1;32m\"<ipython-input-9-33dc7f396ddb>\"\u001b[1;36m, line \u001b[1;32m7\u001b[0m\n\u001b[1;33m    elif (a % 2)!= 0\u001b[0m\n\u001b[1;37m                    ^\u001b[0m\n\u001b[1;31mSyntaxError\u001b[0m\u001b[1;31m:\u001b[0m invalid syntax\n"
     ]
    }
   ],
   "source": [
    "try:\n",
    "    a = int(input(\"Enter first number here: \"))\n",
    "except ValueError:\n",
    "    print(\"Pls enter a valid number\")\n",
    "if (a % 2) == 0:\n",
    "    print (\"Even number\")\n",
    "elif (a % 2)!= 0\n",
    "    print (\"Odd number\")"
   ]
  },
  {
   "cell_type": "code",
   "execution_count": 10,
   "id": "1dc55e33",
   "metadata": {},
   "outputs": [
    {
     "name": "stdout",
     "output_type": "stream",
     "text": [
      "Enter first number here: 31\n",
      "Odd number\n"
     ]
    }
   ],
   "source": [
    "try:\n",
    "    a = int(input(\"Enter first number here: \"))\n",
    "except ValueError:\n",
    "    print(\"Pls enter a valid number\")\n",
    "if (a % 2) == 0:\n",
    "    print (\"Even number\")\n",
    "elif (a % 2)!= 0:\n",
    "    print (\"Odd number\")"
   ]
  },
  {
   "cell_type": "code",
   "execution_count": 11,
   "id": "2471ae79",
   "metadata": {},
   "outputs": [
    {
     "name": "stdout",
     "output_type": "stream",
     "text": [
      "Enter first number here: not a number\n",
      "Pls enter a valid number\n",
      "Odd number\n"
     ]
    }
   ],
   "source": [
    "try:\n",
    "    a = int(input(\"Enter first number here: \"))\n",
    "except ValueError:\n",
    "    print(\"Pls enter a valid number\")\n",
    "if (a % 2) == 0:\n",
    "    print (\"Even number\")\n",
    "elif (a % 2)!= 0:\n",
    "    print (\"Odd number\")"
   ]
  },
  {
   "cell_type": "code",
   "execution_count": null,
   "id": "cb0771fd",
   "metadata": {},
   "outputs": [],
   "source": []
  }
 ],
 "metadata": {
  "kernelspec": {
   "display_name": "Python 3",
   "language": "python",
   "name": "python3"
  },
  "language_info": {
   "codemirror_mode": {
    "name": "ipython",
    "version": 3
   },
   "file_extension": ".py",
   "mimetype": "text/x-python",
   "name": "python",
   "nbconvert_exporter": "python",
   "pygments_lexer": "ipython3",
   "version": "3.8.8"
  }
 },
 "nbformat": 4,
 "nbformat_minor": 5
}
