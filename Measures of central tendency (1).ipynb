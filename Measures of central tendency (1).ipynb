{
 "cells": [
  {
   "cell_type": "code",
   "execution_count": 1,
   "id": "39c5c210",
   "metadata": {},
   "outputs": [],
   "source": [
    " data = [4,  7,  5,  9,  8,  6,  7,  7,  8,  5,  6,  9,  8, 5,  8,  7,  4,  7, 3,  6,  8,  9,  7,  6,  9]"
   ]
  },
  {
   "cell_type": "code",
   "execution_count": 2,
   "id": "84e82b73",
   "metadata": {},
   "outputs": [
    {
     "name": "stdout",
     "output_type": "stream",
     "text": [
      "Range is  3 to 9\n"
     ]
    }
   ],
   "source": [
    "print(\"Range is \", min(data), \"to\",max(data))"
   ]
  },
  {
   "cell_type": "code",
   "execution_count": 3,
   "id": "0bf6084d",
   "metadata": {},
   "outputs": [
    {
     "data": {
      "text/plain": [
       "6.72"
      ]
     },
     "execution_count": 3,
     "metadata": {},
     "output_type": "execute_result"
    }
   ],
   "source": [
    "import statistics as stats\n",
    "stats.mean(data)"
   ]
  },
  {
   "cell_type": "code",
   "execution_count": 4,
   "id": "e3c50672",
   "metadata": {},
   "outputs": [
    {
     "data": {
      "text/plain": [
       "7"
      ]
     },
     "execution_count": 4,
     "metadata": {},
     "output_type": "execute_result"
    }
   ],
   "source": [
    "stats.median(data)"
   ]
  },
  {
   "cell_type": "code",
   "execution_count": 5,
   "id": "f4d5eda2",
   "metadata": {},
   "outputs": [
    {
     "data": {
      "text/plain": [
       "25"
      ]
     },
     "execution_count": 5,
     "metadata": {},
     "output_type": "execute_result"
    }
   ],
   "source": [
    "len(data)"
   ]
  },
  {
   "cell_type": "code",
   "execution_count": 6,
   "id": "b912aff8",
   "metadata": {},
   "outputs": [
    {
     "data": {
      "text/plain": [
       "7"
      ]
     },
     "execution_count": 6,
     "metadata": {},
     "output_type": "execute_result"
    }
   ],
   "source": [
    "stats.mode(data)\n",
    "    "
   ]
  },
  {
   "cell_type": "code",
   "execution_count": 7,
   "id": "ebeea8e3",
   "metadata": {},
   "outputs": [
    {
     "ename": "SyntaxError",
     "evalue": "cannot assign to function call (<ipython-input-7-545b916a15b1>, line 4)",
     "output_type": "error",
     "traceback": [
      "\u001b[1;36m  File \u001b[1;32m\"<ipython-input-7-545b916a15b1>\"\u001b[1;36m, line \u001b[1;32m4\u001b[0m\n\u001b[1;33m    data_dictionary(i) = count_of_data\u001b[0m\n\u001b[1;37m    ^\u001b[0m\n\u001b[1;31mSyntaxError\u001b[0m\u001b[1;31m:\u001b[0m cannot assign to function call\n"
     ]
    }
   ],
   "source": [
    "data_dictionary = {}\n",
    "for i in data:\n",
    "    count_of_data = data.count(i)\n",
    "    data_dictionary(i) = count_of_data\n",
    "    print(data_dictionary)"
   ]
  },
  {
   "cell_type": "code",
   "execution_count": 8,
   "id": "ce2a60ea",
   "metadata": {},
   "outputs": [
    {
     "name": "stdout",
     "output_type": "stream",
     "text": [
      "{4: 2}\n",
      "{4: 2, 7: 6}\n",
      "{4: 2, 7: 6, 5: 3}\n",
      "{4: 2, 7: 6, 5: 3, 9: 4}\n",
      "{4: 2, 7: 6, 5: 3, 9: 4, 8: 5}\n",
      "{4: 2, 7: 6, 5: 3, 9: 4, 8: 5, 6: 4}\n",
      "{4: 2, 7: 6, 5: 3, 9: 4, 8: 5, 6: 4}\n",
      "{4: 2, 7: 6, 5: 3, 9: 4, 8: 5, 6: 4}\n",
      "{4: 2, 7: 6, 5: 3, 9: 4, 8: 5, 6: 4}\n",
      "{4: 2, 7: 6, 5: 3, 9: 4, 8: 5, 6: 4}\n",
      "{4: 2, 7: 6, 5: 3, 9: 4, 8: 5, 6: 4}\n",
      "{4: 2, 7: 6, 5: 3, 9: 4, 8: 5, 6: 4}\n",
      "{4: 2, 7: 6, 5: 3, 9: 4, 8: 5, 6: 4}\n",
      "{4: 2, 7: 6, 5: 3, 9: 4, 8: 5, 6: 4}\n",
      "{4: 2, 7: 6, 5: 3, 9: 4, 8: 5, 6: 4}\n",
      "{4: 2, 7: 6, 5: 3, 9: 4, 8: 5, 6: 4}\n",
      "{4: 2, 7: 6, 5: 3, 9: 4, 8: 5, 6: 4}\n",
      "{4: 2, 7: 6, 5: 3, 9: 4, 8: 5, 6: 4}\n",
      "{4: 2, 7: 6, 5: 3, 9: 4, 8: 5, 6: 4, 3: 1}\n",
      "{4: 2, 7: 6, 5: 3, 9: 4, 8: 5, 6: 4, 3: 1}\n",
      "{4: 2, 7: 6, 5: 3, 9: 4, 8: 5, 6: 4, 3: 1}\n",
      "{4: 2, 7: 6, 5: 3, 9: 4, 8: 5, 6: 4, 3: 1}\n",
      "{4: 2, 7: 6, 5: 3, 9: 4, 8: 5, 6: 4, 3: 1}\n",
      "{4: 2, 7: 6, 5: 3, 9: 4, 8: 5, 6: 4, 3: 1}\n",
      "{4: 2, 7: 6, 5: 3, 9: 4, 8: 5, 6: 4, 3: 1}\n"
     ]
    }
   ],
   "source": [
    "data_dictionary = {}\n",
    "for i in data:\n",
    "    count_of_data = data.count(i)\n",
    "    data_dictionary[i] = count_of_data\n",
    "    print(data_dictionary)"
   ]
  },
  {
   "cell_type": "code",
   "execution_count": 9,
   "id": "0f1705cd",
   "metadata": {},
   "outputs": [
    {
     "name": "stdout",
     "output_type": "stream",
     "text": [
      "{4: 2, 7: 6, 5: 3, 9: 4, 8: 5, 6: 4, 3: 1}\n"
     ]
    }
   ],
   "source": [
    "data_dictionary = {}\n",
    "for i in data:\n",
    "    count_of_data = data.count(i)\n",
    "    data_dictionary[i] = count_of_data\n",
    "print(data_dictionary)"
   ]
  },
  {
   "cell_type": "code",
   "execution_count": 10,
   "id": "6acea87c",
   "metadata": {},
   "outputs": [
    {
     "ename": "AttributeError",
     "evalue": "module 'statistics' has no attribute 'sort'",
     "output_type": "error",
     "traceback": [
      "\u001b[1;31m---------------------------------------------------------------------------\u001b[0m",
      "\u001b[1;31mAttributeError\u001b[0m                            Traceback (most recent call last)",
      "\u001b[1;32m<ipython-input-10-90c3947823ee>\u001b[0m in \u001b[0;36m<module>\u001b[1;34m\u001b[0m\n\u001b[1;32m----> 1\u001b[1;33m \u001b[0mstats\u001b[0m\u001b[1;33m.\u001b[0m\u001b[0msort\u001b[0m\u001b[1;33m(\u001b[0m\u001b[0mdata\u001b[0m\u001b[1;33m)\u001b[0m\u001b[1;33m\u001b[0m\u001b[1;33m\u001b[0m\u001b[0m\n\u001b[0m",
      "\u001b[1;31mAttributeError\u001b[0m: module 'statistics' has no attribute 'sort'"
     ]
    }
   ],
   "source": [
    "stats.sort(data)"
   ]
  },
  {
   "cell_type": "code",
   "execution_count": 11,
   "id": "5b35862b",
   "metadata": {},
   "outputs": [
    {
     "data": {
      "text/plain": [
       "array([3, 4, 4, 5, 5, 5, 6, 6, 6, 6, 7, 7, 7, 7, 7, 7, 8, 8, 8, 8, 8, 9,\n",
       "       9, 9, 9])"
      ]
     },
     "execution_count": 11,
     "metadata": {},
     "output_type": "execute_result"
    }
   ],
   "source": [
    "import numpy as np\n",
    "np.sort(data)"
   ]
  },
  {
   "cell_type": "code",
   "execution_count": 12,
   "id": "8c949dd1",
   "metadata": {},
   "outputs": [
    {
     "data": {
      "text/plain": [
       "7"
      ]
     },
     "execution_count": 12,
     "metadata": {},
     "output_type": "execute_result"
    }
   ],
   "source": [
    "stats.median(data)"
   ]
  },
  {
   "cell_type": "code",
   "execution_count": 13,
   "id": "c8879419",
   "metadata": {},
   "outputs": [
    {
     "data": {
      "text/plain": [
       "7"
      ]
     },
     "execution_count": 13,
     "metadata": {},
     "output_type": "execute_result"
    }
   ],
   "source": [
    "a = [1,2,3,4,5,6,7,8,9,10]\n",
    "stats.median(data)"
   ]
  },
  {
   "cell_type": "code",
   "execution_count": 14,
   "id": "eec9bf2b",
   "metadata": {},
   "outputs": [
    {
     "data": {
      "text/plain": [
       "5.5"
      ]
     },
     "execution_count": 14,
     "metadata": {},
     "output_type": "execute_result"
    }
   ],
   "source": [
    "a = [1,2,3,4,5,6,7,8,9,10]\n",
    "stats.median(a)"
   ]
  },
  {
   "cell_type": "code",
   "execution_count": 15,
   "id": "9cc2aa97",
   "metadata": {},
   "outputs": [
    {
     "data": {
      "text/plain": [
       "array([-4,  6,  7, 11, 17, 19, 25])"
      ]
     },
     "execution_count": 15,
     "metadata": {},
     "output_type": "execute_result"
    }
   ],
   "source": [
    "points = [-4,  17,  25,  19,  6,  11,  7]\n",
    "\n",
    "np.sort(points)"
   ]
  },
  {
   "cell_type": "code",
   "execution_count": 16,
   "id": "87430898",
   "metadata": {},
   "outputs": [
    {
     "name": "stdout",
     "output_type": "stream",
     "text": [
      "Range is from -4  to  25\n"
     ]
    }
   ],
   "source": [
    "print(\"Range is from\",min(points),\" to \",max(points))"
   ]
  },
  {
   "cell_type": "code",
   "execution_count": null,
   "id": "340a0095",
   "metadata": {},
   "outputs": [],
   "source": []
  }
 ],
 "metadata": {
  "kernelspec": {
   "display_name": "Python 3",
   "language": "python",
   "name": "python3"
  },
  "language_info": {
   "codemirror_mode": {
    "name": "ipython",
    "version": 3
   },
   "file_extension": ".py",
   "mimetype": "text/x-python",
   "name": "python",
   "nbconvert_exporter": "python",
   "pygments_lexer": "ipython3",
   "version": "3.8.8"
  }
 },
 "nbformat": 4,
 "nbformat_minor": 5
}
