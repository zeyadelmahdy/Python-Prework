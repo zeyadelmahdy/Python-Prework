{
 "cells": [
  {
   "cell_type": "code",
   "execution_count": null,
   "metadata": {},
   "outputs": [],
   "source": [
    "# Intro to functions"
   ]
  },
  {
   "cell_type": "markdown",
   "metadata": {},
   "source": [
    "A function is a block of organized, reusable code that is used to perform a single, related action. "
   ]
  },
  {
   "cell_type": "markdown",
   "metadata": {},
   "source": [
    "### Function definition"
   ]
  },
  {
   "cell_type": "code",
   "execution_count": null,
   "metadata": {},
   "outputs": [],
   "source": [
    "You can define functions to provide the required functionality. Here are simple rules to define a function in Python.\n",
    "\n",
    "- Function block begins with the keyword `def` followed by the `function name` and parentheses `()`.\n",
    "- In some cases, you will see that these parentheses are empty when you define and invoke (execute) the function, but sometimes you will have to add parameters inside them when you define the function. The value you will be passing in these parentheses when you invoke function we call an argument.\n",
    "Here is an extra [resource from W2Schools](https://www.w3schools.com/python/gloss_python_function_arguments.asp#:~:text=The%20terms%20parameter%20and%20argument,function%20when%20it%20is%20called.) that can help you understand this terminology better.\n",
    "- The code block within every function starts with a colon (:) and is mandatory.\n",
    "- The first statement of a function can be an optional statement - the documentation string of the function or docstring.\n",
    "- The statement `return [expression]` exits a function, optionally passing back an expression to the caller. A return statement with no arguments is the same as return None."
   ]
  },
  {
   "cell_type": "code",
   "execution_count": null,
   "metadata": {},
   "outputs": [],
   "source": [
    "Syntax\n",
    "\n",
    "def functionname( parameters ):\n",
    "   \"function_docstring\"\n",
    "   function_suite\n",
    "   return [expression]"
   ]
  },
  {
   "cell_type": "markdown",
   "metadata": {},
   "source": [
    "A function is a block of code which only runs when it is called.\n",
    "\n",
    "A function can return data as a result."
   ]
  },
  {
   "cell_type": "code",
   "execution_count": 2,
   "metadata": {},
   "outputs": [],
   "source": [
    "#The function define needs a parameter (\"X\") and it is going to multiply 5 * x\n",
    "\n",
    "def function1 (x):\n",
    "    return 5 * x"
   ]
  },
  {
   "cell_type": "code",
   "execution_count": 3,
   "metadata": {},
   "outputs": [],
   "source": [
    "#The variable \"a\" is going to save the result for this function\n",
    "a = function1 (2)"
   ]
  },
  {
   "cell_type": "code",
   "execution_count": 4,
   "metadata": {},
   "outputs": [
    {
     "name": "stdout",
     "output_type": "stream",
     "text": [
      "10\n"
     ]
    }
   ],
   "source": [
    "#Use print to see the result (example = 5 * 2, 2 is x value)\n",
    "print (a)"
   ]
  },
  {
   "cell_type": "code",
   "execution_count": 11,
   "metadata": {},
   "outputs": [],
   "source": [
    "b = function1 (1)"
   ]
  },
  {
   "cell_type": "code",
   "execution_count": 7,
   "metadata": {},
   "outputs": [
    {
     "name": "stdout",
     "output_type": "stream",
     "text": [
      "5\n"
     ]
    }
   ],
   "source": [
    "print (b)"
   ]
  },
  {
   "cell_type": "code",
   "execution_count": 9,
   "metadata": {},
   "outputs": [
    {
     "name": "stdout",
     "output_type": "stream",
     "text": [
      "15\n"
     ]
    }
   ],
   "source": [
    "print (a + b)"
   ]
  },
  {
   "cell_type": "code",
   "execution_count": 10,
   "metadata": {},
   "outputs": [],
   "source": [
    "#Also it can be two variables or mores in one function \n",
    "#The result is x + y \n",
    "def function2 (x, y):\n",
    "    return x + y"
   ]
  },
  {
   "cell_type": "code",
   "execution_count": 11,
   "metadata": {},
   "outputs": [
    {
     "name": "stdout",
     "output_type": "stream",
     "text": [
      "5\n"
     ]
    }
   ],
   "source": [
    "#The variable c saves the value\n",
    "c = function2 (2, 3)\n",
    "print (c)"
   ]
  },
  {
   "cell_type": "markdown",
   "metadata": {},
   "source": [
    "# Exercise "
   ]
  },
  {
   "cell_type": "markdown",
   "metadata": {},
   "source": [
    "\n",
    "Create a \"generation calculator\" to help determine the generation you belong to according to your birth year. Follow the below information:\n",
    "\n",
    "```\n",
    "+-----------------+---------------------+\n",
    "|  birth_year     |      generation     |\n",
    "+-----------------+---------------------+\n",
    "|     < 1949      |  silent generation  |\n",
    "+-----------------+---------------------+\n",
    "|     < 1969      |     baby boomer     |\n",
    "+-----------------+---------------------+\n",
    "|     < 1981      |     X generation    | \n",
    "+-----------------+---------------------+\n",
    "|     < 1994      |      millennial     | \n",
    "+-----------------+---------------------+\n",
    "|     > 1994      |    Z generation     | \n",
    "+-----------------+---------------------+\n",
    "```\n",
    "\n",
    "Let's add some \"fake\" users whose data we will be using to validate if the function gives us the correct and expected result."
   ]
  },
  {
   "cell_type": "code",
   "execution_count": 14,
   "metadata": {},
   "outputs": [],
   "source": [
    "# Generation What?\n",
    "\n",
    "name1 = \"Jonh\"\n",
    "birth_year1 = 1989\n",
    "\n",
    "name2 = \"Mari\"\n",
    "birth_year2 = 1995\n",
    "\n",
    "name3 = \"Mich\"\n",
    "birth_year3 = 1960"
   ]
  },
  {
   "cell_type": "markdown",
   "metadata": {},
   "source": [
    "1. Define the function generation calculator & add both parameters to represent both variables we are going to need in this function.\n",
    "2. Determine generation as a birth year (we need to know the year to be able to calculate)\n",
    "3. Print the results\n",
    "4. Write conditionals for each generation. For example, if you were born before 1949 you would be a \"silent generation\".\n",
    "5. Define variables for each result\n",
    "6. Show results"
   ]
  },
  {
   "cell_type": "code",
   "execution_count": 24,
   "metadata": {},
   "outputs": [],
   "source": [
    "def generation_calculator (name, birth_year):\n",
    "    generation = birth_year\n",
    "    print (\"Generation: \")\n",
    "    print (generation)\n",
    "    if generation < 1949:\n",
    "        return name + \" is silent generation\"\n",
    "    if generation < 1969:\n",
    "        return name + \" is baby boomer\"\n",
    "    if generation < 1981:\n",
    "        return name + \" is X generation\"\n",
    "    if generation < 1994:\n",
    "        return name + \" is millennial\"\n",
    "    else:\n",
    "        return name + \" is Z generation\""
   ]
  },
  {
   "cell_type": "code",
   "execution_count": 25,
   "metadata": {},
   "outputs": [
    {
     "name": "stdout",
     "output_type": "stream",
     "text": [
      "Generation: \n",
      "1989\n",
      "Generation: \n",
      "1995\n",
      "Generation: \n",
      "1960\n"
     ]
    }
   ],
   "source": [
    "result1 = generation_calculator (name1, birth_year1)\n",
    "result2 = generation_calculator (name2, birth_year2)\n",
    "result3 = generation_calculator (name3, birth_year3)"
   ]
  },
  {
   "cell_type": "code",
   "execution_count": 1,
   "metadata": {
    "scrolled": true
   },
   "outputs": [
    {
     "ename": "NameError",
     "evalue": "name 'result1' is not defined",
     "output_type": "error",
     "traceback": [
      "\u001b[1;31m---------------------------------------------------------------------------\u001b[0m",
      "\u001b[1;31mNameError\u001b[0m                                 Traceback (most recent call last)",
      "\u001b[1;32m<ipython-input-1-67466a2f2171>\u001b[0m in \u001b[0;36m<module>\u001b[1;34m\u001b[0m\n\u001b[1;32m----> 1\u001b[1;33m \u001b[0mprint\u001b[0m \u001b[1;33m(\u001b[0m\u001b[0mresult1\u001b[0m\u001b[1;33m)\u001b[0m\u001b[1;33m\u001b[0m\u001b[1;33m\u001b[0m\u001b[0m\n\u001b[0m\u001b[0;32m      2\u001b[0m \u001b[0mprint\u001b[0m \u001b[1;33m(\u001b[0m\u001b[0mresult2\u001b[0m\u001b[1;33m)\u001b[0m\u001b[1;33m\u001b[0m\u001b[1;33m\u001b[0m\u001b[0m\n\u001b[0;32m      3\u001b[0m \u001b[0mprint\u001b[0m \u001b[1;33m(\u001b[0m\u001b[0mresult3\u001b[0m\u001b[1;33m)\u001b[0m\u001b[1;33m\u001b[0m\u001b[1;33m\u001b[0m\u001b[0m\n",
      "\u001b[1;31mNameError\u001b[0m: name 'result1' is not defined"
     ]
    }
   ],
   "source": [
    "print (result1)\n",
    "print (result2)\n",
    "print (result3)"
   ]
  },
  {
   "cell_type": "markdown",
   "metadata": {},
   "source": [
    "### Additional resources "
   ]
  },
  {
   "cell_type": "code",
   "execution_count": null,
   "metadata": {},
   "outputs": [],
   "source": []
  },
  {
   "cell_type": "markdown",
   "metadata": {},
   "source": [
    "https://www.tutorialspoint.com/python/python_functions.htm"
   ]
  },
  {
   "cell_type": "code",
   "execution_count": 2,
   "metadata": {},
   "outputs": [],
   "source": [
    "def function1(x):\n",
    "    a = dunction1(2)\n",
    "    return[5*x]"
   ]
  },
  {
   "cell_type": "code",
   "execution_count": 3,
   "metadata": {},
   "outputs": [],
   "source": [
    "def function1(x):\n",
    "    a = function1(2)\n",
    "    return[5*x]"
   ]
  },
  {
   "cell_type": "code",
   "execution_count": 4,
   "metadata": {},
   "outputs": [
    {
     "ename": "NameError",
     "evalue": "name 'function' is not defined",
     "output_type": "error",
     "traceback": [
      "\u001b[1;31m---------------------------------------------------------------------------\u001b[0m",
      "\u001b[1;31mNameError\u001b[0m                                 Traceback (most recent call last)",
      "\u001b[1;32m<ipython-input-4-16e400d71dca>\u001b[0m in \u001b[0;36m<module>\u001b[1;34m\u001b[0m\n\u001b[0;32m      1\u001b[0m \u001b[1;32mdef\u001b[0m \u001b[0mfunction1\u001b[0m\u001b[1;33m(\u001b[0m\u001b[0mx\u001b[0m\u001b[1;33m)\u001b[0m\u001b[1;33m:\u001b[0m\u001b[1;33m\u001b[0m\u001b[1;33m\u001b[0m\u001b[0m\n\u001b[0;32m      2\u001b[0m     \u001b[1;32mreturn\u001b[0m\u001b[1;33m[\u001b[0m\u001b[1;36m5\u001b[0m\u001b[1;33m*\u001b[0m\u001b[0mx\u001b[0m\u001b[1;33m]\u001b[0m\u001b[1;33m\u001b[0m\u001b[1;33m\u001b[0m\u001b[0m\n\u001b[1;32m----> 3\u001b[1;33m \u001b[0ma\u001b[0m \u001b[1;33m=\u001b[0m \u001b[0mfunction\u001b[0m\u001b[1;33m(\u001b[0m\u001b[1;36m1\u001b[0m\u001b[1;33m)\u001b[0m\u001b[1;33m\u001b[0m\u001b[1;33m\u001b[0m\u001b[0m\n\u001b[0m",
      "\u001b[1;31mNameError\u001b[0m: name 'function' is not defined"
     ]
    }
   ],
   "source": [
    "def function1(x):\n",
    "    return[5*x]\n",
    "a = function(1)"
   ]
  },
  {
   "cell_type": "code",
   "execution_count": 5,
   "metadata": {},
   "outputs": [],
   "source": [
    "def function1(x):\n",
    "    return[5*x]\n",
    "a = function1 (2)"
   ]
  },
  {
   "cell_type": "code",
   "execution_count": 6,
   "metadata": {},
   "outputs": [
    {
     "name": "stdout",
     "output_type": "stream",
     "text": [
      "[10]\n"
     ]
    }
   ],
   "source": [
    "print(a)"
   ]
  },
  {
   "cell_type": "code",
   "execution_count": 7,
   "metadata": {},
   "outputs": [
    {
     "name": "stdout",
     "output_type": "stream",
     "text": [
      "[10]\n"
     ]
    }
   ],
   "source": [
    "def function1(x):\n",
    "    return[5*x]\n",
    "a = function1 (2)\n",
    "print(a)"
   ]
  },
  {
   "cell_type": "code",
   "execution_count": 8,
   "metadata": {},
   "outputs": [
    {
     "name": "stdout",
     "output_type": "stream",
     "text": [
      "[15]\n"
     ]
    }
   ],
   "source": [
    "def function1(x):\n",
    "    return[5*x]\n",
    "b = function1 (3)\n",
    "print(b)"
   ]
  },
  {
   "cell_type": "code",
   "execution_count": 9,
   "metadata": {},
   "outputs": [
    {
     "name": "stdout",
     "output_type": "stream",
     "text": [
      "[10, 15]\n"
     ]
    }
   ],
   "source": [
    "print(a+b)"
   ]
  },
  {
   "cell_type": "code",
   "execution_count": 12,
   "metadata": {},
   "outputs": [
    {
     "name": "stdout",
     "output_type": "stream",
     "text": [
      "[10, 5]\n"
     ]
    }
   ],
   "source": [
    "print(a + b)"
   ]
  },
  {
   "cell_type": "code",
   "execution_count": 13,
   "metadata": {},
   "outputs": [
    {
     "ename": "SyntaxError",
     "evalue": "invalid syntax (<ipython-input-13-ae3951815e7a>, line 2)",
     "output_type": "error",
     "traceback": [
      "\u001b[1;36m  File \u001b[1;32m\"<ipython-input-13-ae3951815e7a>\"\u001b[1;36m, line \u001b[1;32m2\u001b[0m\n\u001b[1;33m    result 5*x\u001b[0m\n\u001b[1;37m           ^\u001b[0m\n\u001b[1;31mSyntaxError\u001b[0m\u001b[1;31m:\u001b[0m invalid syntax\n"
     ]
    }
   ],
   "source": [
    "def function1(x):\n",
    "    result 5*x\n",
    "a = function1 (2)\n",
    "print(a)"
   ]
  },
  {
   "cell_type": "code",
   "execution_count": 14,
   "metadata": {},
   "outputs": [
    {
     "name": "stdout",
     "output_type": "stream",
     "text": [
      "10\n"
     ]
    }
   ],
   "source": [
    "def function1(x):\n",
    "    return 5*x\n",
    "a = function1 (2)\n",
    "print(a)"
   ]
  },
  {
   "cell_type": "code",
   "execution_count": 15,
   "metadata": {},
   "outputs": [
    {
     "name": "stdout",
     "output_type": "stream",
     "text": [
      "5\n"
     ]
    }
   ],
   "source": [
    "b = function1 (1)\n",
    "print(b)"
   ]
  },
  {
   "cell_type": "code",
   "execution_count": 16,
   "metadata": {},
   "outputs": [
    {
     "name": "stdout",
     "output_type": "stream",
     "text": [
      "15\n"
     ]
    }
   ],
   "source": [
    "print(a + b)"
   ]
  },
  {
   "cell_type": "code",
   "execution_count": 17,
   "metadata": {},
   "outputs": [
    {
     "name": "stdout",
     "output_type": "stream",
     "text": [
      "15\n"
     ]
    }
   ],
   "source": [
    "print(a+b)"
   ]
  },
  {
   "cell_type": "code",
   "execution_count": 18,
   "metadata": {},
   "outputs": [
    {
     "name": "stdout",
     "output_type": "stream",
     "text": [
      "18\n"
     ]
    }
   ],
   "source": [
    "def function1(x,y):\n",
    "    return x*y\n",
    "a = function1(3,6)\n",
    "print(a)"
   ]
  },
  {
   "cell_type": "code",
   "execution_count": 19,
   "metadata": {},
   "outputs": [],
   "source": [
    "name1 = \"Mo\"\n",
    "Birthyear1 = 1985\n",
    "\n",
    "name2 = \"Daniel\"\n",
    "birthyear2 = 1995\n",
    "\n",
    "name3 = \"Mike\"\n",
    "birthear3 = 1970\n",
    "\n",
    "name4 = \"Jayson\"\n",
    "birthyear4 = 1965\n",
    "\n",
    "name5 = \"Jean\"\n",
    "birthyear5 = 1945\n"
   ]
  },
  {
   "cell_type": "code",
   "execution_count": 20,
   "metadata": {},
   "outputs": [
    {
     "ename": "SyntaxError",
     "evalue": "invalid syntax (<ipython-input-20-4b2c73e3902a>, line 8)",
     "output_type": "error",
     "traceback": [
      "\u001b[1;36m  File \u001b[1;32m\"<ipython-input-20-4b2c73e3902a>\"\u001b[1;36m, line \u001b[1;32m8\u001b[0m\n\u001b[1;33m    return name +\u001b[0m\n\u001b[1;37m                  ^\u001b[0m\n\u001b[1;31mSyntaxError\u001b[0m\u001b[1;31m:\u001b[0m invalid syntax\n"
     ]
    }
   ],
   "source": [
    "def generation_calculator(name,birthyear):\n",
    "    generation = birthyear\n",
    "    if generation < 1949:\n",
    "        return name + 'is part of the silent generation'\n",
    "    if generation < 1969:\n",
    "        return name + 'is part a baby boomer'\n",
    "    if generation < 1981:\n",
    "        return name + "
   ]
  },
  {
   "cell_type": "code",
   "execution_count": 21,
   "metadata": {},
   "outputs": [],
   "source": [
    "def generation_calculator(name,birthyear):\n",
    "    generation = birthyear\n",
    "    if generation < 1949:\n",
    "        return name + 'is part of the silent generation'\n",
    "    elif generation < 1969:\n",
    "        return name + 'is a baby boomer'\n",
    "    elif generation < 1981:\n",
    "        return name + 'is part of X generation'\n",
    "    elif generation < 1994:\n",
    "        return name + 'is a millenial'\n",
    "    else: \n",
    "        return name + 'Z generation'"
   ]
  },
  {
   "cell_type": "code",
   "execution_count": 22,
   "metadata": {},
   "outputs": [
    {
     "ename": "NameError",
     "evalue": "name 'generation' is not defined",
     "output_type": "error",
     "traceback": [
      "\u001b[1;31m---------------------------------------------------------------------------\u001b[0m",
      "\u001b[1;31mNameError\u001b[0m                                 Traceback (most recent call last)",
      "\u001b[1;32m<ipython-input-22-3141d1c54abd>\u001b[0m in \u001b[0;36m<module>\u001b[1;34m\u001b[0m\n\u001b[1;32m----> 1\u001b[1;33m \u001b[0mprint\u001b[0m\u001b[1;33m(\u001b[0m\u001b[0mgeneration\u001b[0m\u001b[1;33m)\u001b[0m\u001b[1;33m\u001b[0m\u001b[1;33m\u001b[0m\u001b[0m\n\u001b[0m",
      "\u001b[1;31mNameError\u001b[0m: name 'generation' is not defined"
     ]
    }
   ],
   "source": [
    "print(generation)"
   ]
  },
  {
   "cell_type": "code",
   "execution_count": 23,
   "metadata": {},
   "outputs": [
    {
     "ename": "NameError",
     "evalue": "name 'birth_year1' is not defined",
     "output_type": "error",
     "traceback": [
      "\u001b[1;31m---------------------------------------------------------------------------\u001b[0m",
      "\u001b[1;31mNameError\u001b[0m                                 Traceback (most recent call last)",
      "\u001b[1;32m<ipython-input-23-d0df0dc7d219>\u001b[0m in \u001b[0;36m<module>\u001b[1;34m\u001b[0m\n\u001b[1;32m----> 1\u001b[1;33m \u001b[0mresult1\u001b[0m \u001b[1;33m=\u001b[0m \u001b[0mgeneration_calculator\u001b[0m \u001b[1;33m(\u001b[0m\u001b[0mname1\u001b[0m\u001b[1;33m,\u001b[0m \u001b[0mbirth_year1\u001b[0m\u001b[1;33m)\u001b[0m\u001b[1;33m\u001b[0m\u001b[1;33m\u001b[0m\u001b[0m\n\u001b[0m\u001b[0;32m      2\u001b[0m \u001b[0mresult2\u001b[0m \u001b[1;33m=\u001b[0m \u001b[0mgeneration_calculator\u001b[0m \u001b[1;33m(\u001b[0m\u001b[0mname2\u001b[0m\u001b[1;33m,\u001b[0m \u001b[0mbirth_year2\u001b[0m\u001b[1;33m)\u001b[0m\u001b[1;33m\u001b[0m\u001b[1;33m\u001b[0m\u001b[0m\n\u001b[0;32m      3\u001b[0m \u001b[0mresult3\u001b[0m \u001b[1;33m=\u001b[0m \u001b[0mgeneration_calculator\u001b[0m \u001b[1;33m(\u001b[0m\u001b[0mname3\u001b[0m\u001b[1;33m,\u001b[0m \u001b[0mbirth_year3\u001b[0m\u001b[1;33m)\u001b[0m\u001b[1;33m\u001b[0m\u001b[1;33m\u001b[0m\u001b[0m\n",
      "\u001b[1;31mNameError\u001b[0m: name 'birth_year1' is not defined"
     ]
    }
   ],
   "source": [
    "result1 = generation_calculator (name1, birth_year1)\n",
    "result2 = generation_calculator (name2, birth_year2)\n",
    "result3 = generation_calculator (name3, birth_year3)"
   ]
  },
  {
   "cell_type": "code",
   "execution_count": 24,
   "metadata": {},
   "outputs": [
    {
     "ename": "NameError",
     "evalue": "name 'birthyear1' is not defined",
     "output_type": "error",
     "traceback": [
      "\u001b[1;31m---------------------------------------------------------------------------\u001b[0m",
      "\u001b[1;31mNameError\u001b[0m                                 Traceback (most recent call last)",
      "\u001b[1;32m<ipython-input-24-29fcaf9d36be>\u001b[0m in \u001b[0;36m<module>\u001b[1;34m\u001b[0m\n\u001b[1;32m----> 1\u001b[1;33m \u001b[0mresult1\u001b[0m \u001b[1;33m=\u001b[0m \u001b[0mgeneration_calculator\u001b[0m \u001b[1;33m(\u001b[0m\u001b[0mname1\u001b[0m\u001b[1;33m,\u001b[0m \u001b[0mbirthyear1\u001b[0m\u001b[1;33m)\u001b[0m\u001b[1;33m\u001b[0m\u001b[1;33m\u001b[0m\u001b[0m\n\u001b[0m\u001b[0;32m      2\u001b[0m \u001b[0mresult2\u001b[0m \u001b[1;33m=\u001b[0m \u001b[0mgeneration_calculator\u001b[0m \u001b[1;33m(\u001b[0m\u001b[0mname2\u001b[0m\u001b[1;33m,\u001b[0m \u001b[0mbirthyear2\u001b[0m\u001b[1;33m)\u001b[0m\u001b[1;33m\u001b[0m\u001b[1;33m\u001b[0m\u001b[0m\n\u001b[0;32m      3\u001b[0m \u001b[0mresult3\u001b[0m \u001b[1;33m=\u001b[0m \u001b[0mgeneration_calculator\u001b[0m \u001b[1;33m(\u001b[0m\u001b[0mname3\u001b[0m\u001b[1;33m,\u001b[0m \u001b[0mbirthyear3\u001b[0m\u001b[1;33m)\u001b[0m\u001b[1;33m\u001b[0m\u001b[1;33m\u001b[0m\u001b[0m\n",
      "\u001b[1;31mNameError\u001b[0m: name 'birthyear1' is not defined"
     ]
    }
   ],
   "source": [
    "result1 = generation_calculator (name1, birthyear1)\n",
    "result2 = generation_calculator (name2, birthyear2)\n",
    "result3 = generation_calculator (name3, birthyear3)"
   ]
  },
  {
   "cell_type": "code",
   "execution_count": 25,
   "metadata": {},
   "outputs": [
    {
     "ename": "NameError",
     "evalue": "name 'Birthyear2' is not defined",
     "output_type": "error",
     "traceback": [
      "\u001b[1;31m---------------------------------------------------------------------------\u001b[0m",
      "\u001b[1;31mNameError\u001b[0m                                 Traceback (most recent call last)",
      "\u001b[1;32m<ipython-input-25-3ee133a8ba00>\u001b[0m in \u001b[0;36m<module>\u001b[1;34m\u001b[0m\n\u001b[0;32m      1\u001b[0m \u001b[0mresult1\u001b[0m \u001b[1;33m=\u001b[0m \u001b[0mgeneration_calculator\u001b[0m \u001b[1;33m(\u001b[0m\u001b[0mname1\u001b[0m\u001b[1;33m,\u001b[0m \u001b[0mBirthyear1\u001b[0m\u001b[1;33m)\u001b[0m\u001b[1;33m\u001b[0m\u001b[1;33m\u001b[0m\u001b[0m\n\u001b[1;32m----> 2\u001b[1;33m \u001b[0mresult2\u001b[0m \u001b[1;33m=\u001b[0m \u001b[0mgeneration_calculator\u001b[0m \u001b[1;33m(\u001b[0m\u001b[0mname2\u001b[0m\u001b[1;33m,\u001b[0m \u001b[0mBirthyear2\u001b[0m\u001b[1;33m)\u001b[0m\u001b[1;33m\u001b[0m\u001b[1;33m\u001b[0m\u001b[0m\n\u001b[0m\u001b[0;32m      3\u001b[0m \u001b[0mresult3\u001b[0m \u001b[1;33m=\u001b[0m \u001b[0mgeneration_calculator\u001b[0m \u001b[1;33m(\u001b[0m\u001b[0mname3\u001b[0m\u001b[1;33m,\u001b[0m \u001b[0mBirthyear3\u001b[0m\u001b[1;33m)\u001b[0m\u001b[1;33m\u001b[0m\u001b[1;33m\u001b[0m\u001b[0m\n",
      "\u001b[1;31mNameError\u001b[0m: name 'Birthyear2' is not defined"
     ]
    }
   ],
   "source": [
    "result1 = generation_calculator (name1, Birthyear1)\n",
    "result2 = generation_calculator (name2, Birthyear2)\n",
    "result3 = generation_calculator (name3, Birthyear3)"
   ]
  },
  {
   "cell_type": "code",
   "execution_count": 26,
   "metadata": {},
   "outputs": [],
   "source": [
    "name1 = \"Mo\"\n",
    "birthyear1 = 1985\n",
    "\n",
    "name2 = \"Daniel\"\n",
    "birthyear2 = 1995\n",
    "\n",
    "name3 = \"Mike\"\n",
    "birthear3 = 1970\n",
    "\n",
    "name4 = \"Jayson\"\n",
    "birthyear4 = 1965\n",
    "\n",
    "name5 = \"Jean\"\n",
    "birthyear5 = 1945"
   ]
  },
  {
   "cell_type": "code",
   "execution_count": 27,
   "metadata": {},
   "outputs": [],
   "source": [
    "def generation_calculator(name,birthyear):\n",
    "    generation = birthyear\n",
    "    if generation < 1949:\n",
    "        return name + 'is part of the silent generation'\n",
    "    elif generation < 1969:\n",
    "        return name + 'is a baby boomer'\n",
    "    elif generation < 1981:\n",
    "        return name + 'is part of X generation'\n",
    "    elif generation < 1994:\n",
    "        return name + 'is a millenial'\n",
    "    else: \n",
    "        return name + 'Z generation'"
   ]
  },
  {
   "cell_type": "code",
   "execution_count": 28,
   "metadata": {},
   "outputs": [
    {
     "ename": "NameError",
     "evalue": "name 'birthyear3' is not defined",
     "output_type": "error",
     "traceback": [
      "\u001b[1;31m---------------------------------------------------------------------------\u001b[0m",
      "\u001b[1;31mNameError\u001b[0m                                 Traceback (most recent call last)",
      "\u001b[1;32m<ipython-input-28-e7fdbcf7d005>\u001b[0m in \u001b[0;36m<module>\u001b[1;34m\u001b[0m\n\u001b[0;32m      1\u001b[0m \u001b[0mresult1\u001b[0m \u001b[1;33m=\u001b[0m \u001b[0mgeneration_calculator\u001b[0m \u001b[1;33m(\u001b[0m\u001b[0mname1\u001b[0m\u001b[1;33m,\u001b[0m\u001b[0mbirthyear1\u001b[0m\u001b[1;33m)\u001b[0m\u001b[1;33m\u001b[0m\u001b[1;33m\u001b[0m\u001b[0m\n\u001b[0;32m      2\u001b[0m \u001b[0mresult2\u001b[0m \u001b[1;33m=\u001b[0m \u001b[0mgeneration_calculator\u001b[0m \u001b[1;33m(\u001b[0m\u001b[0mname2\u001b[0m\u001b[1;33m,\u001b[0m\u001b[0mbirthyear2\u001b[0m\u001b[1;33m)\u001b[0m\u001b[1;33m\u001b[0m\u001b[1;33m\u001b[0m\u001b[0m\n\u001b[1;32m----> 3\u001b[1;33m \u001b[0mresult3\u001b[0m \u001b[1;33m=\u001b[0m \u001b[0mgeneration_calculator\u001b[0m \u001b[1;33m(\u001b[0m\u001b[0mname3\u001b[0m\u001b[1;33m,\u001b[0m\u001b[0mbirthyear3\u001b[0m\u001b[1;33m)\u001b[0m\u001b[1;33m\u001b[0m\u001b[1;33m\u001b[0m\u001b[0m\n\u001b[0m\u001b[0;32m      4\u001b[0m \u001b[0mresult4\u001b[0m \u001b[1;33m=\u001b[0m \u001b[0mgeneration_calculator\u001b[0m \u001b[1;33m(\u001b[0m\u001b[0mname4\u001b[0m\u001b[1;33m,\u001b[0m\u001b[0mbirthyear4\u001b[0m\u001b[1;33m)\u001b[0m\u001b[1;33m\u001b[0m\u001b[1;33m\u001b[0m\u001b[0m\n\u001b[0;32m      5\u001b[0m \u001b[0mresult5\u001b[0m \u001b[1;33m=\u001b[0m \u001b[0mgeneration_calculator\u001b[0m \u001b[1;33m(\u001b[0m\u001b[0mname5\u001b[0m\u001b[1;33m,\u001b[0m\u001b[0mbirthyear5\u001b[0m\u001b[1;33m)\u001b[0m\u001b[1;33m\u001b[0m\u001b[1;33m\u001b[0m\u001b[0m\n",
      "\u001b[1;31mNameError\u001b[0m: name 'birthyear3' is not defined"
     ]
    }
   ],
   "source": [
    "result1 = generation_calculator (name1,birthyear1)\n",
    "result2 = generation_calculator (name2,birthyear2)\n",
    "result3 = generation_calculator (name3,birthyear3)\n",
    "result4 = generation_calculator (name4,birthyear4)\n",
    "result5 = generation_calculator (name5,birthyear5)"
   ]
  },
  {
   "cell_type": "code",
   "execution_count": 29,
   "metadata": {},
   "outputs": [],
   "source": [
    "name1 = \"Mo\"\n",
    "birthyear1 = 1985\n",
    "\n",
    "name2 = \"Daniel\"\n",
    "birthyear2 = 1995\n",
    "\n",
    "name3 = \"Mike\"\n",
    "birthyear3 = 1970\n",
    "\n",
    "name4 = \"Jayson\"\n",
    "birthyear4 = 1965\n",
    "\n",
    "name5 = \"Jean\"\n",
    "birthyear5 = 1945"
   ]
  },
  {
   "cell_type": "code",
   "execution_count": 31,
   "metadata": {},
   "outputs": [],
   "source": [
    "def generation_calculator(name,birthyear):\n",
    "    generation = birthyear\n",
    "    if generation < 1949:\n",
    "        return name + 'is part of the silent generation'\n",
    "    elif generation < 1969:\n",
    "        return name + 'is a baby boomer'\n",
    "    elif generation < 1981:\n",
    "        return name + 'is part of X generation'\n",
    "    elif generation < 1994:\n",
    "        return name + 'is a millenial'\n",
    "    else: \n",
    "        return name + 'Z generation'"
   ]
  },
  {
   "cell_type": "code",
   "execution_count": 32,
   "metadata": {},
   "outputs": [],
   "source": [
    "result1 = generation_calculator (name1,birthyear1)\n",
    "result2 = generation_calculator (name2,birthyear2)\n",
    "result3 = generation_calculator (name3,birthyear3)\n",
    "result4 = generation_calculator (name4,birthyear4)\n",
    "result5 = generation_calculator (name5,birthyear5)"
   ]
  },
  {
   "cell_type": "code",
   "execution_count": 33,
   "metadata": {},
   "outputs": [
    {
     "ename": "NameError",
     "evalue": "name 'genertation' is not defined",
     "output_type": "error",
     "traceback": [
      "\u001b[1;31m---------------------------------------------------------------------------\u001b[0m",
      "\u001b[1;31mNameError\u001b[0m                                 Traceback (most recent call last)",
      "\u001b[1;32m<ipython-input-33-238433674bd3>\u001b[0m in \u001b[0;36m<module>\u001b[1;34m\u001b[0m\n\u001b[1;32m----> 1\u001b[1;33m \u001b[0mprint\u001b[0m\u001b[1;33m(\u001b[0m\u001b[0mgenertation\u001b[0m\u001b[1;33m)\u001b[0m\u001b[1;33m\u001b[0m\u001b[1;33m\u001b[0m\u001b[0m\n\u001b[0m",
      "\u001b[1;31mNameError\u001b[0m: name 'genertation' is not defined"
     ]
    }
   ],
   "source": [
    "print(genertation)"
   ]
  },
  {
   "cell_type": "code",
   "execution_count": 34,
   "metadata": {},
   "outputs": [],
   "source": [
    "def generation_calculator(name,birthyear):\n",
    "    generation = birthyear\n",
    "    print(generation)\n",
    "    if generation < 1949:\n",
    "        return name + 'is part of the silent generation'\n",
    "    if generation < 1969:\n",
    "        return name + 'is a baby boomer'\n",
    "    if generation < 1981:\n",
    "        return name + 'is part of X generation'\n",
    "    if generation < 1994:\n",
    "        return name + 'is a millenial'\n",
    "    else: \n",
    "        return name + 'Z generation'"
   ]
  },
  {
   "cell_type": "code",
   "execution_count": 35,
   "metadata": {},
   "outputs": [
    {
     "name": "stdout",
     "output_type": "stream",
     "text": [
      "1985\n",
      "1995\n",
      "1970\n"
     ]
    }
   ],
   "source": [
    "result1 = generation_calculator (name1, birthyear1)\n",
    "result2 = generation_calculator (name2, birthyear2)\n",
    "result3 = generation_calculator (name3, birthyear3)"
   ]
  },
  {
   "cell_type": "code",
   "execution_count": 36,
   "metadata": {},
   "outputs": [],
   "source": [
    "def generation_calculator(name,birthyear):\n",
    "    generation = birthyear\n",
    "    print(\"Generation: \")\n",
    "    print(generation)\n",
    "    if generation < 1949:\n",
    "        return name + 'is part of the silent generation'\n",
    "    if generation < 1969:\n",
    "        return name + 'is a baby boomer'\n",
    "    if generation < 1981:\n",
    "        return name + 'is part of X generation'\n",
    "    if generation < 1994:\n",
    "        return name + 'is a millenial'\n",
    "    else: \n",
    "        return name + 'Z generation'"
   ]
  },
  {
   "cell_type": "code",
   "execution_count": 37,
   "metadata": {},
   "outputs": [
    {
     "name": "stdout",
     "output_type": "stream",
     "text": [
      "Generation: \n",
      "1985\n",
      "Generation: \n",
      "1995\n",
      "Generation: \n",
      "1970\n",
      "Generation: \n",
      "1965\n"
     ]
    }
   ],
   "source": [
    "result1 = generation_calculator (name1, birthyear1)\n",
    "result2 = generation_calculator (name2, birthyear2)\n",
    "result3 = generation_calculator (name3, birthyear3)\n",
    "result4 = generation_calculator (name4, birthyear4)"
   ]
  },
  {
   "cell_type": "code",
   "execution_count": 38,
   "metadata": {},
   "outputs": [
    {
     "name": "stdout",
     "output_type": "stream",
     "text": [
      "Mois a millenial\n"
     ]
    }
   ],
   "source": [
    "print(result1)"
   ]
  },
  {
   "cell_type": "code",
   "execution_count": 39,
   "metadata": {},
   "outputs": [
    {
     "name": "stdout",
     "output_type": "stream",
     "text": [
      "Mois a millenial\n",
      "DanielZ generation\n",
      "Mikeis part of X generation\n",
      "Jaysonis a baby boomer\n"
     ]
    }
   ],
   "source": [
    "print(result1)\n",
    "print(result2)\n",
    "print(result3)\n",
    "print(result4)\n"
   ]
  },
  {
   "cell_type": "code",
   "execution_count": 40,
   "metadata": {},
   "outputs": [],
   "source": [
    "name1 = \"Feki\"\n",
    "birth_month1 = \"October\"\n",
    "\n",
    "name2 = \"Marwan\"\n",
    "birth_month2 = \"February\"\n",
    "\n",
    "name3 = \"Miki\"\n",
    "birth_month3 = \"September\"\n",
    "\n",
    "name4 = \"Zico\"\n",
    "birth_month4 = \"January\"\n",
    "\n",
    "name5 = \"Shoukry\"\n",
    "birth_month5 = \"December\""
   ]
  },
  {
   "cell_type": "code",
   "execution_count": 41,
   "metadata": {},
   "outputs": [
    {
     "ename": "SyntaxError",
     "evalue": "invalid syntax (<ipython-input-41-af0b3185c67f>, line 2)",
     "output_type": "error",
     "traceback": [
      "\u001b[1;36m  File \u001b[1;32m\"<ipython-input-41-af0b3185c67f>\"\u001b[1;36m, line \u001b[1;32m2\u001b[0m\n\u001b[1;33m    horoscope = Birth Month\u001b[0m\n\u001b[1;37m                      ^\u001b[0m\n\u001b[1;31mSyntaxError\u001b[0m\u001b[1;31m:\u001b[0m invalid syntax\n"
     ]
    }
   ],
   "source": [
    "def horoscope_calculator(name,birth_month):\n",
    "    horoscope = Birth Month\n",
    "    print(\"Birth Month\")\n",
    "    print(horoscope)\n",
    "    if birth_month = 'October':\n",
    "        return name + \" is a Libra\"\n",
    "    if birth_month = 'February':\n",
    "        return name + \" is a Leo\"\n",
    "    if birth_month = 'September':\n",
    "        return name + \" is a Virgo\"\n",
    "    if birth_month = 'December':\n",
    "        return name + \" is a Capricorn\"\n",
    "    if a birth_month = 'January':\n",
    "        return name + \" is a Gemini\"\n",
    "    "
   ]
  },
  {
   "cell_type": "code",
   "execution_count": 42,
   "metadata": {},
   "outputs": [
    {
     "ename": "SyntaxError",
     "evalue": "invalid syntax (<ipython-input-42-c1b806b5df4f>, line 2)",
     "output_type": "error",
     "traceback": [
      "\u001b[1;36m  File \u001b[1;32m\"<ipython-input-42-c1b806b5df4f>\"\u001b[1;36m, line \u001b[1;32m2\u001b[0m\n\u001b[1;33m    horoscope = Birth Month\u001b[0m\n\u001b[1;37m                      ^\u001b[0m\n\u001b[1;31mSyntaxError\u001b[0m\u001b[1;31m:\u001b[0m invalid syntax\n"
     ]
    }
   ],
   "source": [
    "def horoscope_calculator(name,birth_month):\n",
    "    horoscope = Birth Month\n",
    "    print(\"Birth Month: \")\n",
    "    print(horoscope)\n",
    "    if birth_month = 'October':\n",
    "        return name + \" is a Libra\"\n",
    "    if birth_month = 'February':\n",
    "        return name + \" is a Leo\"\n",
    "    if birth_month = 'September':\n",
    "        return name + \" is a Virgo\"\n",
    "    if birth_month = 'December':\n",
    "        return name + \" is a Capricorn\"\n",
    "    if a birth_month = 'January':\n",
    "        return name + \" is a Gemini\""
   ]
  },
  {
   "cell_type": "code",
   "execution_count": 43,
   "metadata": {},
   "outputs": [
    {
     "ename": "SyntaxError",
     "evalue": "invalid syntax (<ipython-input-43-017b529bac56>, line 2)",
     "output_type": "error",
     "traceback": [
      "\u001b[1;36m  File \u001b[1;32m\"<ipython-input-43-017b529bac56>\"\u001b[1;36m, line \u001b[1;32m2\u001b[0m\n\u001b[1;33m    horoscope = Birth Month\u001b[0m\n\u001b[1;37m                      ^\u001b[0m\n\u001b[1;31mSyntaxError\u001b[0m\u001b[1;31m:\u001b[0m invalid syntax\n"
     ]
    }
   ],
   "source": [
    "def horoscope_calculator(name,birth_month):\n",
    "    horoscope = Birth Month\n",
    "    print(\"BirthMonth: \")\n",
    "    print(horoscope)\n",
    "    if birth_month = 'October':\n",
    "        return name + \" is a Libra\"\n",
    "    if birth_month = 'February':\n",
    "        return name + \" is a Leo\"\n",
    "    if birth_month = 'September':\n",
    "        return name + \" is a Virgo\"\n",
    "    if birth_month = 'December':\n",
    "        return name + \" is a Capricorn\"\n",
    "    if a birth_month = 'January':\n",
    "        return name + \" is a Gemini\""
   ]
  },
  {
   "cell_type": "code",
   "execution_count": 44,
   "metadata": {},
   "outputs": [
    {
     "ename": "SyntaxError",
     "evalue": "invalid syntax (<ipython-input-44-9840f792b165>, line 2)",
     "output_type": "error",
     "traceback": [
      "\u001b[1;36m  File \u001b[1;32m\"<ipython-input-44-9840f792b165>\"\u001b[1;36m, line \u001b[1;32m2\u001b[0m\n\u001b[1;33m    birth_month= Birth Month\u001b[0m\n\u001b[1;37m                       ^\u001b[0m\n\u001b[1;31mSyntaxError\u001b[0m\u001b[1;31m:\u001b[0m invalid syntax\n"
     ]
    }
   ],
   "source": [
    "def horoscope_calculator(name,birth_month):\n",
    "    birth_month= Birth Month\n",
    "    print(\"BirthMonth: \")\n",
    "    print(Brith Month)\n",
    "    if birth_month = 'October':\n",
    "        return name + \" is a Libra\"\n",
    "    if birth_month = 'February':\n",
    "        return name + \" is a Leo\"\n",
    "    if birth_month = 'September':\n",
    "        return name + \" is a Virgo\"\n",
    "    if birth_month = 'December':\n",
    "        return name + \" is a Capricorn\"\n",
    "    if a birth_month = 'January':\n",
    "        return name + \" is a Gemini\""
   ]
  },
  {
   "cell_type": "code",
   "execution_count": 45,
   "metadata": {},
   "outputs": [
    {
     "ename": "SyntaxError",
     "evalue": "invalid syntax (<ipython-input-45-858585162d92>, line 2)",
     "output_type": "error",
     "traceback": [
      "\u001b[1;36m  File \u001b[1;32m\"<ipython-input-45-858585162d92>\"\u001b[1;36m, line \u001b[1;32m2\u001b[0m\n\u001b[1;33m    Birth Month = birth_month\u001b[0m\n\u001b[1;37m          ^\u001b[0m\n\u001b[1;31mSyntaxError\u001b[0m\u001b[1;31m:\u001b[0m invalid syntax\n"
     ]
    }
   ],
   "source": [
    "def horoscope_calculator(name,birth_month):\n",
    "    Month = birth_month\n",
    "    print(\"BirthMonth: \")\n",
    "    print(Birth Month)\n",
    "    if birth_month = 'October':\n",
    "        return name + \" is a Libra\"\n",
    "    if birth_month = 'February':\n",
    "        return name + \" is a Leo\"\n",
    "    if birth_month = 'September':\n",
    "        return name + \" is a Virgo\"\n",
    "    if birth_month = 'December':\n",
    "        return name + \" is a Capricorn\"\n",
    "    if a birth_month = 'January':\n",
    "        return name + \" is a Gemini\""
   ]
  },
  {
   "cell_type": "code",
   "execution_count": 46,
   "metadata": {},
   "outputs": [
    {
     "ename": "SyntaxError",
     "evalue": "invalid syntax (<ipython-input-46-137f54ddbb10>, line 5)",
     "output_type": "error",
     "traceback": [
      "\u001b[1;36m  File \u001b[1;32m\"<ipython-input-46-137f54ddbb10>\"\u001b[1;36m, line \u001b[1;32m5\u001b[0m\n\u001b[1;33m    if birth_month = 'October':\u001b[0m\n\u001b[1;37m                   ^\u001b[0m\n\u001b[1;31mSyntaxError\u001b[0m\u001b[1;31m:\u001b[0m invalid syntax\n"
     ]
    }
   ],
   "source": [
    "def horoscope_calculator(name,birth_month):\n",
    "    Month = birth_month\n",
    "    print(\"BirthMonth: \")\n",
    "    print(Month)\n",
    "    if birth_month = 'October':\n",
    "        return name + \" is a Libra\"\n",
    "    if birth_month = 'February':\n",
    "        return name + \" is a Leo\"\n",
    "    if birth_month = 'September':\n",
    "        return name + \" is a Virgo\"\n",
    "    if birth_month = 'December':\n",
    "        return name + \" is a Capricorn\"\n",
    "    if a birth_month = 'January':\n",
    "        return name + \" is a Gemini\""
   ]
  },
  {
   "cell_type": "code",
   "execution_count": 47,
   "metadata": {},
   "outputs": [
    {
     "ename": "SyntaxError",
     "evalue": "invalid syntax (<ipython-input-47-d23e7abc1162>, line 13)",
     "output_type": "error",
     "traceback": [
      "\u001b[1;36m  File \u001b[1;32m\"<ipython-input-47-d23e7abc1162>\"\u001b[1;36m, line \u001b[1;32m13\u001b[0m\n\u001b[1;33m    if a birth_month == 'January':\u001b[0m\n\u001b[1;37m         ^\u001b[0m\n\u001b[1;31mSyntaxError\u001b[0m\u001b[1;31m:\u001b[0m invalid syntax\n"
     ]
    }
   ],
   "source": [
    "def horoscope_calculator(name,birth_month):\n",
    "    Month = birth_month\n",
    "    print(\"BirthMonth: \")\n",
    "    print(Month)\n",
    "    if birth_month == 'October':\n",
    "        return name + \" is a Libra\"\n",
    "    if birth_month == 'February':\n",
    "        return name + \" is a Leo\"\n",
    "    if birth_month == 'September':\n",
    "        return name + \" is a Virgo\"\n",
    "    if birth_month == 'December':\n",
    "        return name + \" is a Capricorn\"\n",
    "    if a birth_month == 'January':\n",
    "        return name + \" is a Gemini\""
   ]
  },
  {
   "cell_type": "code",
   "execution_count": 48,
   "metadata": {},
   "outputs": [
    {
     "ename": "SyntaxError",
     "evalue": "invalid syntax (<ipython-input-48-ff5e32c11c43>, line 13)",
     "output_type": "error",
     "traceback": [
      "\u001b[1;36m  File \u001b[1;32m\"<ipython-input-48-ff5e32c11c43>\"\u001b[1;36m, line \u001b[1;32m13\u001b[0m\n\u001b[1;33m    if a birth_month is 'January':\u001b[0m\n\u001b[1;37m         ^\u001b[0m\n\u001b[1;31mSyntaxError\u001b[0m\u001b[1;31m:\u001b[0m invalid syntax\n"
     ]
    }
   ],
   "source": [
    "def horoscope_calculator(name,birth_month):\n",
    "    Month = birth_month\n",
    "    print(\"BirthMonth: \")\n",
    "    print(Month)\n",
    "    if birth_month is'October':\n",
    "        return name + \" is a Libra\"\n",
    "    if birth_month is 'February':\n",
    "        return name + \" is a Leo\"\n",
    "    if birth_month is 'September':\n",
    "        return name + \" is a Virgo\"\n",
    "    if birth_month is 'December':\n",
    "        return name + \" is a Capricorn\"\n",
    "    if a birth_month is 'January':\n",
    "        return name + \" is a Gemini\""
   ]
  },
  {
   "cell_type": "code",
   "execution_count": 49,
   "metadata": {},
   "outputs": [
    {
     "name": "stderr",
     "output_type": "stream",
     "text": [
      "<>:5: SyntaxWarning: \"is\" with a literal. Did you mean \"==\"?\n",
      "<>:7: SyntaxWarning: \"is\" with a literal. Did you mean \"==\"?\n",
      "<>:9: SyntaxWarning: \"is\" with a literal. Did you mean \"==\"?\n",
      "<>:11: SyntaxWarning: \"is\" with a literal. Did you mean \"==\"?\n",
      "<>:5: SyntaxWarning: \"is\" with a literal. Did you mean \"==\"?\n",
      "<>:7: SyntaxWarning: \"is\" with a literal. Did you mean \"==\"?\n",
      "<>:9: SyntaxWarning: \"is\" with a literal. Did you mean \"==\"?\n",
      "<>:11: SyntaxWarning: \"is\" with a literal. Did you mean \"==\"?\n",
      "<ipython-input-49-9d03146a475c>:5: SyntaxWarning: \"is\" with a literal. Did you mean \"==\"?\n",
      "  if birth_month is'October':\n",
      "<ipython-input-49-9d03146a475c>:7: SyntaxWarning: \"is\" with a literal. Did you mean \"==\"?\n",
      "  if birth_month is 'February':\n",
      "<ipython-input-49-9d03146a475c>:9: SyntaxWarning: \"is\" with a literal. Did you mean \"==\"?\n",
      "  if birth_month is 'September':\n",
      "<ipython-input-49-9d03146a475c>:11: SyntaxWarning: \"is\" with a literal. Did you mean \"==\"?\n",
      "  if birth_month is 'December':\n"
     ]
    }
   ],
   "source": [
    "def horoscope_calculator(name,birth_month):\n",
    "    Month = birth_month\n",
    "    print(\"BirthMonth: \")\n",
    "    print(Month)\n",
    "    if birth_month is'October':\n",
    "        return name + \" is a Libra\"\n",
    "    if birth_month is 'February':\n",
    "        return name + \" is a Leo\"\n",
    "    if birth_month is 'September':\n",
    "        return name + \" is a Virgo\"\n",
    "    if birth_month is 'December':\n",
    "        return name + \" is a Capricorn\"\n",
    "    else:\n",
    "        return name + \" is a Gemini\""
   ]
  },
  {
   "cell_type": "code",
   "execution_count": 50,
   "metadata": {},
   "outputs": [],
   "source": [
    "def horoscope_calculator(name,birth_month):\n",
    "    Month = birth_month\n",
    "    print(\"BirthMonth: \")\n",
    "    print(Month)\n",
    "    if birth_month =='October':\n",
    "        return name + \" is a Libra\"\n",
    "    if birth_month == 'February':\n",
    "        return name + \" is a Leo\"\n",
    "    if birth_month == 'September':\n",
    "        return name + \" is a Virgo\"\n",
    "    if birth_month == 'December':\n",
    "        return name + \" is a Capricorn\"\n",
    "    else:\n",
    "        return name + \" is a Gemini\""
   ]
  },
  {
   "cell_type": "code",
   "execution_count": 51,
   "metadata": {},
   "outputs": [
    {
     "name": "stdout",
     "output_type": "stream",
     "text": [
      "BirthMonth: \n",
      "1985\n",
      "BirthMonth: \n",
      "1995\n",
      "BirthMonth: \n",
      "1970\n",
      "BirthMonth: \n",
      "1965\n",
      "BirthMonth: \n",
      "1945\n"
     ]
    }
   ],
   "source": [
    "result1 = horoscope_calculator(name1,birthyear1)\n",
    "result2 = horoscope_calculator(name2,birthyear2)\n",
    "result3 = horoscope_calculator(name3,birthyear3)\n",
    "result4 = horoscope_calculator(name4,birthyear4)\n",
    "result5 = horoscope_calculator(name5,birthyear5)"
   ]
  },
  {
   "cell_type": "code",
   "execution_count": 52,
   "metadata": {},
   "outputs": [
    {
     "name": "stdout",
     "output_type": "stream",
     "text": [
      "Feki is a Gemini\n",
      "Marwan is a Gemini\n",
      "Miki is a Gemini\n",
      "Zico is a Gemini\n",
      "Shoukry is a Gemini\n"
     ]
    }
   ],
   "source": [
    "print(result1)\n",
    "print(result2)\n",
    "print(result3)\n",
    "print(result4)\n",
    "print(result5)"
   ]
  },
  {
   "cell_type": "code",
   "execution_count": 53,
   "metadata": {},
   "outputs": [
    {
     "name": "stdout",
     "output_type": "stream",
     "text": [
      "BirthMonth: \n",
      "October\n"
     ]
    },
    {
     "ename": "NameError",
     "evalue": "name 'birth_year2' is not defined",
     "output_type": "error",
     "traceback": [
      "\u001b[1;31m---------------------------------------------------------------------------\u001b[0m",
      "\u001b[1;31mNameError\u001b[0m                                 Traceback (most recent call last)",
      "\u001b[1;32m<ipython-input-53-4440b097e0dc>\u001b[0m in \u001b[0;36m<module>\u001b[1;34m\u001b[0m\n\u001b[0;32m      1\u001b[0m \u001b[0mresult1\u001b[0m \u001b[1;33m=\u001b[0m \u001b[0mhoroscope_calculator\u001b[0m\u001b[1;33m(\u001b[0m\u001b[0mname1\u001b[0m\u001b[1;33m,\u001b[0m\u001b[0mbirth_month1\u001b[0m\u001b[1;33m)\u001b[0m\u001b[1;33m\u001b[0m\u001b[1;33m\u001b[0m\u001b[0m\n\u001b[1;32m----> 2\u001b[1;33m \u001b[0mresult2\u001b[0m \u001b[1;33m=\u001b[0m \u001b[0mhoroscope_calculator\u001b[0m\u001b[1;33m(\u001b[0m\u001b[0mname2\u001b[0m\u001b[1;33m,\u001b[0m\u001b[0mbirth_year2\u001b[0m\u001b[1;33m)\u001b[0m\u001b[1;33m\u001b[0m\u001b[1;33m\u001b[0m\u001b[0m\n\u001b[0m\u001b[0;32m      3\u001b[0m \u001b[0mresult3\u001b[0m \u001b[1;33m=\u001b[0m \u001b[0mhoroscope_calculator\u001b[0m\u001b[1;33m(\u001b[0m\u001b[0mname3\u001b[0m\u001b[1;33m,\u001b[0m\u001b[0mbirth_year3\u001b[0m\u001b[1;33m)\u001b[0m\u001b[1;33m\u001b[0m\u001b[1;33m\u001b[0m\u001b[0m\n\u001b[0;32m      4\u001b[0m \u001b[0mresult4\u001b[0m \u001b[1;33m=\u001b[0m \u001b[0mhoroscope_calculator\u001b[0m\u001b[1;33m(\u001b[0m\u001b[0mname4\u001b[0m\u001b[1;33m,\u001b[0m\u001b[0mbirth_year4\u001b[0m\u001b[1;33m)\u001b[0m\u001b[1;33m\u001b[0m\u001b[1;33m\u001b[0m\u001b[0m\n\u001b[0;32m      5\u001b[0m \u001b[0mresult5\u001b[0m \u001b[1;33m=\u001b[0m \u001b[0mhoroscope_calculator\u001b[0m\u001b[1;33m(\u001b[0m\u001b[0mname5\u001b[0m\u001b[1;33m,\u001b[0m\u001b[0mbirth_year5\u001b[0m\u001b[1;33m)\u001b[0m\u001b[1;33m\u001b[0m\u001b[1;33m\u001b[0m\u001b[0m\n",
      "\u001b[1;31mNameError\u001b[0m: name 'birth_year2' is not defined"
     ]
    }
   ],
   "source": [
    "result1 = horoscope_calculator(name1,birth_month1)\n",
    "result2 = horoscope_calculator(name2,birth_year2)\n",
    "result3 = horoscope_calculator(name3,birth_year3)\n",
    "result4 = horoscope_calculator(name4,birth_year4)\n",
    "result5 = horoscope_calculator(name5,birth_year5)"
   ]
  },
  {
   "cell_type": "code",
   "execution_count": 54,
   "metadata": {},
   "outputs": [
    {
     "name": "stdout",
     "output_type": "stream",
     "text": [
      "BirthMonth: \n",
      "October\n",
      "BirthMonth: \n",
      "February\n",
      "BirthMonth: \n",
      "September\n",
      "BirthMonth: \n",
      "January\n",
      "BirthMonth: \n",
      "December\n"
     ]
    }
   ],
   "source": [
    "result1 = horoscope_calculator(name1,birth_month1)\n",
    "result2 = horoscope_calculator(name2,birth_month2)\n",
    "result3 = horoscope_calculator(name3,birth_month3)\n",
    "result4 = horoscope_calculator(name4,birth_month4)\n",
    "result5 = horoscope_calculator(name5,birth_month5)"
   ]
  },
  {
   "cell_type": "code",
   "execution_count": 55,
   "metadata": {},
   "outputs": [
    {
     "name": "stdout",
     "output_type": "stream",
     "text": [
      "Feki is a Libra\n",
      "Marwan is a Leo\n",
      "Miki is a Virgo\n",
      "Zico is a Gemini\n",
      "Shoukry is a Capricorn\n"
     ]
    }
   ],
   "source": [
    "print(result1)\n",
    "print(result2)\n",
    "print(result3)\n",
    "print(result4)\n",
    "print(result5)"
   ]
  },
  {
   "cell_type": "code",
   "execution_count": 56,
   "metadata": {},
   "outputs": [],
   "source": [
    "name1 = \"Feki\"\n",
    "birth_month1 = \"October\"\n",
    "\n",
    "name2 = \"Marwan\"\n",
    "birth_month2 = \"February\"\n",
    "\n",
    "name3 = \"Miki\"\n",
    "birth_month3 = \"September\"\n",
    "\n",
    "name4 = \"Zico\"\n",
    "birth_month4 = \"January\"\n",
    "\n",
    "name5 = \"Shoukry\"\n",
    "birth_month5 = \"December\""
   ]
  },
  {
   "cell_type": "code",
   "execution_count": 57,
   "metadata": {},
   "outputs": [],
   "source": [
    "def horoscope_calculator(name,birth_month):\n",
    "    Month = birth_month\n",
    "    print(\"BirthMonth: \")\n",
    "    print(Month)\n",
    "    if birth_month =='October':\n",
    "        return name + \" is a Libra\"\n",
    "    if birth_month == 'February':\n",
    "        return name + \" is a Leo\"\n",
    "    if birth_month == 'September':\n",
    "        return name + \" is a Virgo\"\n",
    "    if birth_month == 'December':\n",
    "        return name + \" is a Capricorn\"\n",
    "    else:\n",
    "        return name + \" is a Gemini\""
   ]
  },
  {
   "cell_type": "code",
   "execution_count": 60,
   "metadata": {},
   "outputs": [
    {
     "name": "stdout",
     "output_type": "stream",
     "text": [
      "BirthMonth: \n",
      "October\n",
      "BirthMonth: \n",
      "February\n",
      "BirthMonth: \n",
      "September\n",
      "BirthMonth: \n",
      "January\n",
      "BirthMonth: \n",
      "December\n",
      "Feki is a Libra\n",
      "Marwan is a Leo\n",
      "Miki is a Virgo\n",
      "Zico is a Gemini\n",
      "Shoukry is a Capricorn\n"
     ]
    }
   ],
   "source": [
    "result1 = horoscope_calculator(name1,birth_month1)\n",
    "result2 = horoscope_calculator(name2,birth_month2)\n",
    "result3 = horoscope_calculator(name3,birth_month3)\n",
    "result4 = horoscope_calculator(name4,birth_month4)\n",
    "result5 = horoscope_calculator(name5,birth_month5)\n",
    "\n",
    "print(result1)\n",
    "print(result2)\n",
    "print(result3)\n",
    "print(result4)\n",
    "print(result5)"
   ]
  },
  {
   "cell_type": "code",
   "execution_count": 61,
   "metadata": {},
   "outputs": [
    {
     "name": "stdout",
     "output_type": "stream",
     "text": [
      "Feki is a Libra\n",
      "Marwan is a Leo\n",
      "Miki is a Virgo\n",
      "Zico is a Gemini\n",
      "Shoukry is a Capricorn\n"
     ]
    }
   ],
   "source": [
    "print(result1)\n",
    "print(result2)\n",
    "print(result3)\n",
    "print(result4)\n",
    "print(result5)\n"
   ]
  },
  {
   "cell_type": "code",
   "execution_count": 62,
   "metadata": {},
   "outputs": [],
   "source": [
    "def horoscope_calculator(name,birth_month):\n",
    "    Month = birth_month\n",
    "    print(\"BirthMonth: \")\n",
    "    print(Month)\n",
    "    if birth_month =='October':\n",
    "        return name + \" is a Libra\"\n",
    "    if birth_month == 'February':\n",
    "        return name + \" is a Leo\"\n",
    "    if birth_month == 'September':\n",
    "        return name + \" is a Virgo\"\n",
    "    if birth_month == 'December':\n",
    "        return name + \" is a Capricorn\"\n",
    "    else:\n",
    "        return name + \" is a Gemini\""
   ]
  },
  {
   "cell_type": "code",
   "execution_count": null,
   "metadata": {},
   "outputs": [],
   "source": []
  },
  {
   "cell_type": "code",
   "execution_count": 63,
   "metadata": {},
   "outputs": [
    {
     "name": "stdout",
     "output_type": "stream",
     "text": [
      "Feki is a Libra\n",
      "Marwan is a Leo\n",
      "Miki is a Virgo\n",
      "Zico is a Gemini\n",
      "Shoukry is a Capricorn\n"
     ]
    }
   ],
   "source": [
    "def horoscope_calculator(name,birth_month):\n",
    "    Month = birth_month\n",
    "    print(\"BirthMonth: \")\n",
    "    print(Month)\n",
    "    if birth_month =='October':\n",
    "        return name + \" is a Libra\"\n",
    "    if birth_month == 'February':\n",
    "        return name + \" is a Leo\"\n",
    "    if birth_month == 'September':\n",
    "        return name + \" is a Virgo\"\n",
    "    if birth_month == 'December':\n",
    "        return name + \" is a Capricorn\"\n",
    "    else:\n",
    "        return name + \" is a Gemini\"\n",
    "    \n",
    "    \n",
    "print(result1)\n",
    "print(result2)\n",
    "print(result3)\n",
    "print(result4)\n",
    "print(result5)"
   ]
  },
  {
   "cell_type": "code",
   "execution_count": 64,
   "metadata": {},
   "outputs": [
    {
     "name": "stdout",
     "output_type": "stream",
     "text": [
      "\n"
     ]
    }
   ],
   "source": [
    "def horoscope_calculator(name,birth_month):\n",
    "    Month = birth_month\n",
    "    print(\"BirthMonth: \")\n",
    "    print(Month)\n",
    "    if birth_month =='October':\n",
    "        return name + \" is a Libra\"\n",
    "    if birth_month == 'February':\n",
    "        return name + \" is a Leo\"\n",
    "    if birth_month == 'September':\n",
    "        return name + \" is a Virgo\"\n",
    "    if birth_month == 'December':\n",
    "        return name + \" is a Capricorn\"\n",
    "    else:\n",
    "        return name + \" is a Gemini\"\n",
    "print()"
   ]
  },
  {
   "cell_type": "code",
   "execution_count": null,
   "metadata": {},
   "outputs": [],
   "source": []
  }
 ],
 "metadata": {
  "kernelspec": {
   "display_name": "Python 3",
   "language": "python",
   "name": "python3"
  },
  "language_info": {
   "codemirror_mode": {
    "name": "ipython",
    "version": 3
   },
   "file_extension": ".py",
   "mimetype": "text/x-python",
   "name": "python",
   "nbconvert_exporter": "python",
   "pygments_lexer": "ipython3",
   "version": "3.8.8"
  }
 },
 "nbformat": 4,
 "nbformat_minor": 4
}
