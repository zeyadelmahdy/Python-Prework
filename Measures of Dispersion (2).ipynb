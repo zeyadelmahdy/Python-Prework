{
 "cells": [
  {
   "cell_type": "code",
   "execution_count": 1,
   "id": "d5c0e811",
   "metadata": {},
   "outputs": [],
   "source": [
    "lst = [12, 23, 43, 19, 1, 33, 76 , 100, 12, 54, 56, 98, 32, 54, 87]"
   ]
  },
  {
   "cell_type": "code",
   "execution_count": 2,
   "id": "efe86804",
   "metadata": {},
   "outputs": [
    {
     "data": {
      "text/plain": [
       "46.666666666666664"
      ]
     },
     "execution_count": 2,
     "metadata": {},
     "output_type": "execute_result"
    }
   ],
   "source": [
    "import statistics as stats\n",
    "stats.mean(lst)"
   ]
  },
  {
   "cell_type": "code",
   "execution_count": 3,
   "id": "f432061c",
   "metadata": {},
   "outputs": [
    {
     "name": "stdout",
     "output_type": "stream",
     "text": [
      "-40.333333333333336\n"
     ]
    }
   ],
   "source": [
    "a = []\n",
    "for i in lst:\n",
    "    a = stats.mean(lst) - i\n",
    "print(a)"
   ]
  },
  {
   "cell_type": "code",
   "execution_count": 4,
   "id": "e2e40bbd",
   "metadata": {},
   "outputs": [],
   "source": [
    "avg = stats.mean(lst)"
   ]
  },
  {
   "cell_type": "code",
   "execution_count": 5,
   "id": "aacc4937",
   "metadata": {},
   "outputs": [
    {
     "name": "stdout",
     "output_type": "stream",
     "text": [
      "34.666666666666664\n",
      "23.666666666666664\n",
      "3.6666666666666643\n",
      "27.666666666666664\n",
      "45.666666666666664\n",
      "13.666666666666664\n",
      "-29.333333333333336\n",
      "-53.333333333333336\n",
      "34.666666666666664\n",
      "-7.333333333333336\n",
      "-9.333333333333336\n",
      "-51.333333333333336\n",
      "14.666666666666664\n",
      "-7.333333333333336\n",
      "-40.333333333333336\n"
     ]
    }
   ],
   "source": [
    "a = []\n",
    "for i in lst:\n",
    "    a = avg - (i)\n",
    "    print(round.a,2)"
   ]
  },
  {
   "cell_type": "code",
   "execution_count": 6,
   "id": "e28d9f11",
   "metadata": {},
   "outputs": [
    {
     "ename": "AttributeError",
     "evalue": "'builtin_function_or_method' object has no attribute 'a'",
     "output_type": "error",
     "traceback": [
      "\u001b[1;31m---------------------------------------------------------------------------\u001b[0m",
      "\u001b[1;31mAttributeError\u001b[0m                            Traceback (most recent call last)",
      "\u001b[1;32m<ipython-input-6-5ac26c43e462>\u001b[0m in \u001b[0;36m<module>\u001b[1;34m\u001b[0m\n\u001b[0;32m      2\u001b[0m \u001b[1;32mfor\u001b[0m \u001b[0mi\u001b[0m \u001b[1;32min\u001b[0m \u001b[0mlst\u001b[0m\u001b[1;33m:\u001b[0m\u001b[1;33m\u001b[0m\u001b[1;33m\u001b[0m\u001b[0m\n\u001b[0;32m      3\u001b[0m     \u001b[0ma\u001b[0m \u001b[1;33m=\u001b[0m \u001b[0mavg\u001b[0m \u001b[1;33m-\u001b[0m \u001b[1;33m(\u001b[0m\u001b[0mi\u001b[0m\u001b[1;33m)\u001b[0m\u001b[1;33m\u001b[0m\u001b[1;33m\u001b[0m\u001b[0m\n\u001b[1;32m----> 4\u001b[1;33m     \u001b[0mprint\u001b[0m\u001b[1;33m(\u001b[0m\u001b[0mround\u001b[0m\u001b[1;33m.\u001b[0m\u001b[0ma\u001b[0m\u001b[1;33m,\u001b[0m\u001b[1;36m2\u001b[0m\u001b[1;33m)\u001b[0m\u001b[1;33m\u001b[0m\u001b[1;33m\u001b[0m\u001b[0m\n\u001b[0m",
      "\u001b[1;31mAttributeError\u001b[0m: 'builtin_function_or_method' object has no attribute 'a'"
     ]
    }
   ],
   "source": [
    "a = []\n",
    "for i in lst:\n",
    "    a = avg - (i)\n",
    "    print(round.a,2)"
   ]
  },
  {
   "cell_type": "code",
   "execution_count": 7,
   "id": "9ca45701",
   "metadata": {},
   "outputs": [
    {
     "name": "stdout",
     "output_type": "stream",
     "text": [
      "34.67\n",
      "23.67\n",
      "3.67\n",
      "27.67\n",
      "45.67\n",
      "13.67\n",
      "-29.33\n",
      "-53.33\n",
      "34.67\n",
      "-7.33\n",
      "-9.33\n",
      "-51.33\n",
      "14.67\n",
      "-7.33\n",
      "-40.33\n"
     ]
    }
   ],
   "source": [
    "a = []\n",
    "for i in lst:\n",
    "    a = avg - (i)\n",
    "    print(round(a,2))"
   ]
  },
  {
   "cell_type": "code",
   "execution_count": 8,
   "id": "14d7a064",
   "metadata": {},
   "outputs": [
    {
     "name": "stdout",
     "output_type": "stream",
     "text": [
      "1202.0089\n",
      "560.2689\n",
      "13.4689\n",
      "765.6289\n",
      "2085.7489\n",
      "186.8689\n",
      "860.2488999999999\n",
      "2844.0888999999997\n",
      "1202.0089\n",
      "53.7289\n",
      "87.0489\n",
      "2634.7689\n",
      "215.2089\n",
      "53.7289\n",
      "1626.5088999999998\n"
     ]
    }
   ],
   "source": [
    "a = []\n",
    "for i in lst:\n",
    "    a = avg - (i)\n",
    "    print(round(a,2)**2)"
   ]
  },
  {
   "cell_type": "code",
   "execution_count": 9,
   "id": "2a514fed",
   "metadata": {},
   "outputs": [
    {
     "ename": "TypeError",
     "evalue": "'float' object is not iterable",
     "output_type": "error",
     "traceback": [
      "\u001b[1;31m---------------------------------------------------------------------------\u001b[0m",
      "\u001b[1;31mTypeError\u001b[0m                                 Traceback (most recent call last)",
      "\u001b[1;32m<ipython-input-9-0f2ca1cf0e8d>\u001b[0m in \u001b[0;36m<module>\u001b[1;34m\u001b[0m\n\u001b[0;32m      2\u001b[0m \u001b[1;32mfor\u001b[0m \u001b[0mi\u001b[0m \u001b[1;32min\u001b[0m \u001b[0mlst\u001b[0m\u001b[1;33m:\u001b[0m\u001b[1;33m\u001b[0m\u001b[1;33m\u001b[0m\u001b[0m\n\u001b[0;32m      3\u001b[0m     \u001b[0ma\u001b[0m \u001b[1;33m=\u001b[0m \u001b[0mavg\u001b[0m \u001b[1;33m-\u001b[0m \u001b[1;33m(\u001b[0m\u001b[0mi\u001b[0m\u001b[1;33m)\u001b[0m\u001b[1;33m\u001b[0m\u001b[1;33m\u001b[0m\u001b[0m\n\u001b[1;32m----> 4\u001b[1;33m     \u001b[0mprint\u001b[0m\u001b[1;33m(\u001b[0m\u001b[0msum\u001b[0m\u001b[1;33m(\u001b[0m\u001b[0mround\u001b[0m\u001b[1;33m(\u001b[0m\u001b[0ma\u001b[0m\u001b[1;33m,\u001b[0m\u001b[1;36m2\u001b[0m\u001b[1;33m)\u001b[0m\u001b[1;33m**\u001b[0m\u001b[1;36m2\u001b[0m\u001b[1;33m)\u001b[0m\u001b[1;33m)\u001b[0m\u001b[1;33m\u001b[0m\u001b[1;33m\u001b[0m\u001b[0m\n\u001b[0m\u001b[0;32m      5\u001b[0m \u001b[1;33m\u001b[0m\u001b[0m\n",
      "\u001b[1;31mTypeError\u001b[0m: 'float' object is not iterable"
     ]
    }
   ],
   "source": [
    "a = []\n",
    "for i in lst:\n",
    "    a = avg - (i)\n",
    "    print(sum(round(a,2)**2))\n",
    "    "
   ]
  },
  {
   "cell_type": "code",
   "execution_count": 10,
   "id": "90f5e83b",
   "metadata": {},
   "outputs": [
    {
     "ename": "TypeError",
     "evalue": "'float' object is not iterable",
     "output_type": "error",
     "traceback": [
      "\u001b[1;31m---------------------------------------------------------------------------\u001b[0m",
      "\u001b[1;31mTypeError\u001b[0m                                 Traceback (most recent call last)",
      "\u001b[1;32m<ipython-input-10-53bd4f1fef6d>\u001b[0m in \u001b[0;36m<module>\u001b[1;34m\u001b[0m\n\u001b[0;32m      3\u001b[0m     \u001b[0ma\u001b[0m \u001b[1;33m=\u001b[0m \u001b[0mavg\u001b[0m \u001b[1;33m-\u001b[0m \u001b[1;33m(\u001b[0m\u001b[0mi\u001b[0m\u001b[1;33m)\u001b[0m\u001b[1;33m\u001b[0m\u001b[1;33m\u001b[0m\u001b[0m\n\u001b[0;32m      4\u001b[0m     \u001b[0mb\u001b[0m \u001b[1;33m=\u001b[0m \u001b[1;33m(\u001b[0m\u001b[1;33m(\u001b[0m\u001b[0mround\u001b[0m\u001b[1;33m(\u001b[0m\u001b[0ma\u001b[0m\u001b[1;33m,\u001b[0m\u001b[1;36m2\u001b[0m\u001b[1;33m)\u001b[0m\u001b[1;33m**\u001b[0m\u001b[1;36m2\u001b[0m\u001b[1;33m)\u001b[0m\u001b[1;33m)\u001b[0m\u001b[1;33m\u001b[0m\u001b[1;33m\u001b[0m\u001b[0m\n\u001b[1;32m----> 5\u001b[1;33m     \u001b[0mc\u001b[0m \u001b[1;33m=\u001b[0m \u001b[0msum\u001b[0m\u001b[1;33m(\u001b[0m\u001b[0mb\u001b[0m\u001b[1;33m)\u001b[0m\u001b[1;33m\u001b[0m\u001b[1;33m\u001b[0m\u001b[0m\n\u001b[0m\u001b[0;32m      6\u001b[0m     \u001b[0mprint\u001b[0m\u001b[1;33m(\u001b[0m\u001b[0mc\u001b[0m\u001b[1;33m)\u001b[0m\u001b[1;33m\u001b[0m\u001b[1;33m\u001b[0m\u001b[0m\n",
      "\u001b[1;31mTypeError\u001b[0m: 'float' object is not iterable"
     ]
    }
   ],
   "source": [
    "a = []\n",
    "b = []\n",
    "c = []\n",
    "for i in lst:\n",
    "    a = avg - (i)\n",
    "    b = ((round(a,2)**2))\n",
    "    c = sum(b)\n",
    "    print(c)"
   ]
  },
  {
   "cell_type": "code",
   "execution_count": 12,
   "id": "b4569c6f",
   "metadata": {},
   "outputs": [
    {
     "ename": "TypeError",
     "evalue": "'float' object is not iterable",
     "output_type": "error",
     "traceback": [
      "\u001b[1;31m---------------------------------------------------------------------------\u001b[0m",
      "\u001b[1;31mTypeError\u001b[0m                                 Traceback (most recent call last)",
      "\u001b[1;32m<ipython-input-12-6636d33f6e0b>\u001b[0m in \u001b[0;36m<module>\u001b[1;34m\u001b[0m\n\u001b[0;32m      6\u001b[0m     \u001b[0mb\u001b[0m \u001b[1;33m=\u001b[0m \u001b[1;33m(\u001b[0m\u001b[1;33m(\u001b[0m\u001b[0mround\u001b[0m\u001b[1;33m(\u001b[0m\u001b[0ma\u001b[0m\u001b[1;33m,\u001b[0m\u001b[1;36m2\u001b[0m\u001b[1;33m)\u001b[0m\u001b[1;33m**\u001b[0m\u001b[1;36m2\u001b[0m\u001b[1;33m)\u001b[0m\u001b[1;33m)\u001b[0m\u001b[1;33m\u001b[0m\u001b[1;33m\u001b[0m\u001b[0m\n\u001b[0;32m      7\u001b[0m \u001b[1;33m\u001b[0m\u001b[0m\n\u001b[1;32m----> 8\u001b[1;33m     \u001b[0mprint\u001b[0m\u001b[1;33m(\u001b[0m\u001b[0msum\u001b[0m\u001b[1;33m(\u001b[0m\u001b[0mb\u001b[0m\u001b[1;33m)\u001b[0m\u001b[1;33m)\u001b[0m\u001b[1;33m\u001b[0m\u001b[1;33m\u001b[0m\u001b[0m\n\u001b[0m",
      "\u001b[1;31mTypeError\u001b[0m: 'float' object is not iterable"
     ]
    }
   ],
   "source": [
    "a = []\n",
    "b = []\n",
    "c = []\n",
    "for i in lst:\n",
    "    a = avg - (i)\n",
    "    b = ((round(a,2)**2))\n",
    "    \n",
    "    print(sum(b))"
   ]
  },
  {
   "cell_type": "code",
   "execution_count": 13,
   "id": "dc5f06ac",
   "metadata": {},
   "outputs": [
    {
     "name": "stdout",
     "output_type": "stream",
     "text": [
      "1202.0089\n",
      "560.2689\n",
      "13.4689\n",
      "765.6289\n",
      "2085.7489\n",
      "186.8689\n",
      "860.2488999999999\n",
      "2844.0888999999997\n",
      "1202.0089\n",
      "53.7289\n",
      "87.0489\n",
      "2634.7689\n",
      "215.2089\n",
      "53.7289\n",
      "1626.5088999999998\n"
     ]
    }
   ],
   "source": [
    "a = []\n",
    "b = []\n",
    "c = []\n",
    "for i in lst:\n",
    "    a = avg - (i)\n",
    "    print((round(a,2)**2))\n",
    "    \n",
    "  "
   ]
  },
  {
   "cell_type": "code",
   "execution_count": 14,
   "id": "ff378a3b",
   "metadata": {},
   "outputs": [
    {
     "name": "stdout",
     "output_type": "stream",
     "text": [
      "1626.5088999999998\n"
     ]
    }
   ],
   "source": [
    "a = []\n",
    "b = []\n",
    "c = []\n",
    "for i in lst:\n",
    "    a = avg - (i)\n",
    "print((round(a,2)**2))\n",
    "    \n",
    "  "
   ]
  },
  {
   "cell_type": "code",
   "execution_count": 15,
   "id": "14be16ad",
   "metadata": {},
   "outputs": [
    {
     "data": {
      "text/plain": [
       "1027.952380952381"
      ]
     },
     "execution_count": 15,
     "metadata": {},
     "output_type": "execute_result"
    }
   ],
   "source": [
    "import statistics as stats\n",
    "stats.variance(lst)"
   ]
  },
  {
   "cell_type": "code",
   "execution_count": 16,
   "id": "a9bd5e6a",
   "metadata": {},
   "outputs": [],
   "source": [
    "lst = [12, 23, 43, 19, 1, 33, 76 , 100, 12, 54, 56, 98, 32, 54, 87]"
   ]
  },
  {
   "cell_type": "code",
   "execution_count": 17,
   "id": "7d5814f2",
   "metadata": {},
   "outputs": [
    {
     "data": {
      "text/plain": [
       "1027.952380952381"
      ]
     },
     "execution_count": 17,
     "metadata": {},
     "output_type": "execute_result"
    }
   ],
   "source": [
    "import statistics as stats\n",
    "stats.variance(lst)"
   ]
  },
  {
   "cell_type": "code",
   "execution_count": 18,
   "id": "00f6b070",
   "metadata": {},
   "outputs": [
    {
     "data": {
      "text/plain": [
       "32.06169647651822"
      ]
     },
     "execution_count": 18,
     "metadata": {},
     "output_type": "execute_result"
    }
   ],
   "source": [
    "stats.stdev(lst)"
   ]
  },
  {
   "cell_type": "code",
   "execution_count": 19,
   "id": "c9b12da3",
   "metadata": {},
   "outputs": [
    {
     "data": {
      "text/plain": [
       "array([-4,  6,  7, 11, 17, 19, 25])"
      ]
     },
     "execution_count": 19,
     "metadata": {},
     "output_type": "execute_result"
    }
   ],
   "source": [
    "points = [-4,  17,  25,  19,  6,  11,  7]\n",
    "\n",
    "import numpy as np\n",
    "np.sort(points)"
   ]
  },
  {
   "cell_type": "code",
   "execution_count": 20,
   "id": "173e2c68",
   "metadata": {},
   "outputs": [
    {
     "name": "stdout",
     "output_type": "stream",
     "text": [
      "(-4, 25)\n"
     ]
    }
   ],
   "source": [
    "Range = ((min(points), max(points)))\n",
    "print(Range)"
   ]
  },
  {
   "cell_type": "code",
   "execution_count": 21,
   "id": "5c10b31e",
   "metadata": {},
   "outputs": [
    {
     "data": {
      "text/plain": [
       "2.804757862395017"
      ]
     },
     "execution_count": 21,
     "metadata": {},
     "output_type": "execute_result"
    }
   ],
   "source": [
    "data = [2,4,7,1,6,8]\n",
    "\n",
    "import statistics as stats\n",
    "stats.stdev(data)"
   ]
  },
  {
   "cell_type": "code",
   "execution_count": 22,
   "id": "a1bb0690",
   "metadata": {},
   "outputs": [
    {
     "data": {
      "text/plain": [
       "4.131182235954578"
      ]
     },
     "execution_count": 22,
     "metadata": {},
     "output_type": "execute_result"
    }
   ],
   "source": [
    "data = [2,4,7,1,12,8]\n",
    "stats.stdev(data)"
   ]
  },
  {
   "cell_type": "code",
   "execution_count": 23,
   "id": "38e35fb0",
   "metadata": {},
   "outputs": [
    {
     "data": {
      "text/plain": [
       "0.0"
      ]
     },
     "execution_count": 23,
     "metadata": {},
     "output_type": "execute_result"
    }
   ],
   "source": [
    "a = [0,0,0,0]\n",
    "stats.stdev(a)"
   ]
  },
  {
   "cell_type": "code",
   "execution_count": 24,
   "id": "18fa4119",
   "metadata": {},
   "outputs": [
    {
     "data": {
      "text/plain": [
       "0.408248290463863"
      ]
     },
     "execution_count": 24,
     "metadata": {},
     "output_type": "execute_result"
    }
   ],
   "source": [
    "a = [0,0,0,0,0,1]\n",
    "stats.stdev(a)"
   ]
  },
  {
   "cell_type": "code",
   "execution_count": 25,
   "id": "f7921823",
   "metadata": {},
   "outputs": [
    {
     "data": {
      "text/plain": [
       "0.0"
      ]
     },
     "execution_count": 25,
     "metadata": {},
     "output_type": "execute_result"
    }
   ],
   "source": [
    "a = [0,0,0,0,0,0]\n",
    "stats.stdev(a)"
   ]
  },
  {
   "cell_type": "code",
   "execution_count": 26,
   "id": "efbcaddd",
   "metadata": {},
   "outputs": [
    {
     "data": {
      "text/plain": [
       "0.0"
      ]
     },
     "execution_count": 26,
     "metadata": {},
     "output_type": "execute_result"
    }
   ],
   "source": [
    "a = [1,1,1,1,1,1,1]\n",
    "stats.stdev(a)"
   ]
  },
  {
   "cell_type": "code",
   "execution_count": 27,
   "id": "45100da4",
   "metadata": {},
   "outputs": [
    {
     "name": "stdout",
     "output_type": "stream",
     "text": [
      "18.5\n",
      "29.5\n",
      "7.5\n",
      "-23.5\n",
      "7.5\n",
      "-39.5\n"
     ]
    }
   ],
   "source": [
    "data = [23, 12, 34, 65, 34, 81]\n",
    "\n",
    "a = []\n",
    "for i in data:\n",
    "    avg = stats.mean(data)\n",
    "    a = avg - (i)\n",
    "    print(a)\n"
   ]
  },
  {
   "cell_type": "code",
   "execution_count": 28,
   "id": "2e99b6ff",
   "metadata": {},
   "outputs": [
    {
     "name": "stdout",
     "output_type": "stream",
     "text": [
      "41.5\n"
     ]
    }
   ],
   "source": [
    "print(avg)"
   ]
  },
  {
   "cell_type": "code",
   "execution_count": 29,
   "id": "596c37ce",
   "metadata": {},
   "outputs": [
    {
     "name": "stdout",
     "output_type": "stream",
     "text": [
      "Deviation for item:  23 is:  -18.5\n",
      "Deviation for item:  12 is:  -29.5\n",
      "Deviation for item:  34 is:  -7.5\n",
      "Deviation for item:  65 is:  23.5\n",
      "Deviation for item:  34 is:  -7.5\n",
      "Deviation for item:  81 is:  39.5\n"
     ]
    }
   ],
   "source": [
    "data = [23, 12, 34, 65, 34, 81]\n",
    "for item in data:\n",
    "    print(\"Deviation for item: \", item, \"is: \", item - stats.mean(data))\n"
   ]
  },
  {
   "cell_type": "code",
   "execution_count": 30,
   "id": "74edb2fb",
   "metadata": {},
   "outputs": [
    {
     "name": "stdout",
     "output_type": "stream",
     "text": [
      "Deviation at  23  is  -18.5\n",
      "Deviation at  12  is  -29.5\n",
      "Deviation at  34  is  -7.5\n",
      "Deviation at  65  is  23.5\n",
      "Deviation at  34  is  -7.5\n",
      "Deviation at  81  is  39.5\n"
     ]
    }
   ],
   "source": [
    "data = [23, 12, 34, 65, 34, 81]\n",
    "\n",
    "a = []\n",
    "for i in data:\n",
    "    avg = stats.mean(data)\n",
    "    a = (i) - avg\n",
    "    print(\"Deviation at \", i, \" is \", a)"
   ]
  },
  {
   "cell_type": "code",
   "execution_count": null,
   "id": "7b363838",
   "metadata": {},
   "outputs": [],
   "source": []
  }
 ],
 "metadata": {
  "kernelspec": {
   "display_name": "Python 3",
   "language": "python",
   "name": "python3"
  },
  "language_info": {
   "codemirror_mode": {
    "name": "ipython",
    "version": 3
   },
   "file_extension": ".py",
   "mimetype": "text/x-python",
   "name": "python",
   "nbconvert_exporter": "python",
   "pygments_lexer": "ipython3",
   "version": "3.8.8"
  }
 },
 "nbformat": 4,
 "nbformat_minor": 5
}
