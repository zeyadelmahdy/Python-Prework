{
 "cells": [
  {
   "cell_type": "markdown",
   "metadata": {},
   "source": [
    "## What is Pseudo-code?"
   ]
  },
  {
   "cell_type": "markdown",
   "metadata": {},
   "source": [
    "Pseudo-code is an informal coding practice to help programmers plan algorithms and train programmatic thinking. \n",
    "Pseudo-code is not tied to any specific programming language such as Python, JavaScript, or C#. Instead, it uses human language. \n",
    "\n",
    "By using pseudo-code, you can plan every step of your program without worrying about syntax. \n",
    "\n",
    "Its greatest benefit is to allow you to discover the vulnerabilities and opportunities of your programmatic logic in order to improve it before implementation."
   ]
  },
  {
   "cell_type": "markdown",
   "metadata": {},
   "source": [
    "It is essentially breaking down the problem into simpler steps and simpler words. We shouldn't be aiming to use technical expressions, but simple conversational language. \n",
    "\n",
    "This process can be broken down into two steps: \n",
    "\n",
    "1. First, think about how you will approach the problem (which strategy you will use since quite often one problem can be solved in many different ways).\n",
    "\n",
    "2. Second, consider what elements you will need in each step (loops, lists, dictionaries, variables, conditionals, etc.).\n",
    "\n",
    "One way to achieve it is to write on a piece of paper each step you would like to do **even the most obvious step** and then figure out how to write the corresponding code.\n",
    "\n",
    "To know which elements you will need, **think in English!!!** and pay extreme attention to each word you say as this will tell you which python instructions you will need.\n",
    "\n",
    "Ex 1: For every element in this list I want to compute the square of each element.\n",
    "\n",
    "Look at the sentence, there are at least two keywords: **FOR, -> FOR LOOP**, and **list, -> list variable**\n",
    "\n",
    "Ex 2: As long as the runner hasn't reached the finish line keep running.\n",
    "\n",
    "Look at the sentence, there is a condition here for stop. Therefore you should use a **WHILE LOOP**. To make sure the code will run, you need to use a variable to store the state of the condition at the beginning. In addition, you will need another variable to store the progress of the runner!"
   ]
  },
  {
   "cell_type": "markdown",
   "metadata": {},
   "source": [
    "### Do's & Don'ts:"
   ]
  },
  {
   "cell_type": "markdown",
   "metadata": {},
   "source": [
    "#### Do's:"
   ]
  },
  {
   "cell_type": "markdown",
   "metadata": {},
   "source": [
    "- Use control structure\n",
    "- Use proper naming conventions\n",
    "- Indentations and white spaces are the key\n",
    "- Keep it simple\n",
    "- Keep it concise"
   ]
  },
  {
   "cell_type": "markdown",
   "metadata": {},
   "source": [
    "#### Don'ts:"
   ]
  },
  {
   "cell_type": "markdown",
   "metadata": {},
   "source": [
    "- Don't make your pseudo-code abstract\n",
    "- Don't be too generalized"
   ]
  },
  {
   "cell_type": "markdown",
   "metadata": {},
   "source": [
    "### Some Examples"
   ]
  },
  {
   "cell_type": "markdown",
   "metadata": {},
   "source": [
    "1. Write a program that asks the user for a temperature in Fahrenheit and prints out the same temperature in Celsius. "
   ]
  },
  {
   "cell_type": "code",
   "execution_count": 1,
   "metadata": {},
   "outputs": [],
   "source": [
    "# This is a sample pseudo code"
   ]
  },
  {
   "cell_type": "raw",
   "metadata": {},
   "source": [
    "x = Get user input\n",
    "y = Convert x to Celsius\n",
    "Output message displaying Celsius temperature"
   ]
  },
  {
   "cell_type": "code",
   "execution_count": 3,
   "metadata": {},
   "outputs": [],
   "source": [
    "# Here is the code "
   ]
  },
  {
   "cell_type": "code",
   "execution_count": 5,
   "metadata": {},
   "outputs": [
    {
     "name": "stdout",
     "output_type": "stream",
     "text": [
      "Please input a temperature in Fahrenheit. 100\n",
      "Data type for variable x is  <class 'str'>\n",
      "Your temperature in Celsius is: 37.77777777777778\n"
     ]
    }
   ],
   "source": [
    "# precise temperature\n",
    "# Use the input command for user input. Note when we use the input function, data type is string by default\n",
    "x=input('Please input a temperature in Fahrenheit. ')  \n",
    "            \n",
    "# We can check the data type for variable x\n",
    "print(\"Data type for variable x is \", type(x)) \n",
    "\n",
    "y=(float(x)-32)*5/9  # Formula to convert degree to fahreheit    \n",
    "\n",
    "print('Your temperature in Celsius is: ', y)"
   ]
  },
  {
   "cell_type": "markdown",
   "metadata": {},
   "source": [
    "2. Write a program that converts from Fahrenheit to Celsius or from Celsius to Fahrenheit, depending on the user's choice."
   ]
  },
  {
   "cell_type": "code",
   "execution_count": 7,
   "metadata": {},
   "outputs": [],
   "source": [
    "# This is a pseudo code"
   ]
  },
  {
   "cell_type": "raw",
   "metadata": {},
   "source": [
    "x = input \"Press 1 to convert from Fahrenheit to Celsius or Press 2 to convert from Celsius to Fahrenheit.\"\n",
    "y = input ask what number?\n",
    "z = choice\n",
    "\n",
    "if z = 1 (1 is pressed)  \n",
    "    do f to c conversion      # Note we use the correct identation in the pseudocode as well\n",
    "    print output\n",
    "elif z = 2 (2 is pressed)\n",
    "    do c to f conversion\n",
    "    print output\n",
    "else\n",
    "    print \"Please enter either 1 or 2\""
   ]
  },
  {
   "cell_type": "code",
   "execution_count": null,
   "metadata": {},
   "outputs": [],
   "source": [
    "# Here is the code "
   ]
  },
  {
   "cell_type": "code",
   "execution_count": 6,
   "metadata": {},
   "outputs": [
    {
     "name": "stdout",
     "output_type": "stream",
     "text": [
      "Press 1 to convert from Fahrenheit to Celsius or Press 2 to convert from Celsius to Fahrenheit.2\n",
      "What is the number you want to convert?30\n",
      "86.0\n"
     ]
    }
   ],
   "source": [
    "x = int(input(\"Press 1 to convert from Fahrenheit to Celsius or Press 2 to convert from Celsius to Fahrenheit.\"))\n",
    "y = input(\"What is the number you want to convert?\")\n",
    "z = float(x)\n",
    "\n",
    "if z == 1:\n",
    "    y=(float(y)-32)*5/9\n",
    "    print(y)\n",
    "elif z == 2:\n",
    "    y=float(y)*9/5+32\n",
    "    print(y)\n",
    "else:\n",
    "    print(\"Please enter either 1 or 2\")"
   ]
  },
  {
   "cell_type": "markdown",
   "metadata": {},
   "source": [
    "**Making the code more robust**"
   ]
  },
  {
   "cell_type": "markdown",
   "metadata": {},
   "source": [
    "What more can be added?   \n",
    "Right now, if we debug our code, after the first wrong input (let's say \"3\") the code will print an error message and stop.   \n",
    "\n",
    "To succeed with the request and improve the user experience, we need to keep on asking for the value until the correct one is received. Besides that, we should prevent compiling errors.  \n",
    "\n",
    "The `float()` function can receive only numerical values. What if a user enters a string value? The user will receive a Python error message which is useless for him.  \n",
    "\n",
    "We need to prevent such bad user experiences."
   ]
  },
  {
   "cell_type": "code",
   "execution_count": 8,
   "metadata": {},
   "outputs": [],
   "source": [
    "# This is a pseudo code"
   ]
  },
  {
   "cell_type": "raw",
   "metadata": {},
   "source": [
    "flag1 = entered value is wrong  \n",
    "# We are setting the default value to wrong/false. We will change the value to correct/true if the input value is correct                \n",
    "while flag1 is wrong\n",
    "    x = input \"Press 1 to convert from Fahrenheit to Celsius or Press 2 to convert from Celsius to Fahrenheit. \"\n",
    "    if x is not 1 or 2\n",
    "        print error message\n",
    "    else\n",
    "        z = choice\n",
    "        flag1 = entered value is correct\n",
    "\n",
    "flag2 = entered number is not a number\n",
    "while flag2 is wrong\n",
    "    y = input ask what number?\n",
    "    if y is not number\n",
    "        print error message\n",
    "    else\n",
    "        convert y into float number\n",
    "        flag2 = entered value is correct\n",
    "\n",
    "if z = 1 (1 is pressed)\n",
    "    do f to c conversion\n",
    "    print output\n",
    "else (2 is pressed)\n",
    "    do c to f conversion\n",
    "    print output"
   ]
  },
  {
   "cell_type": "code",
   "execution_count": 11,
   "metadata": {},
   "outputs": [],
   "source": [
    "# Here is the code "
   ]
  },
  {
   "cell_type": "code",
   "execution_count": 11,
   "metadata": {},
   "outputs": [
    {
     "name": "stdout",
     "output_type": "stream",
     "text": [
      "Press 1 to convert from Fahrenheit to Celsius or Press 2 to convert from Celsius to Fahrenheit. a\n",
      "ERROR: Please enter either 1 or 2\n",
      "Press 1 to convert from Fahrenheit to Celsius or Press 2 to convert from Celsius to Fahrenheit. 1\n",
      "What is the number you want to convert?a\n",
      "ERROR: Please enter a number\n",
      "What is the number you want to convert?100\n",
      "37.77777777777778\n"
     ]
    }
   ],
   "source": [
    "flag1=False\n",
    "while flag1==False:\n",
    "    x = input(\"Press 1 to convert from Fahrenheit to Celsius or Press 2 to convert from Celsius to Fahrenheit. \")\n",
    "    if x not in ['1','2']:\n",
    "        print('ERROR: Please enter either 1 or 2')\n",
    "    else:\n",
    "        z = int(x)\n",
    "        flag1=True\n",
    "\n",
    "flag2=False\n",
    "while flag2==False:\n",
    "    y = input(\"What is the number you want to convert?\")\n",
    "    if y.replace(\".\", \"\", 1).lstrip('+-').isdigit()==False:\n",
    "        print('ERROR: Please enter a number')\n",
    "    else:\n",
    "        y=float(y)\n",
    "        flag2=True\n",
    "\n",
    "if z == 1:\n",
    "    y=(y-32)*5/9\n",
    "    print(y)\n",
    "else:\n",
    "    y=y*9/5+32\n",
    "    print(y)"
   ]
  },
  {
   "cell_type": "code",
   "execution_count": null,
   "metadata": {},
   "outputs": [],
   "source": []
  },
  {
   "cell_type": "markdown",
   "metadata": {},
   "source": [
    "### Exercise - Writing Pseudocode"
   ]
  },
  {
   "cell_type": "markdown",
   "metadata": {},
   "source": [
    "#### Duel Of Sorcerers"
   ]
  },
  {
   "cell_type": "markdown",
   "metadata": {},
   "source": [
    "You are witnessing an epic battle between two powerful sorcerers: Gandalf and Saruman. \n",
    "Each sorcerer has 10 spells of variable power in their mind and they are going to throw them one after the other. \n",
    "The winner of the duel will be the one who wins more of those clashes between spells. Spells are represented as a list of 10 integers whose value equals the power of the spell.\n",
    "\n",
    "```shell\n",
    "gandalf = [10, 11, 13, 30, 22, 11, 10, 33, 22, 22]\n",
    "saruman = [23, 66, 12, 43, 12, 10, 44, 23, 12, 17]\n",
    "```\n",
    "\n",
    "For example:\n",
    "The first clash is won by Saruman: 10 against 23, wins 23\n",
    "The second clash wins Saruman: 11 against 66, wins 66\n",
    "etc.\n",
    "\n",
    "You will create two variables, one for each sorcerer, where the sum of clashes wins will be stored. Depending on which variable is greater at the end of the duel, you will show one of the following three results on the screen:\n",
    "- Gandalf wins\n",
    "- Saruman wins\n",
    "- Tie\n",
    "\n",
    "Write a pseudocode to solve this problem and then code it!"
   ]
  },
  {
   "cell_type": "markdown",
   "metadata": {},
   "source": [
    "Hints to solve this problem: \n",
    "\n",
    "- This is a tournament of a fixed length ( as many times as elements in any list, both have the same amount of elements), therefore, you know beforehand **how many times** Gandalf and Saruman will be fighting each other. Can you figure out the type of loop? \n",
    "\n",
    "- Moreover, you will have to **compare** the elements of each list in each fight. How you can make a comparison? How you can retrieve each element of both lists?\n",
    "\n",
    "- Then, you will need to keep track of how many times each sorcerer won any fight. That is **counting!!**, you will need some variables to store this progress.\n",
    "\n",
    "- Finally, at the end of the tournament, you will need to **compare** the number of wins of each sorcerer and make a decision based on this comparison.\n",
    "\n",
    "Good luck!\n"
   ]
  },
  {
   "cell_type": "code",
   "execution_count": 1,
   "metadata": {},
   "outputs": [
    {
     "ename": "SyntaxError",
     "evalue": "invalid syntax (<ipython-input-1-f4dd7bd779c5>, line 6)",
     "output_type": "error",
     "traceback": [
      "\u001b[1;36m  File \u001b[1;32m\"<ipython-input-1-f4dd7bd779c5>\"\u001b[1;36m, line \u001b[1;32m6\u001b[0m\n\u001b[1;33m    if gandalf[i] > saruman[i]\u001b[0m\n\u001b[1;37m                              ^\u001b[0m\n\u001b[1;31mSyntaxError\u001b[0m\u001b[1;31m:\u001b[0m invalid syntax\n"
     ]
    }
   ],
   "source": [
    "gandalf_wins = 0\n",
    "saruman_wins = 0 \n",
    "spells = 10\n",
    "\n",
    "for i in range(spells):\n",
    "    if gandalf[i] > saruman[i]\n",
    "    gandalf_wins += 1\n",
    "    \n",
    "    if saruman[i]>gandalf[i]\n",
    "    saruman_wins += 1\n",
    "    \n",
    "if gandalf_wins > saruman_wins:\n",
    "    print(\"gandalf won\")\n",
    "    \n",
    "elif saruman_wins > gandalf_wins:\n",
    "    print(\"saruman won\")\n",
    "else: \n",
    "    print(\"tie\")\n"
   ]
  },
  {
   "cell_type": "code",
   "execution_count": 2,
   "metadata": {},
   "outputs": [
    {
     "ename": "NameError",
     "evalue": "name 'gandalf' is not defined",
     "output_type": "error",
     "traceback": [
      "\u001b[1;31m---------------------------------------------------------------------------\u001b[0m",
      "\u001b[1;31mNameError\u001b[0m                                 Traceback (most recent call last)",
      "\u001b[1;32m<ipython-input-2-b659106bd964>\u001b[0m in \u001b[0;36m<module>\u001b[1;34m\u001b[0m\n\u001b[0;32m      4\u001b[0m \u001b[1;33m\u001b[0m\u001b[0m\n\u001b[0;32m      5\u001b[0m \u001b[1;32mfor\u001b[0m \u001b[0mi\u001b[0m \u001b[1;32min\u001b[0m \u001b[0mrange\u001b[0m\u001b[1;33m(\u001b[0m\u001b[0mspells\u001b[0m\u001b[1;33m)\u001b[0m\u001b[1;33m:\u001b[0m\u001b[1;33m\u001b[0m\u001b[1;33m\u001b[0m\u001b[0m\n\u001b[1;32m----> 6\u001b[1;33m     \u001b[1;32mif\u001b[0m \u001b[0mgandalf\u001b[0m\u001b[1;33m[\u001b[0m\u001b[0mi\u001b[0m\u001b[1;33m]\u001b[0m \u001b[1;33m>\u001b[0m \u001b[0msaruman\u001b[0m\u001b[1;33m[\u001b[0m\u001b[0mi\u001b[0m\u001b[1;33m]\u001b[0m\u001b[1;33m:\u001b[0m\u001b[1;33m\u001b[0m\u001b[1;33m\u001b[0m\u001b[0m\n\u001b[0m\u001b[0;32m      7\u001b[0m         \u001b[0mgandalf_wins\u001b[0m \u001b[1;33m+=\u001b[0m \u001b[1;36m1\u001b[0m\u001b[1;33m\u001b[0m\u001b[1;33m\u001b[0m\u001b[0m\n\u001b[0;32m      8\u001b[0m \u001b[1;33m\u001b[0m\u001b[0m\n",
      "\u001b[1;31mNameError\u001b[0m: name 'gandalf' is not defined"
     ]
    }
   ],
   "source": [
    "gandalf_wins = 0\n",
    "saruman_wins = 0 \n",
    "spells = 10\n",
    "\n",
    "for i in range(spells):\n",
    "    if gandalf[i] > saruman[i]:\n",
    "        gandalf_wins += 1\n",
    "    \n",
    "    if saruman[i]>gandalf[i]:\n",
    "        saruman_wins += 1\n",
    "    \n",
    "if gandalf_wins > saruman_wins:\n",
    "    print(\"gandalf won\")\n",
    "    \n",
    "elif saruman_wins > gandalf_wins:\n",
    "    print(\"saruman won\")\n",
    "else: \n",
    "    print(\"tie\")\n"
   ]
  },
  {
   "cell_type": "code",
   "execution_count": 3,
   "metadata": {},
   "outputs": [],
   "source": [
    "gandalf = [10, 11, 13, 30, 22, 11, 10, 33, 22, 22]\n",
    "saruman = [23, 66, 12, 43, 12, 10, 44, 23, 12, 17]"
   ]
  },
  {
   "cell_type": "code",
   "execution_count": null,
   "metadata": {},
   "outputs": [],
   "source": []
  },
  {
   "cell_type": "code",
   "execution_count": 4,
   "metadata": {},
   "outputs": [
    {
     "name": "stdout",
     "output_type": "stream",
     "text": [
      "gandalf won\n"
     ]
    }
   ],
   "source": [
    "gandalf_wins = 0\n",
    "saruman_wins = 0 \n",
    "spells = 10\n",
    "\n",
    "for i in range(spells):\n",
    "    if gandalf[i] > saruman[i]:\n",
    "        gandalf_wins += 1\n",
    "    \n",
    "    if saruman[i]>gandalf[i]:\n",
    "        saruman_wins += 1\n",
    "    \n",
    "if gandalf_wins > saruman_wins:\n",
    "    print(\"gandalf won\")\n",
    "    \n",
    "elif saruman_wins > gandalf_wins:\n",
    "    print(\"saruman won\")\n",
    "else: \n",
    "    print(\"tie\")"
   ]
  },
  {
   "cell_type": "code",
   "execution_count": null,
   "metadata": {},
   "outputs": [],
   "source": []
  }
 ],
 "metadata": {
  "kernelspec": {
   "display_name": "Python 3",
   "language": "python",
   "name": "python3"
  },
  "language_info": {
   "codemirror_mode": {
    "name": "ipython",
    "version": 3
   },
   "file_extension": ".py",
   "mimetype": "text/x-python",
   "name": "python",
   "nbconvert_exporter": "python",
   "pygments_lexer": "ipython3",
   "version": "3.8.8"
  }
 },
 "nbformat": 4,
 "nbformat_minor": 2
}
